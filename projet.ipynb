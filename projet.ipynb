{
 "cells": [
  {
   "attachments": {},
   "cell_type": "markdown",
   "metadata": {},
   "source": [
    "# Projet - Atelier Data Science"
   ]
  },
  {
   "attachments": {},
   "cell_type": "markdown",
   "metadata": {},
   "source": [
    "## Introduction"
   ]
  },
  {
   "attachments": {},
   "cell_type": "markdown",
   "metadata": {},
   "source": [
    "Lorem Ipsum is simply dummy text of the printing and typesetting industry. Lorem Ipsum has been the industry's standard dummy text ever since the 1500s, when an unknown printer took a galley of type and scrambled it to make a type specimen book. It has survived not only five centuries, but also the leap into electronic typesetting, remaining essentially unchanged. It was popularised in the 1960s with the release of Letraset sheets containing Lorem Ipsum passages, and more recently with desktop publishing software like Aldus PageMaker including versions of Lorem Ipsum."
   ]
  },
  {
   "attachments": {},
   "cell_type": "markdown",
   "metadata": {},
   "source": [
    "### Importation des librairies "
   ]
  },
  {
   "cell_type": "code",
   "execution_count": 165,
   "metadata": {},
   "outputs": [],
   "source": [
    "import pandas as pd\n",
    "import matplotlib.pyplot as plt\n",
    "import seaborn as sns\n",
    "import numpy as np\n",
    "from sklearn.model_selection import train_test_split\n",
    "from sklearn import preprocessing\n",
    "from sklearn.neighbors import KNeighborsRegressor\n",
    "from sklearn.preprocessing import StandardScaler\n",
    "from sklearn.preprocessing import LabelEncoder, OneHotEncoder, MinMaxScaler\n",
    "from sklearn.metrics import accuracy_score\n",
    "from sklearn.compose import ColumnTransformer\n",
    "from sklearn.cluster import KMeans\n",
    "from sklearn.pipeline import Pipeline\n",
    "from sklearn.linear_model import LinearRegression, Ridge, Lasso\n",
    "from sklearn.tree import DecisionTreeRegressor\n",
    "from sklearn.ensemble import RandomForestRegressor\n",
    "from sklearn.metrics import mean_squared_error, mean_absolute_error, r2_score\n",
    "import geopandas as gpd\n",
    "import unidecode\n",
    "import plotly.express as px\n",
    "import plotly.graph_objects as go\n",
    "from plotly.subplots import make_subplots\n",
    "import plotly.express as px\n",
    "from geopandas import GeoDataFrame\n",
    "from sklearn.preprocessing import LabelEncoder\n"
   ]
  },
  {
   "attachments": {},
   "cell_type": "markdown",
   "metadata": {},
   "source": [
    "# Préparation des données"
   ]
  },
  {
   "attachments": {},
   "cell_type": "markdown",
   "metadata": {},
   "source": [
    "Nous faisons le choix d'appliquer la préparation des données sur les années 2018 et 2022. En effet, nous pourrons donc voir l'impact du COVID sur les DVF."
   ]
  },
  {
   "attachments": {},
   "cell_type": "markdown",
   "metadata": {},
   "source": [
    "### Importation des données"
   ]
  },
  {
   "attachments": {},
   "cell_type": "markdown",
   "metadata": {},
   "source": [
    "On va commencer par faire le traitement des données sur l'année 2022 puis on l'appliquera sur l'année 2018 pour comparer avant et après COVID. "
   ]
  },
  {
   "cell_type": "code",
   "execution_count": 166,
   "metadata": {},
   "outputs": [
    {
     "name": "stderr",
     "output_type": "stream",
     "text": [
      "/var/folders/bk/7b_bwg6x6gjc8hq_4skf_9c00000gn/T/ipykernel_88886/3825086382.py:1: DtypeWarning:\n",
      "\n",
      "Columns (18,23,24,26,28,41) have mixed types. Specify dtype option on import or set low_memory=False.\n",
      "\n",
      "/var/folders/bk/7b_bwg6x6gjc8hq_4skf_9c00000gn/T/ipykernel_88886/3825086382.py:2: DtypeWarning:\n",
      "\n",
      "Columns (14,18,23,24,26,28,32,41) have mixed types. Specify dtype option on import or set low_memory=False.\n",
      "\n"
     ]
    }
   ],
   "source": [
    "df_2022 = pd.read_csv(\"./valeursfoncieres-2022.txt\", sep=\"|\", decimal=\",\")\n",
    "df_2018 = pd.read_csv(\"./valeursfoncieres-2018.txt\", sep=\"|\", decimal=\",\")"
   ]
  },
  {
   "cell_type": "code",
   "execution_count": 167,
   "metadata": {},
   "outputs": [
    {
     "name": "stdout",
     "output_type": "stream",
     "text": [
      "<class 'pandas.core.frame.DataFrame'>\n",
      "RangeIndex: 3803885 entries, 0 to 3803884\n",
      "Data columns (total 43 columns):\n",
      " #   Column                      Dtype  \n",
      "---  ------                      -----  \n",
      " 0   Identifiant de document     float64\n",
      " 1   Reference document          float64\n",
      " 2   1 Articles CGI              float64\n",
      " 3   2 Articles CGI              float64\n",
      " 4   3 Articles CGI              float64\n",
      " 5   4 Articles CGI              float64\n",
      " 6   5 Articles CGI              float64\n",
      " 7   No disposition              int64  \n",
      " 8   Date mutation               object \n",
      " 9   Nature mutation             object \n",
      " 10  Valeur fonciere             float64\n",
      " 11  No voie                     float64\n",
      " 12  B/T/Q                       object \n",
      " 13  Type de voie                object \n",
      " 14  Code voie                   object \n",
      " 15  Voie                        object \n",
      " 16  Code postal                 float64\n",
      " 17  Commune                     object \n",
      " 18  Code departement            object \n",
      " 19  Code commune                int64  \n",
      " 20  Prefixe de section          float64\n",
      " 21  Section                     object \n",
      " 22  No plan                     int64  \n",
      " 23  No Volume                   object \n",
      " 24  1er lot                     object \n",
      " 25  Surface Carrez du 1er lot   float64\n",
      " 26  2eme lot                    object \n",
      " 27  Surface Carrez du 2eme lot  float64\n",
      " 28  3eme lot                    object \n",
      " 29  Surface Carrez du 3eme lot  float64\n",
      " 30  4eme lot                    float64\n",
      " 31  Surface Carrez du 4eme lot  float64\n",
      " 32  5eme lot                    float64\n",
      " 33  Surface Carrez du 5eme lot  float64\n",
      " 34  Nombre de lots              int64  \n",
      " 35  Code type local             float64\n",
      " 36  Type local                  object \n",
      " 37  Identifiant local           float64\n",
      " 38  Surface reelle bati         float64\n",
      " 39  Nombre pieces principales   float64\n",
      " 40  Nature culture              object \n",
      " 41  Nature culture speciale     object \n",
      " 42  Surface terrain             float64\n",
      "dtypes: float64(23), int64(4), object(16)\n",
      "memory usage: 1.2+ GB\n",
      "None\n"
     ]
    }
   ],
   "source": [
    "print(df_2022.info())"
   ]
  },
  {
   "attachments": {},
   "cell_type": "markdown",
   "metadata": {},
   "source": [
    "Nous allons chercher le pourcentage de données manquantes par colonnes pour savoir quelles données nous devons garder."
   ]
  },
  {
   "cell_type": "code",
   "execution_count": 168,
   "metadata": {},
   "outputs": [
    {
     "data": {
      "text/plain": [
       "Identifiant de document       100.000000\n",
       "Reference document            100.000000\n",
       "1 Articles CGI                100.000000\n",
       "2 Articles CGI                100.000000\n",
       "3 Articles CGI                100.000000\n",
       "4 Articles CGI                100.000000\n",
       "5 Articles CGI                100.000000\n",
       "No disposition                  0.000000\n",
       "Date mutation                   0.000000\n",
       "Nature mutation                 0.000000\n",
       "Valeur fonciere                 0.649888\n",
       "No voie                        34.733621\n",
       "B/T/Q                          95.374019\n",
       "Type de voie                   36.984294\n",
       "Code voie                       1.026398\n",
       "Voie                            1.029290\n",
       "Code postal                     1.029816\n",
       "Commune                         0.000000\n",
       "Code departement                0.000000\n",
       "Code commune                    0.000000\n",
       "Prefixe de section             95.824295\n",
       "Section                         0.004075\n",
       "No plan                         0.000000\n",
       "No Volume                      99.765792\n",
       "1er lot                        66.631142\n",
       "Surface Carrez du 1er lot      90.332568\n",
       "2eme lot                       89.535278\n",
       "Surface Carrez du 2eme lot     96.741752\n",
       "3eme lot                       98.134670\n",
       "Surface Carrez du 3eme lot     99.635662\n",
       "4eme lot                       99.402611\n",
       "Surface Carrez du 4eme lot     99.911880\n",
       "5eme lot                       99.744130\n",
       "Surface Carrez du 5eme lot     99.967481\n",
       "Nombre de lots                  0.000000\n",
       "Code type local                39.918478\n",
       "Type local                     39.918478\n",
       "Identifiant local             100.000000\n",
       "Surface reelle bati            39.973396\n",
       "Nombre pieces principales      39.973396\n",
       "Nature culture                 33.830912\n",
       "Nature culture speciale        95.934262\n",
       "Surface terrain                33.830912\n",
       "dtype: float64"
      ]
     },
     "execution_count": 168,
     "metadata": {},
     "output_type": "execute_result"
    }
   ],
   "source": [
    "(df_2022.isnull().sum()/len(df_2022))*100"
   ]
  },
  {
   "cell_type": "code",
   "execution_count": 169,
   "metadata": {},
   "outputs": [
    {
     "name": "stdout",
     "output_type": "stream",
     "text": [
      "En 2022, 1% correspond à  38038  valeurs du dataset\n",
      "En 2018, 1% correspond à  33352  valeurs du dataset\n"
     ]
    }
   ],
   "source": [
    "print(\"En 2022, 1% correspond à \", int(len(df_2022)*0.01), \" valeurs du dataset\")\n",
    "print(\"En 2018, 1% correspond à \", int(len(df_2018)*0.01), \" valeurs du dataset\")"
   ]
  },
  {
   "attachments": {},
   "cell_type": "markdown",
   "metadata": {},
   "source": [
    "#### Suppression des colonnes sans données"
   ]
  },
  {
   "cell_type": "code",
   "execution_count": 170,
   "metadata": {},
   "outputs": [
    {
     "name": "stdout",
     "output_type": "stream",
     "text": [
      "Suppression de 8 colonnes sans données\n"
     ]
    }
   ],
   "source": [
    "initial_length = len(df_2022.columns)\n",
    "df_2022.dropna(how='all', axis=1, inplace=True)\n",
    "print(\"Suppression de {} colonnes sans données\".format(initial_length-len(df_2022.columns)))"
   ]
  },
  {
   "attachments": {},
   "cell_type": "markdown",
   "metadata": {},
   "source": [
    "#### Suppression des lignes en double"
   ]
  },
  {
   "cell_type": "code",
   "execution_count": 171,
   "metadata": {},
   "outputs": [
    {
     "name": "stdout",
     "output_type": "stream",
     "text": [
      "Suppression des doublons: 269260\n"
     ]
    }
   ],
   "source": [
    "initial_length = len(df_2022)\n",
    "df_2022.drop_duplicates(inplace=True)\n",
    "print(\"Suppression des doublons: {}\".format(initial_length-len(df_2022)))\n"
   ]
  },
  {
   "attachments": {},
   "cell_type": "markdown",
   "metadata": {},
   "source": [
    "#### Suppression des colonnes qui n'ont pas d'intérêt pour l'analyse"
   ]
  },
  {
   "cell_type": "code",
   "execution_count": 172,
   "metadata": {},
   "outputs": [],
   "source": [
    "df_2022.drop(['Voie', 'B/T/Q'],axis=1, inplace=True)\n",
    "df_2022.drop(['Prefixe de section', 'Section', 'No plan'],axis=1, inplace=True)\n",
    "df_2022.drop(['No disposition'],axis=1, inplace=True)\n",
    "df_2022.drop(['No Volume'],axis=1, inplace=True)\n",
    "df_2022.drop(['Nature culture speciale', 'Nature culture'],axis=1, inplace=True)\n",
    "df_2022.drop(['Code type local'],axis=1, inplace=True)\n",
    "df_2022.drop(['Code voie'],axis=1, inplace=True)\n",
    "df_2022.drop(['No voie'],axis=1, inplace=True)\n",
    "df_2022.drop(['Code commune'],axis=1, inplace=True)\n",
    "df_2022.drop(['Commune'],axis=1, inplace=True)\n",
    "df_2022.drop(['5eme lot'],axis=1, inplace=True)\n",
    "df_2022.drop(['4eme lot'],axis=1, inplace=True)\n",
    "df_2022.drop(['3eme lot'],axis=1, inplace=True)\n",
    "df_2022.drop(['2eme lot'],axis=1, inplace=True)\n",
    "df_2022.drop(['1er lot'],axis=1, inplace=True)\n",
    "df_2022.drop(['Surface Carrez du 1er lot'],axis=1, inplace=True)\n",
    "df_2022.drop(['Surface Carrez du 2eme lot'],axis=1, inplace=True)\n",
    "df_2022.drop(['Surface Carrez du 3eme lot'],axis=1, inplace=True)\n",
    "df_2022.drop(['Surface Carrez du 4eme lot'],axis=1, inplace=True)\n",
    "df_2022.drop(['Surface Carrez du 5eme lot'],axis=1, inplace=True)"
   ]
  },
  {
   "attachments": {},
   "cell_type": "markdown",
   "metadata": {},
   "source": [
    "#### Suppression des lignes où la valeur foncière est manquante"
   ]
  },
  {
   "cell_type": "code",
   "execution_count": 173,
   "metadata": {},
   "outputs": [],
   "source": [
    "indexNames = df_2022[df_2022['Valeur fonciere'].isnull()].index\n",
    "df_2022.drop(indexNames, inplace=True)"
   ]
  },
  {
   "attachments": {},
   "cell_type": "markdown",
   "metadata": {},
   "source": [
    "#### Remplissage des valeurs manquantes des colonnes contenant des mètres carré avec des zéros"
   ]
  },
  {
   "cell_type": "code",
   "execution_count": 174,
   "metadata": {},
   "outputs": [],
   "source": [
    "df_2022['Surface terrain'].fillna(0, inplace=True)"
   ]
  },
  {
   "attachments": {},
   "cell_type": "markdown",
   "metadata": {},
   "source": [
    "On se rend compte que différentes colonnes ont un pourcentage élevée de données manquantes. On fait donc le choix de supprimer les lignes dont une des valeurs parmis ces colonnes est manquante. "
   ]
  },
  {
   "cell_type": "code",
   "execution_count": 175,
   "metadata": {},
   "outputs": [],
   "source": [
    "df_2022.dropna(subset=['Type de voie'], inplace=True)\n",
    "df_2022.dropna(subset=['Surface reelle bati'], inplace=True)\n",
    "df_2022.dropna(subset=['Code postal'], inplace=True)\n",
    "df_2022.dropna(subset=['Type local'], inplace=True)\n",
    "df_2022.dropna(subset=['Nombre pieces principales'], inplace=True)"
   ]
  },
  {
   "cell_type": "code",
   "execution_count": 176,
   "metadata": {},
   "outputs": [],
   "source": [
    "df_2022 = df_2022[df_2022['Surface reelle bati'] != 0]"
   ]
  },
  {
   "attachments": {},
   "cell_type": "markdown",
   "metadata": {},
   "source": [
    "On vérifie ensuite le pourcentage de données manquantes par colonne. On remarque qu'il est maintenant de 0% sauf pour deux colonnes."
   ]
  },
  {
   "cell_type": "code",
   "execution_count": 177,
   "metadata": {},
   "outputs": [
    {
     "data": {
      "text/plain": [
       "Date mutation                0.0\n",
       "Nature mutation              0.0\n",
       "Valeur fonciere              0.0\n",
       "Type de voie                 0.0\n",
       "Code postal                  0.0\n",
       "Code departement             0.0\n",
       "Nombre de lots               0.0\n",
       "Type local                   0.0\n",
       "Surface reelle bati          0.0\n",
       "Nombre pieces principales    0.0\n",
       "Surface terrain              0.0\n",
       "dtype: float64"
      ]
     },
     "execution_count": 177,
     "metadata": {},
     "output_type": "execute_result"
    }
   ],
   "source": [
    "(df_2022.isnull().sum()/len(df_2022))*100"
   ]
  },
  {
   "attachments": {},
   "cell_type": "markdown",
   "metadata": {},
   "source": [
    "On remarque que la colonne 'Surface terrain' a environ 50% de valeurs manquantes. Cependant, il ne s'agit pas de réelle valeur manquante. Dans les faits, il s'agit des biens immobiliers qui n'ont pas de terrain. On remplace donc toutes les valeurs manquantes par 0. En effet, les biens sans terrain ont donc un terrain de 0 mètre carré."
   ]
  },
  {
   "attachments": {},
   "cell_type": "markdown",
   "metadata": {},
   "source": [
    "On remarque que certains bien immobiliers composés de plusieurs types de bien (exemple : dépendance et appartement) sont affichés plusieurs fois. Pour éviter que cela fausse les résultats des algorithmes de prédictions, nous allons donc grouper ces lignes. "
   ]
  },
  {
   "cell_type": "code",
   "execution_count": 178,
   "metadata": {},
   "outputs": [],
   "source": [
    "df_2022 = df_2022.groupby(['Nature mutation', 'Valeur fonciere', 'Type de voie','Code postal' ,'Surface terrain', 'Code departement'], as_index=False).agg({\n",
    "    'Nature mutation': 'first',\n",
    "    'Date mutation': 'first',\n",
    "    'Valeur fonciere': 'first',\n",
    "    'Type de voie': 'first',\n",
    "    'Code postal': 'first',\n",
    "    'Code departement': 'first',\n",
    "    'Nombre de lots': 'first',\n",
    "    'Type local': lambda x: 'Multiple' if len(set(x)) > 1 else x.unique()[0],\n",
    "    'Surface reelle bati': 'sum',\n",
    "    'Nombre pieces principales': 'sum',\n",
    "    'Surface terrain': 'first'\n",
    "})"
   ]
  },
  {
   "attachments": {},
   "cell_type": "markdown",
   "metadata": {},
   "source": [
    "On vérifie donc le taux de valeurs manquantes, il n'y en a plus. "
   ]
  },
  {
   "cell_type": "code",
   "execution_count": 179,
   "metadata": {},
   "outputs": [
    {
     "data": {
      "text/plain": [
       "Nature mutation              0.0\n",
       "Date mutation                0.0\n",
       "Valeur fonciere              0.0\n",
       "Type de voie                 0.0\n",
       "Code postal                  0.0\n",
       "Code departement             0.0\n",
       "Nombre de lots               0.0\n",
       "Type local                   0.0\n",
       "Surface reelle bati          0.0\n",
       "Nombre pieces principales    0.0\n",
       "Surface terrain              0.0\n",
       "dtype: float64"
      ]
     },
     "execution_count": 179,
     "metadata": {},
     "output_type": "execute_result"
    }
   ],
   "source": [
    "(df_2022.isnull().sum()/len(df_2022))*100"
   ]
  },
  {
   "attachments": {},
   "cell_type": "markdown",
   "metadata": {},
   "source": [
    "#### Création d'une colonne 'Prix au m2'"
   ]
  },
  {
   "cell_type": "code",
   "execution_count": 180,
   "metadata": {},
   "outputs": [],
   "source": [
    "df_2022['Prix au m2'] = df_2022['Valeur fonciere'] / (df_2022['Surface reelle bati'])"
   ]
  },
  {
   "attachments": {},
   "cell_type": "markdown",
   "metadata": {},
   "source": [
    "#### Division de la date en 3 colonnes différentes"
   ]
  },
  {
   "cell_type": "code",
   "execution_count": 181,
   "metadata": {},
   "outputs": [],
   "source": [
    "df_2022['Date mutation'] = pd.to_datetime(df_2022['Date mutation'], format='%d/%m/%Y')\n",
    "df_2022['year'] = df_2022['Date mutation'].dt.year\n",
    "df_2022['month'] = df_2022['Date mutation'].dt.month\n",
    "df_2022['day'] = df_2022['Date mutation'].dt.day\n",
    "df_2022 = df_2022.drop('Date mutation', axis=1)"
   ]
  },
  {
   "attachments": {},
   "cell_type": "markdown",
   "metadata": {},
   "source": [
    "#### Changement du nom des colonnes"
   ]
  },
  {
   "cell_type": "code",
   "execution_count": 182,
   "metadata": {},
   "outputs": [],
   "source": [
    "columns = {}\n",
    "for index, column_name in enumerate(df_2022.columns):\n",
    "    columns[column_name] = unidecode.unidecode(column_name.replace(' ','_').replace('\\'','_').lower())\n",
    "df_2022.rename(columns=columns, inplace=True)"
   ]
  },
  {
   "attachments": {},
   "cell_type": "markdown",
   "metadata": {},
   "source": [
    "#### Suppression des valeurs aberrantes"
   ]
  },
  {
   "cell_type": "code",
   "execution_count": 183,
   "metadata": {},
   "outputs": [],
   "source": [
    "df_2022 = df_2022[df_2022['valeur_fonciere'] <= 15000000]\n"
   ]
  },
  {
   "attachments": {},
   "cell_type": "markdown",
   "metadata": {},
   "source": [
    "#### Traitement des données similaires pour l'année 2018"
   ]
  },
  {
   "cell_type": "code",
   "execution_count": 184,
   "metadata": {},
   "outputs": [
    {
     "name": "stdout",
     "output_type": "stream",
     "text": [
      "Suppression de 8 colonnes sans données\n",
      "Suppression des doublons: 120210\n"
     ]
    },
    {
     "data": {
      "text/plain": [
       "nature_mutation              0.0\n",
       "valeur_fonciere              0.0\n",
       "type_de_voie                 0.0\n",
       "code_postal                  0.0\n",
       "code_departement             0.0\n",
       "nombre_de_lots               0.0\n",
       "type_local                   0.0\n",
       "surface_reelle_bati          0.0\n",
       "nombre_pieces_principales    0.0\n",
       "surface_terrain              0.0\n",
       "year                         0.0\n",
       "month                        0.0\n",
       "day                          0.0\n",
       "prix_au_m2                   0.0\n",
       "dtype: float64"
      ]
     },
     "execution_count": 184,
     "metadata": {},
     "output_type": "execute_result"
    }
   ],
   "source": [
    "(df_2018.isnull().sum()/len(df_2018))*100\n",
    "\n",
    "initial_length = len(df_2018.columns)\n",
    "df_2018.dropna(how='all', axis=1, inplace=True)\n",
    "print(\"Suppression de {} colonnes sans données\".format(initial_length-len(df_2018.columns)))\n",
    "\n",
    "initial_length = len(df_2018)\n",
    "df_2018.drop_duplicates(inplace=True)\n",
    "print(\"Suppression des doublons: {}\".format(initial_length-len(df_2018)))\n",
    "\n",
    "df_2018.drop(['Voie', 'B/T/Q'],axis=1, inplace=True)\n",
    "df_2018.drop(['Prefixe de section', 'Section', 'No plan'],axis=1, inplace=True)\n",
    "df_2018.drop(['No disposition'],axis=1, inplace=True)\n",
    "df_2018.drop(['No Volume'],axis=1, inplace=True)\n",
    "df_2018.drop(['Nature culture speciale', 'Nature culture'],axis=1, inplace=True)\n",
    "df_2018.drop(['Code type local'],axis=1, inplace=True)\n",
    "df_2018.drop(['Code voie'],axis=1, inplace=True)\n",
    "df_2018.drop(['No voie'],axis=1, inplace=True)\n",
    "df_2018.drop(['Code commune'],axis=1, inplace=True)\n",
    "df_2018.drop(['Commune'],axis=1, inplace=True)\n",
    "df_2018.drop(['5eme lot'],axis=1, inplace=True)\n",
    "df_2018.drop(['4eme lot'],axis=1, inplace=True)\n",
    "df_2018.drop(['3eme lot'],axis=1, inplace=True)\n",
    "df_2018.drop(['2eme lot'],axis=1, inplace=True)\n",
    "df_2018.drop(['1er lot'],axis=1, inplace=True)\n",
    "df_2018.drop(['Surface Carrez du 1er lot'],axis=1, inplace=True)\n",
    "df_2018.drop(['Surface Carrez du 2eme lot'],axis=1, inplace=True)\n",
    "df_2018.drop(['Surface Carrez du 3eme lot'],axis=1, inplace=True)\n",
    "df_2018.drop(['Surface Carrez du 4eme lot'],axis=1, inplace=True)\n",
    "df_2018.drop(['Surface Carrez du 5eme lot'],axis=1, inplace=True)\n",
    "\n",
    "\n",
    "indexNames = df_2018[df_2018['Valeur fonciere'].isnull()].index\n",
    "df_2018.drop(indexNames, inplace=True)\n",
    "\n",
    "df_2018['Surface terrain'].fillna(0, inplace=True)\n",
    "\n",
    "df_2018.dropna(subset=['Type de voie'], inplace=True)\n",
    "df_2018.dropna(subset=['Surface reelle bati'], inplace=True)\n",
    "df_2018.dropna(subset=['Code postal'], inplace=True)\n",
    "df_2018.dropna(subset=['Type local'], inplace=True)\n",
    "df_2018.dropna(subset=['Nombre pieces principales'], inplace=True)\n",
    "\n",
    "df_2018 = df_2018[df_2018['Surface reelle bati'] != 0]\n",
    "\n",
    "df_2018 = df_2018.groupby(['Nature mutation', 'Valeur fonciere', 'Type de voie','Code postal' ,'Surface terrain', 'Code departement'], as_index=False).agg({\n",
    "    'Nature mutation': 'first',\n",
    "    'Date mutation': 'first',\n",
    "    'Valeur fonciere': 'first',\n",
    "    'Type de voie': 'first',\n",
    "    'Code postal': 'first',\n",
    "    'Code departement': 'first',\n",
    "    'Nombre de lots': 'first',\n",
    "    'Type local': lambda x: 'Multiple' if len(set(x)) > 1 else x.unique()[0],\n",
    "    'Surface reelle bati': 'sum',\n",
    "    'Nombre pieces principales': 'sum',\n",
    "    'Surface terrain': 'first'\n",
    "})\n",
    "\n",
    "df_2018['Date mutation'] = pd.to_datetime(df_2018['Date mutation'], format='%d/%m/%Y')\n",
    "df_2018['year'] = df_2018['Date mutation'].dt.year\n",
    "df_2018['month'] = df_2018['Date mutation'].dt.month\n",
    "df_2018['day'] = df_2018['Date mutation'].dt.day\n",
    "df_2018 = df_2018.drop('Date mutation', axis=1)\n",
    "\n",
    "df_2018['Prix au m2'] = df_2018['Valeur fonciere'] / (df_2018['Surface reelle bati'])\n",
    "\n",
    "columns = {}\n",
    "for index, column_name in enumerate(df_2018.columns):\n",
    "    columns[column_name] = unidecode.unidecode(column_name.replace(' ','_').replace('\\'','_').lower())\n",
    "df_2018.rename(columns=columns, inplace=True)\n",
    "\n",
    "df_2018 = df_2018[df_2018['valeur_fonciere'] <= 15000000]\n",
    "\n",
    "(df_2018.isnull().sum()/len(df_2022))*100\n"
   ]
  },
  {
   "cell_type": "code",
   "execution_count": 185,
   "metadata": {},
   "outputs": [],
   "source": [
    "df_combined = pd.concat([df_2018, df_2022])\n",
    "df_combined = df_combined.reset_index(drop=True)"
   ]
  },
  {
   "cell_type": "code",
   "execution_count": 186,
   "metadata": {},
   "outputs": [],
   "source": [
    "df_combined['code_departement'] = df_combined['code_departement'].replace('2A', '211')\n",
    "df_combined['code_departement'] = df_combined['code_departement'].replace('2B', '222')"
   ]
  },
  {
   "attachments": {},
   "cell_type": "markdown",
   "metadata": {},
   "source": [
    "________________________________________________________________________________________________________________________"
   ]
  },
  {
   "attachments": {},
   "cell_type": "markdown",
   "metadata": {},
   "source": [
    "# Analyse Exploratoire des Données"
   ]
  },
  {
   "attachments": {},
   "cell_type": "markdown",
   "metadata": {},
   "source": [
    "#### Choix de la variable cible "
   ]
  },
  {
   "attachments": {},
   "cell_type": "markdown",
   "metadata": {},
   "source": [
    "Nous faisons le choix de fdslfkjdskf  fd"
   ]
  },
  {
   "attachments": {},
   "cell_type": "markdown",
   "metadata": {},
   "source": [
    "#### DataViz n°1 : fdsfds"
   ]
  },
  {
   "cell_type": "code",
   "execution_count": 187,
   "metadata": {},
   "outputs": [
    {
     "data": {
      "application/vnd.plotly.v1+json": {
       "config": {
        "plotlyServerURL": "https://plot.ly"
       },
       "data": [
        {
         "alignmentgroup": "True",
         "customdata": [
          [
           30
          ],
          [
           26
          ],
          [
           73
          ],
          [
           60
          ],
          [
           40
          ],
          [
           84
          ],
          [
           17
          ],
          [
           91
          ],
          [
           44
          ],
          [
           31
          ],
          [
           35
          ],
          [
           69
          ],
          [
           76
          ],
          [
           85
          ],
          [
           77
          ],
          [
           34
          ],
          [
           59
          ],
          [
           33
          ],
          [
           75
          ],
          [
           6
          ]
         ],
         "hovertemplate": "Rang du département=%{x}<br>Différence des valeurs foncières=%{marker.color}<br>code_departement=%{customdata[0]}<extra></extra>",
         "legendgroup": "",
         "marker": {
          "color": [
           722862795.21,
           731823254.25,
           766283002.7100003,
           807860855.7800002,
           827553766.1800001,
           871432872.4100001,
           914418384.5500002,
           1001426397.6700001,
           1026116540.8199997,
           1102408922.29,
           1150479161.7000003,
           1263283728.5,
           1279371097.9899998,
           1316595906.65,
           1522142821.6299992,
           1582577715.29,
           1814718696.2999992,
           3136884957.1499996,
           4632078606.919998,
           4854264246.01
          ],
          "coloraxis": "coloraxis",
          "pattern": {
           "shape": ""
          }
         },
         "name": "",
         "offsetgroup": "",
         "orientation": "v",
         "showlegend": false,
         "text": [
          30,
          26,
          73,
          60,
          40,
          84,
          17,
          91,
          44,
          31,
          35,
          69,
          76,
          85,
          77,
          34,
          59,
          33,
          75,
          6
         ],
         "textposition": "inside",
         "type": "bar",
         "x": [
          1,
          2,
          3,
          4,
          5,
          6,
          7,
          8,
          9,
          10,
          11,
          12,
          13,
          14,
          15,
          16,
          17,
          18,
          19,
          20
         ],
         "xaxis": "x",
         "y": [
          722862795.21,
          731823254.25,
          766283002.7100003,
          807860855.7800002,
          827553766.1800001,
          871432872.4100001,
          914418384.5500002,
          1001426397.6700001,
          1026116540.8199997,
          1102408922.29,
          1150479161.7000003,
          1263283728.5,
          1279371097.9899998,
          1316595906.65,
          1522142821.6299992,
          1582577715.29,
          1814718696.2999992,
          3136884957.1499996,
          4632078606.919998,
          4854264246.01
         ],
         "yaxis": "y"
        }
       ],
       "layout": {
        "barmode": "relative",
        "coloraxis": {
         "colorbar": {
          "title": {
           "text": "Différence des valeurs foncières"
          }
         },
         "colorscale": [
          [
           0,
           "#0d0887"
          ],
          [
           0.1111111111111111,
           "#46039f"
          ],
          [
           0.2222222222222222,
           "#7201a8"
          ],
          [
           0.3333333333333333,
           "#9c179e"
          ],
          [
           0.4444444444444444,
           "#bd3786"
          ],
          [
           0.5555555555555556,
           "#d8576b"
          ],
          [
           0.6666666666666666,
           "#ed7953"
          ],
          [
           0.7777777777777778,
           "#fb9f3a"
          ],
          [
           0.8888888888888888,
           "#fdca26"
          ],
          [
           1,
           "#f0f921"
          ]
         ]
        },
        "legend": {
         "tracegroupgap": 0
        },
        "template": {
         "data": {
          "bar": [
           {
            "error_x": {
             "color": "#2a3f5f"
            },
            "error_y": {
             "color": "#2a3f5f"
            },
            "marker": {
             "line": {
              "color": "#E5ECF6",
              "width": 0.5
             },
             "pattern": {
              "fillmode": "overlay",
              "size": 10,
              "solidity": 0.2
             }
            },
            "type": "bar"
           }
          ],
          "barpolar": [
           {
            "marker": {
             "line": {
              "color": "#E5ECF6",
              "width": 0.5
             },
             "pattern": {
              "fillmode": "overlay",
              "size": 10,
              "solidity": 0.2
             }
            },
            "type": "barpolar"
           }
          ],
          "carpet": [
           {
            "aaxis": {
             "endlinecolor": "#2a3f5f",
             "gridcolor": "white",
             "linecolor": "white",
             "minorgridcolor": "white",
             "startlinecolor": "#2a3f5f"
            },
            "baxis": {
             "endlinecolor": "#2a3f5f",
             "gridcolor": "white",
             "linecolor": "white",
             "minorgridcolor": "white",
             "startlinecolor": "#2a3f5f"
            },
            "type": "carpet"
           }
          ],
          "choropleth": [
           {
            "colorbar": {
             "outlinewidth": 0,
             "ticks": ""
            },
            "type": "choropleth"
           }
          ],
          "contour": [
           {
            "colorbar": {
             "outlinewidth": 0,
             "ticks": ""
            },
            "colorscale": [
             [
              0,
              "#0d0887"
             ],
             [
              0.1111111111111111,
              "#46039f"
             ],
             [
              0.2222222222222222,
              "#7201a8"
             ],
             [
              0.3333333333333333,
              "#9c179e"
             ],
             [
              0.4444444444444444,
              "#bd3786"
             ],
             [
              0.5555555555555556,
              "#d8576b"
             ],
             [
              0.6666666666666666,
              "#ed7953"
             ],
             [
              0.7777777777777778,
              "#fb9f3a"
             ],
             [
              0.8888888888888888,
              "#fdca26"
             ],
             [
              1,
              "#f0f921"
             ]
            ],
            "type": "contour"
           }
          ],
          "contourcarpet": [
           {
            "colorbar": {
             "outlinewidth": 0,
             "ticks": ""
            },
            "type": "contourcarpet"
           }
          ],
          "heatmap": [
           {
            "colorbar": {
             "outlinewidth": 0,
             "ticks": ""
            },
            "colorscale": [
             [
              0,
              "#0d0887"
             ],
             [
              0.1111111111111111,
              "#46039f"
             ],
             [
              0.2222222222222222,
              "#7201a8"
             ],
             [
              0.3333333333333333,
              "#9c179e"
             ],
             [
              0.4444444444444444,
              "#bd3786"
             ],
             [
              0.5555555555555556,
              "#d8576b"
             ],
             [
              0.6666666666666666,
              "#ed7953"
             ],
             [
              0.7777777777777778,
              "#fb9f3a"
             ],
             [
              0.8888888888888888,
              "#fdca26"
             ],
             [
              1,
              "#f0f921"
             ]
            ],
            "type": "heatmap"
           }
          ],
          "heatmapgl": [
           {
            "colorbar": {
             "outlinewidth": 0,
             "ticks": ""
            },
            "colorscale": [
             [
              0,
              "#0d0887"
             ],
             [
              0.1111111111111111,
              "#46039f"
             ],
             [
              0.2222222222222222,
              "#7201a8"
             ],
             [
              0.3333333333333333,
              "#9c179e"
             ],
             [
              0.4444444444444444,
              "#bd3786"
             ],
             [
              0.5555555555555556,
              "#d8576b"
             ],
             [
              0.6666666666666666,
              "#ed7953"
             ],
             [
              0.7777777777777778,
              "#fb9f3a"
             ],
             [
              0.8888888888888888,
              "#fdca26"
             ],
             [
              1,
              "#f0f921"
             ]
            ],
            "type": "heatmapgl"
           }
          ],
          "histogram": [
           {
            "marker": {
             "pattern": {
              "fillmode": "overlay",
              "size": 10,
              "solidity": 0.2
             }
            },
            "type": "histogram"
           }
          ],
          "histogram2d": [
           {
            "colorbar": {
             "outlinewidth": 0,
             "ticks": ""
            },
            "colorscale": [
             [
              0,
              "#0d0887"
             ],
             [
              0.1111111111111111,
              "#46039f"
             ],
             [
              0.2222222222222222,
              "#7201a8"
             ],
             [
              0.3333333333333333,
              "#9c179e"
             ],
             [
              0.4444444444444444,
              "#bd3786"
             ],
             [
              0.5555555555555556,
              "#d8576b"
             ],
             [
              0.6666666666666666,
              "#ed7953"
             ],
             [
              0.7777777777777778,
              "#fb9f3a"
             ],
             [
              0.8888888888888888,
              "#fdca26"
             ],
             [
              1,
              "#f0f921"
             ]
            ],
            "type": "histogram2d"
           }
          ],
          "histogram2dcontour": [
           {
            "colorbar": {
             "outlinewidth": 0,
             "ticks": ""
            },
            "colorscale": [
             [
              0,
              "#0d0887"
             ],
             [
              0.1111111111111111,
              "#46039f"
             ],
             [
              0.2222222222222222,
              "#7201a8"
             ],
             [
              0.3333333333333333,
              "#9c179e"
             ],
             [
              0.4444444444444444,
              "#bd3786"
             ],
             [
              0.5555555555555556,
              "#d8576b"
             ],
             [
              0.6666666666666666,
              "#ed7953"
             ],
             [
              0.7777777777777778,
              "#fb9f3a"
             ],
             [
              0.8888888888888888,
              "#fdca26"
             ],
             [
              1,
              "#f0f921"
             ]
            ],
            "type": "histogram2dcontour"
           }
          ],
          "mesh3d": [
           {
            "colorbar": {
             "outlinewidth": 0,
             "ticks": ""
            },
            "type": "mesh3d"
           }
          ],
          "parcoords": [
           {
            "line": {
             "colorbar": {
              "outlinewidth": 0,
              "ticks": ""
             }
            },
            "type": "parcoords"
           }
          ],
          "pie": [
           {
            "automargin": true,
            "type": "pie"
           }
          ],
          "scatter": [
           {
            "fillpattern": {
             "fillmode": "overlay",
             "size": 10,
             "solidity": 0.2
            },
            "type": "scatter"
           }
          ],
          "scatter3d": [
           {
            "line": {
             "colorbar": {
              "outlinewidth": 0,
              "ticks": ""
             }
            },
            "marker": {
             "colorbar": {
              "outlinewidth": 0,
              "ticks": ""
             }
            },
            "type": "scatter3d"
           }
          ],
          "scattercarpet": [
           {
            "marker": {
             "colorbar": {
              "outlinewidth": 0,
              "ticks": ""
             }
            },
            "type": "scattercarpet"
           }
          ],
          "scattergeo": [
           {
            "marker": {
             "colorbar": {
              "outlinewidth": 0,
              "ticks": ""
             }
            },
            "type": "scattergeo"
           }
          ],
          "scattergl": [
           {
            "marker": {
             "colorbar": {
              "outlinewidth": 0,
              "ticks": ""
             }
            },
            "type": "scattergl"
           }
          ],
          "scattermapbox": [
           {
            "marker": {
             "colorbar": {
              "outlinewidth": 0,
              "ticks": ""
             }
            },
            "type": "scattermapbox"
           }
          ],
          "scatterpolar": [
           {
            "marker": {
             "colorbar": {
              "outlinewidth": 0,
              "ticks": ""
             }
            },
            "type": "scatterpolar"
           }
          ],
          "scatterpolargl": [
           {
            "marker": {
             "colorbar": {
              "outlinewidth": 0,
              "ticks": ""
             }
            },
            "type": "scatterpolargl"
           }
          ],
          "scatterternary": [
           {
            "marker": {
             "colorbar": {
              "outlinewidth": 0,
              "ticks": ""
             }
            },
            "type": "scatterternary"
           }
          ],
          "surface": [
           {
            "colorbar": {
             "outlinewidth": 0,
             "ticks": ""
            },
            "colorscale": [
             [
              0,
              "#0d0887"
             ],
             [
              0.1111111111111111,
              "#46039f"
             ],
             [
              0.2222222222222222,
              "#7201a8"
             ],
             [
              0.3333333333333333,
              "#9c179e"
             ],
             [
              0.4444444444444444,
              "#bd3786"
             ],
             [
              0.5555555555555556,
              "#d8576b"
             ],
             [
              0.6666666666666666,
              "#ed7953"
             ],
             [
              0.7777777777777778,
              "#fb9f3a"
             ],
             [
              0.8888888888888888,
              "#fdca26"
             ],
             [
              1,
              "#f0f921"
             ]
            ],
            "type": "surface"
           }
          ],
          "table": [
           {
            "cells": {
             "fill": {
              "color": "#EBF0F8"
             },
             "line": {
              "color": "white"
             }
            },
            "header": {
             "fill": {
              "color": "#C8D4E3"
             },
             "line": {
              "color": "white"
             }
            },
            "type": "table"
           }
          ]
         },
         "layout": {
          "annotationdefaults": {
           "arrowcolor": "#2a3f5f",
           "arrowhead": 0,
           "arrowwidth": 1
          },
          "autotypenumbers": "strict",
          "coloraxis": {
           "colorbar": {
            "outlinewidth": 0,
            "ticks": ""
           }
          },
          "colorscale": {
           "diverging": [
            [
             0,
             "#8e0152"
            ],
            [
             0.1,
             "#c51b7d"
            ],
            [
             0.2,
             "#de77ae"
            ],
            [
             0.3,
             "#f1b6da"
            ],
            [
             0.4,
             "#fde0ef"
            ],
            [
             0.5,
             "#f7f7f7"
            ],
            [
             0.6,
             "#e6f5d0"
            ],
            [
             0.7,
             "#b8e186"
            ],
            [
             0.8,
             "#7fbc41"
            ],
            [
             0.9,
             "#4d9221"
            ],
            [
             1,
             "#276419"
            ]
           ],
           "sequential": [
            [
             0,
             "#0d0887"
            ],
            [
             0.1111111111111111,
             "#46039f"
            ],
            [
             0.2222222222222222,
             "#7201a8"
            ],
            [
             0.3333333333333333,
             "#9c179e"
            ],
            [
             0.4444444444444444,
             "#bd3786"
            ],
            [
             0.5555555555555556,
             "#d8576b"
            ],
            [
             0.6666666666666666,
             "#ed7953"
            ],
            [
             0.7777777777777778,
             "#fb9f3a"
            ],
            [
             0.8888888888888888,
             "#fdca26"
            ],
            [
             1,
             "#f0f921"
            ]
           ],
           "sequentialminus": [
            [
             0,
             "#0d0887"
            ],
            [
             0.1111111111111111,
             "#46039f"
            ],
            [
             0.2222222222222222,
             "#7201a8"
            ],
            [
             0.3333333333333333,
             "#9c179e"
            ],
            [
             0.4444444444444444,
             "#bd3786"
            ],
            [
             0.5555555555555556,
             "#d8576b"
            ],
            [
             0.6666666666666666,
             "#ed7953"
            ],
            [
             0.7777777777777778,
             "#fb9f3a"
            ],
            [
             0.8888888888888888,
             "#fdca26"
            ],
            [
             1,
             "#f0f921"
            ]
           ]
          },
          "colorway": [
           "#636efa",
           "#EF553B",
           "#00cc96",
           "#ab63fa",
           "#FFA15A",
           "#19d3f3",
           "#FF6692",
           "#B6E880",
           "#FF97FF",
           "#FECB52"
          ],
          "font": {
           "color": "#2a3f5f"
          },
          "geo": {
           "bgcolor": "white",
           "lakecolor": "white",
           "landcolor": "#E5ECF6",
           "showlakes": true,
           "showland": true,
           "subunitcolor": "white"
          },
          "hoverlabel": {
           "align": "left"
          },
          "hovermode": "closest",
          "mapbox": {
           "style": "light"
          },
          "paper_bgcolor": "white",
          "plot_bgcolor": "#E5ECF6",
          "polar": {
           "angularaxis": {
            "gridcolor": "white",
            "linecolor": "white",
            "ticks": ""
           },
           "bgcolor": "#E5ECF6",
           "radialaxis": {
            "gridcolor": "white",
            "linecolor": "white",
            "ticks": ""
           }
          },
          "scene": {
           "xaxis": {
            "backgroundcolor": "#E5ECF6",
            "gridcolor": "white",
            "gridwidth": 2,
            "linecolor": "white",
            "showbackground": true,
            "ticks": "",
            "zerolinecolor": "white"
           },
           "yaxis": {
            "backgroundcolor": "#E5ECF6",
            "gridcolor": "white",
            "gridwidth": 2,
            "linecolor": "white",
            "showbackground": true,
            "ticks": "",
            "zerolinecolor": "white"
           },
           "zaxis": {
            "backgroundcolor": "#E5ECF6",
            "gridcolor": "white",
            "gridwidth": 2,
            "linecolor": "white",
            "showbackground": true,
            "ticks": "",
            "zerolinecolor": "white"
           }
          },
          "shapedefaults": {
           "line": {
            "color": "#2a3f5f"
           }
          },
          "ternary": {
           "aaxis": {
            "gridcolor": "white",
            "linecolor": "white",
            "ticks": ""
           },
           "baxis": {
            "gridcolor": "white",
            "linecolor": "white",
            "ticks": ""
           },
           "bgcolor": "#E5ECF6",
           "caxis": {
            "gridcolor": "white",
            "linecolor": "white",
            "ticks": ""
           }
          },
          "title": {
           "x": 0.05
          },
          "xaxis": {
           "automargin": true,
           "gridcolor": "white",
           "linecolor": "white",
           "ticks": "",
           "title": {
            "standoff": 15
           },
           "zerolinecolor": "white",
           "zerolinewidth": 2
          },
          "yaxis": {
           "automargin": true,
           "gridcolor": "white",
           "linecolor": "white",
           "ticks": "",
           "title": {
            "standoff": 15
           },
           "zerolinecolor": "white",
           "zerolinewidth": 2
          }
         }
        },
        "title": {
         "text": "Top 20 départements avec les plus grandes différences de valeurs foncières entre 2018 et 2022"
        },
        "xaxis": {
         "anchor": "y",
         "domain": [
          0,
          1
         ],
         "title": {
          "text": "Rang du département"
         }
        },
        "yaxis": {
         "anchor": "x",
         "domain": [
          0,
          1
         ],
         "title": {
          "text": "Différence des valeurs foncières"
         }
        }
       }
      }
     },
     "metadata": {},
     "output_type": "display_data"
    }
   ],
   "source": [
    "grouped_df_2018 = df_2018.groupby('code_departement')['valeur_fonciere'].sum().reset_index()\n",
    "grouped_df_2022 = df_2022.groupby('code_departement')['valeur_fonciere'].sum().reset_index()\n",
    "merged_df = pd.merge(grouped_df_2018, grouped_df_2022, on='code_departement', suffixes=('_2018', '_2022'))\n",
    "merged_df['difference'] = merged_df['valeur_fonciere_2022'] - merged_df['valeur_fonciere_2018']\n",
    "top20_diff_df = merged_df.sort_values('difference', ascending=False).head(20)\n",
    "top20_diff_df = top20_diff_df.sort_values('difference', ascending=True)\n",
    "top20_diff_df['x_axis_order'] = range(1, len(top20_diff_df) + 1)\n",
    "fig = px.bar(top20_diff_df, x='x_axis_order', y='difference', \n",
    "             color='difference', \n",
    "             labels={'difference':'Différence des valeurs foncières', \n",
    "                     'x_axis_order':'Rang du département'},\n",
    "             hover_data=['code_departement'],\n",
    "             title=\"Top 20 départements avec les plus grandes différences de valeurs foncières entre 2018 et 2022\")\n",
    "fig.update_traces(text=top20_diff_df['code_departement'], textposition='inside')\n",
    "\n",
    "fig.show()"
   ]
  },
  {
   "attachments": {},
   "cell_type": "markdown",
   "metadata": {},
   "source": [
    "#### DataViz n°2 : fdsfds"
   ]
  },
  {
   "cell_type": "code",
   "execution_count": 188,
   "metadata": {},
   "outputs": [
    {
     "data": {
      "application/vnd.plotly.v1+json": {
       "config": {
        "plotlyServerURL": "https://plot.ly"
       },
       "data": [
        {
         "coloraxis": "coloraxis",
         "geojson": {
          "bbox": [
           1.4472851104304,
           48.122204261229,
           3.555613758785,
           49.232197221792
          ],
          "features": [
           {
            "bbox": [
             2.2242191058804,
             48.816314210034,
             2.4675819883673,
             48.902007785215
            ],
            "geometry": {
             "coordinates": [
              [
               [
                2.3198871747441,
                48.90045978209
               ],
               [
                2.3851496429397,
                48.902007785215
               ],
               [
                2.394906293421,
                48.898444039523
               ],
               [
                2.3988455271816,
                48.887109095072
               ],
               [
                2.4132702557262,
                48.872892145992
               ],
               [
                2.4163411302989,
                48.849233783552
               ],
               [
                2.4122456125626,
                48.834538914673
               ],
               [
                2.4221386362435,
                48.835797660955
               ],
               [
                2.4281301699852,
                48.841528392473
               ],
               [
                2.447699326814,
                48.844818443355
               ],
               [
                2.4634383121686,
                48.842089485269
               ],
               [
                2.4675819883673,
                48.833133318793
               ],
               [
                2.4626960627524,
                48.819059770564
               ],
               [
                2.4384475102742,
                48.818232447877
               ],
               [
                2.406031823401,
                48.827615470779
               ],
               [
                2.3909392530738,
                48.826078980076
               ],
               [
                2.363946550191,
                48.816314210034
               ],
               [
                2.3318980606376,
                48.817010929642
               ],
               [
                2.2921959226619,
                48.82714160912
               ],
               [
                2.2790519306533,
                48.832489952145
               ],
               [
                2.2727931901868,
                48.827920084226
               ],
               [
                2.2551442384175,
                48.834809549369
               ],
               [
                2.2506124417162,
                48.845554851211
               ],
               [
                2.2242191058804,
                48.853516917557
               ],
               [
                2.2317363597469,
                48.86906858161
               ],
               [
                2.2584671711142,
                48.880387263086
               ],
               [
                2.2774870298138,
                48.877968320853
               ],
               [
                2.2915068524977,
                48.8894718708
               ],
               [
                2.3198871747441,
                48.90045978209
               ]
              ]
             ],
             "type": "Polygon"
            },
            "id": "0",
            "properties": {},
            "type": "Feature"
           },
           {
            "bbox": [
             2.3931765378081,
             48.122204261229,
             3.555613758785,
             49.11755332218
            ],
            "geometry": {
             "coordinates": [
              [
               [
                2.5716535034613,
                48.69201676557
               ],
               [
                2.5752212918029,
                48.700368420834
               ],
               [
                2.5688027048808,
                48.707221723749
               ],
               [
                2.5852087623188,
                48.727242137595
               ],
               [
                2.5946737376888,
                48.73180600135
               ],
               [
                2.5858204453665,
                48.741487637605
               ],
               [
                2.6023411143901,
                48.753730034287
               ],
               [
                2.5982969429908,
                48.760480074814
               ],
               [
                2.6136517425679,
                48.76102540673
               ],
               [
                2.6070020497727,
                48.774401216878
               ],
               [
                2.5919605754401,
                48.77140075822
               ],
               [
                2.5856046173972,
                48.778627130829
               ],
               [
                2.5997697108259,
                48.794974135979
               ],
               [
                2.5918208872821,
                48.798135558654
               ],
               [
                2.5922736733656,
                48.807437551952
               ],
               [
                2.5964557305467,
                48.810889137262
               ],
               [
                2.5925149932073,
                48.825870860417
               ],
               [
                2.5738417937528,
                48.853385173417
               ],
               [
                2.5831356251086,
                48.857208607635
               ],
               [
                2.5873261857605,
                48.865005030869
               ],
               [
                2.568109258403,
                48.865942675094
               ],
               [
                2.5702348571309,
                48.876463404921
               ],
               [
                2.5594064582352,
                48.885336254164
               ],
               [
                2.5626276286343,
                48.888883251177
               ],
               [
                2.5838172328399,
                48.895410384217
               ],
               [
                2.5912646006622,
                48.906830121884
               ],
               [
                2.5906912334031,
                48.923361520931
               ],
               [
                2.6025997962059,
                48.929356607315
               ],
               [
                2.5893050070876,
                48.953758253881
               ],
               [
                2.5634346213721,
                48.977732430334
               ],
               [
                2.5797962900593,
                48.984984703781
               ],
               [
                2.5803194899487,
                48.991593137352
               ],
               [
                2.5716715859606,
                48.999841685023
               ],
               [
                2.5657856607901,
                49.012397786393
               ],
               [
                2.5530565519414,
                49.009816202999
               ],
               [
                2.5490471496408,
                49.014720763277
               ],
               [
                2.5378177402082,
                49.016609544367
               ],
               [
                2.5350135962143,
                49.023809402045
               ],
               [
                2.5476478248421,
                49.023448531806
               ],
               [
                2.5662405882259,
                49.030110020073
               ],
               [
                2.573590385495,
                49.043134042541
               ],
               [
                2.5882844530991,
                49.046956449876
               ],
               [
                2.5847224172596,
                49.052600876728
               ],
               [
                2.5741880306468,
                49.054149235821
               ],
               [
                2.5715472662178,
                49.059825274601
               ],
               [
                2.5905283926735,
                49.079653961607
               ],
               [
                2.6072121818235,
                49.089061593648
               ],
               [
                2.6103345312027,
                49.09494039704
               ],
               [
                2.6205306041593,
                49.095141144665
               ],
               [
                2.6332770991263,
                49.108372635105
               ],
               [
                2.6676934960697,
                49.092495236068
               ],
               [
                2.6848013380994,
                49.081070149491
               ],
               [
                2.6921954156417,
                49.072098782916
               ],
               [
                2.6909952426863,
                49.066575827238
               ],
               [
                2.7061794650059,
                49.06530744517
               ],
               [
                2.7204862280103,
                49.074886920193
               ],
               [
                2.7324165014354,
                49.069856383944
               ],
               [
                2.7350099332564,
                49.060452516659
               ],
               [
                2.7604244593128,
                49.06296236294
               ],
               [
                2.787073783912,
                49.07527418833
               ],
               [
                2.7918697099795,
                49.090226188638
               ],
               [
                2.8090528505052,
                49.097537605404
               ],
               [
                2.8198502647929,
                49.087367188293
               ],
               [
                2.8360889289489,
                49.082987383853
               ],
               [
                2.8451483788669,
                49.084656494049
               ],
               [
                2.8557424844029,
                49.070260111043
               ],
               [
                2.8662678657136,
                49.070693981918
               ],
               [
                2.8830747436616,
                49.076071279686
               ],
               [
                2.8949485303642,
                49.077063202013
               ],
               [
                2.9015078822282,
                49.085373143453
               ],
               [
                2.9174506912143,
                49.079815930085
               ],
               [
                2.9445842533756,
                49.081604590578
               ],
               [
                2.9704735929189,
                49.088974001698
               ],
               [
                2.9747449093505,
                49.074788481937
               ],
               [
                2.9879964190903,
                49.072371853401
               ],
               [
                2.9912365557999,
                49.084010529465
               ],
               [
                3.0085155423352,
                49.091506561321
               ],
               [
                3.0295246754031,
                49.085932257529
               ],
               [
                3.0327819280137,
                49.089067566229
               ],
               [
                3.0483557770377,
                49.08631637936
               ],
               [
                3.0573553400185,
                49.093990044235
               ],
               [
                3.0563165652026,
                49.101913557338
               ],
               [
                3.0718801833502,
                49.11755332218
               ],
               [
                3.0824299640326,
                49.112379413059
               ],
               [
                3.1019450875262,
                49.108665530931
               ],
               [
                3.1288977237115,
                49.106712873662
               ],
               [
                3.1495286898189,
                49.100548046274
               ],
               [
                3.1652303376546,
                49.099653555336
               ],
               [
                3.1568687392365,
                49.086717381412
               ],
               [
                3.1586170058803,
                49.080495794822
               ],
               [
                3.1686703252618,
                49.076194127358
               ],
               [
                3.1818447950388,
                49.062073630984
               ],
               [
                3.1821650688322,
                49.052356876125
               ],
               [
                3.1902026447151,
                49.046494471584
               ],
               [
                3.181201109614,
                49.042312878135
               ],
               [
                3.1765330296567,
                49.030276306398
               ],
               [
                3.1610292917102,
                49.024224133711
               ],
               [
                3.17167852308,
                49.014125889695
               ],
               [
                3.1836516708558,
                49.011250532749
               ],
               [
                3.2071647717724,
                49.000687121653
               ],
               [
                3.209314063913,
                48.993783774365
               ],
               [
                3.2291741613167,
                48.988415153607
               ],
               [
                3.2312127851282,
                48.976752849115
               ],
               [
                3.2441973984858,
                48.976835025435
               ],
               [
                3.2518324140274,
                48.972363565032
               ],
               [
                3.2571425774493,
                48.95706258101
               ],
               [
                3.2678473977393,
                48.938330226813
               ],
               [
                3.2845265117579,
                48.940530948472
               ],
               [
                3.3047535824542,
                48.948766966256
               ],
               [
                3.3128748032908,
                48.933619620679
               ],
               [
                3.3130772332366,
                48.921215462331
               ],
               [
                3.3302940034825,
                48.908707002968
               ],
               [
                3.3441215555428,
                48.915424399696
               ],
               [
                3.3535717935992,
                48.915243105496
               ],
               [
                3.3663458595763,
                48.922834212302
               ],
               [
                3.3722055688435,
                48.921684863018
               ],
               [
                3.3755045418202,
                48.907223979388
               ],
               [
                3.3690076856012,
                48.893887842681
               ],
               [
                3.3828118491401,
                48.888743663179
               ],
               [
                3.3804785922907,
                48.874760520568
               ],
               [
                3.3897420595655,
                48.871208088242
               ],
               [
                3.4058488876005,
                48.875883179755
               ],
               [
                3.4032208419263,
                48.864690111949
               ],
               [
                3.4209735309142,
                48.863949992871
               ],
               [
                3.4522351731222,
                48.856295042236
               ],
               [
                3.4453621334286,
                48.843227318178
               ],
               [
                3.4619058634763,
                48.837795469902
               ],
               [
                3.4704665824993,
                48.850999590899
               ],
               [
                3.4851833721947,
                48.851910309574
               ],
               [
                3.4895742506519,
                48.839868156733
               ],
               [
                3.4849684486637,
                48.825009748881
               ],
               [
                3.4872017702391,
                48.815190371551
               ],
               [
                3.4809287140503,
                48.81218578416
               ],
               [
                3.4703815627087,
                48.8208976637
               ],
               [
                3.4544121814945,
                48.813840024336
               ],
               [
                3.4321664968613,
                48.812257770946
               ],
               [
                3.4166176467147,
                48.817828781451
               ],
               [
                3.4041649646308,
                48.80927626878
               ],
               [
                3.4104778884203,
                48.803943061752
               ],
               [
                3.4412895824977,
                48.800919300185
               ],
               [
                3.442160723333,
                48.784353883555
               ],
               [
                3.4282111529646,
                48.77948500421
               ],
               [
                3.4094228096892,
                48.783835572028
               ],
               [
                3.4008409030783,
                48.767256400859
               ],
               [
                3.398657955437,
                48.755599281994
               ],
               [
                3.4129613380945,
                48.753902050854
               ],
               [
                3.4256695187547,
                48.755689536249
               ],
               [
                3.4358103469779,
                48.753571711386
               ],
               [
                3.440606129229,
                48.738701946832
               ],
               [
                3.4674670222781,
                48.735224220894
               ],
               [
                3.4643082791983,
                48.707378088042
               ],
               [
                3.4769690535178,
                48.699355347111
               ],
               [
                3.4658318000834,
                48.68619250912
               ],
               [
                3.4545564374114,
                48.682119139778
               ],
               [
                3.442691260176,
                48.672503410154
               ],
               [
                3.4408489379625,
                48.66307286353
               ],
               [
                3.4604317354595,
                48.653009078358
               ],
               [
                3.4531162175594,
                48.633955984329
               ],
               [
                3.4765733783329,
                48.637329365265
               ],
               [
                3.4881941587649,
                48.644795887875
               ],
               [
                3.5031842529874,
                48.645682506087
               ],
               [
                3.517498400146,
                48.643365240313
               ],
               [
                3.5190643678345,
                48.633470112339
               ],
               [
                3.54590310832,
                48.62806547987
               ],
               [
                3.555613758785,
                48.620285576065
               ],
               [
                3.5346181421224,
                48.61035282902
               ],
               [
                3.5038548704771,
                48.604807329745
               ],
               [
                3.5158639136582,
                48.589782150903
               ],
               [
                3.4975057114927,
                48.589954752513
               ],
               [
                3.4852747034173,
                48.580426868353
               ],
               [
                3.4733827141903,
                48.576873863934
               ],
               [
                3.4655215727904,
                48.570484758136
               ],
               [
                3.4722961348839,
                48.564913176785
               ],
               [
                3.4797700428722,
                48.550623337178
               ],
               [
                3.4796007670225,
                48.544709319952
               ],
               [
                3.4591848626137,
                48.530740265696
               ],
               [
                3.4382278519026,
                48.52833381057
               ],
               [
                3.4234477695307,
                48.533559074894
               ],
               [
                3.4142391071512,
                48.533468273095
               ],
               [
                3.4053967325678,
                48.528014902933
               ],
               [
                3.4239142947726,
                48.514360214193
               ],
               [
                3.4346387383078,
                48.490251682592
               ],
               [
                3.4203545971629,
                48.491547248944
               ],
               [
                3.3883584814447,
                48.480409204068
               ],
               [
                3.3964392758484,
                48.463728690957
               ],
               [
                3.4064837519344,
                48.45245201333
               ],
               [
                3.40356672054,
                48.438738834692
               ],
               [
                3.3969885214937,
                48.434567766893
               ],
               [
                3.3919585015834,
                48.424317659764
               ],
               [
                3.4118359218741,
                48.421315638566
               ],
               [
                3.4136232739227,
                48.414339744235
               ],
               [
                3.4220792964886,
                48.413341016525
               ],
               [
                3.4147888224632,
                48.390268550005
               ],
               [
                3.4020328168494,
                48.389706108674
               ],
               [
                3.3833174045242,
                48.39970411104
               ],
               [
                3.3672130286667,
                48.394317453742
               ],
               [
                3.3627847824483,
                48.382576787133
               ],
               [
                3.3651606301927,
                48.372282482296
               ],
               [
                3.3301099431753,
                48.372120787109
               ],
               [
                3.3093216217612,
                48.376980286994
               ],
               [
                3.3051586355523,
                48.372876819681
               ],
               [
                3.2823921646024,
                48.377519839785
               ],
               [
                3.2647767822592,
                48.374621237382
               ],
               [
                3.254386262298,
                48.36502005161
               ],
               [
                3.2328491246009,
                48.370332895515
               ],
               [
                3.2018505500023,
                48.364015470529
               ],
               [
                3.184946555144,
                48.368130335436
               ],
               [
                3.1796714598679,
                48.375720974057
               ],
               [
                3.1677335139977,
                48.371858146235
               ],
               [
                3.1398647131279,
                48.372599662445
               ],
               [
                3.1182555596676,
                48.366787852825
               ],
               [
                3.1034153439925,
                48.349510589018
               ],
               [
                3.0878411046476,
                48.358744110403
               ],
               [
                3.0605482162395,
                48.357442256262
               ],
               [
                3.0495229427782,
                48.360116755131
               ],
               [
                3.0374902381586,
                48.343151149375
               ],
               [
                3.0365741164856,
                48.326028248436
               ],
               [
                3.0158983096866,
                48.307897241414
               ],
               [
                3.0272557445779,
                48.300368070976
               ],
               [
                3.0204148507047,
                48.293439730003
               ],
               [
                3.0297705668286,
                48.285841287403
               ],
               [
                3.0249639004196,
                48.27600913901
               ],
               [
                3.0436326434308,
                48.272020556142
               ],
               [
                3.047565503762,
                48.249696163103
               ],
               [
                3.0314619630164,
                48.248879164003
               ],
               [
                3.0185660113854,
                48.235192866522
               ],
               [
                3.0189243879447,
                48.231774581507
               ],
               [
                3.0051596957479,
                48.207665501246
               ],
               [
                2.9889655342085,
                48.209014778073
               ],
               [
                2.9744704228122,
                48.205550154363
               ],
               [
                2.9695465243882,
                48.193835497978
               ],
               [
                2.9507427471906,
                48.190202971569
               ],
               [
                2.9347445709406,
                48.178820824383
               ],
               [
                2.9363157566366,
                48.163391744884
               ],
               [
                2.8680328112418,
                48.156437148324
               ],
               [
                2.8590064128033,
                48.147350198136
               ],
               [
                2.8411949308256,
                48.137851473794
               ],
               [
                2.8252530440464,
                48.133557427837
               ],
               [
                2.8208840113898,
                48.129664483454
               ],
               [
                2.800901925208,
                48.133251589253
               ],
               [
                2.7986329461926,
                48.150165448323
               ],
               [
                2.8099458960087,
                48.161299706681
               ],
               [
                2.7989459318842,
                48.168273053171
               ],
               [
                2.7801683123181,
                48.167546718776
               ],
               [
                2.7686108994112,
                48.163611325806
               ],
               [
                2.7462653547317,
                48.163802955575
               ],
               [
                2.7414632024764,
                48.159773038474
               ],
               [
                2.7535738017345,
                48.15321134405
               ],
               [
                2.7551942761197,
                48.145652570311
               ],
               [
                2.7291489796899,
                48.139089867843
               ],
               [
                2.706543037587,
                48.124819235783
               ],
               [
                2.6722231385896,
                48.124202437622
               ],
               [
                2.6634137701321,
                48.122204261229
               ],
               [
                2.6463713950461,
                48.136008390021
               ],
               [
                2.6397379446435,
                48.138858805822
               ],
               [
                2.6026896280919,
                48.131484417095
               ],
               [
                2.5775724874953,
                48.132078323329
               ],
               [
                2.570559954027,
                48.140815681604
               ],
               [
                2.5381145999136,
                48.140650823762
               ],
               [
                2.5215119811805,
                48.127298388836
               ],
               [
                2.4903125823631,
                48.126606179474
               ],
               [
                2.4648664700171,
                48.129109351924
               ],
               [
                2.4510870610062,
                48.123458807719
               ],
               [
                2.4442532323658,
                48.131467936811
               ],
               [
                2.4560832798883,
                48.13581808329
               ],
               [
                2.4783726996912,
                48.156743847
               ],
               [
                2.4832322969696,
                48.164516406945
               ],
               [
                2.5063243383023,
                48.156437563961
               ],
               [
                2.5168430223759,
                48.166807571121
               ],
               [
                2.5097551291606,
                48.177877699501
               ],
               [
                2.5129645377339,
                48.192979126229
               ],
               [
                2.5229439829919,
                48.200517077101
               ],
               [
                2.5141133764865,
                48.214377652405
               ],
               [
                2.5061863934974,
                48.238532108957
               ],
               [
                2.4866525872998,
                48.240104494021
               ],
               [
                2.4690928288345,
                48.255276432625
               ],
               [
                2.4501643446939,
                48.250036886561
               ],
               [
                2.4319323869166,
                48.255142430662
               ],
               [
                2.4237621901031,
                48.260296420297
               ],
               [
                2.4178314142956,
                48.278395078542
               ],
               [
                2.4231698173532,
                48.289315551296
               ],
               [
                2.4207604700518,
                48.299253278858
               ],
               [
                2.4048123966273,
                48.314593139765
               ],
               [
                2.4026629385658,
                48.320717653248
               ],
               [
                2.3936432426131,
                48.330904514522
               ],
               [
                2.3931765378081,
                48.336276224436
               ],
               [
                2.4255757157654,
                48.337245759129
               ],
               [
                2.4353486081157,
                48.353601096257
               ],
               [
                2.4298336175359,
                48.362012190971
               ],
               [
                2.4514612247762,
                48.374939569978
               ],
               [
                2.4692109816408,
                48.376449111258
               ],
               [
                2.4831342533299,
                48.3845692019
               ],
               [
                2.4738364829183,
                48.390477944369
               ],
               [
                2.482624887353,
                48.395570153778
               ],
               [
                2.5028806697968,
                48.392912777413
               ],
               [
                2.5216189750667,
                48.404932194382
               ],
               [
                2.5345790748515,
                48.404237036735
               ],
               [
                2.5337277804202,
                48.411251130404
               ],
               [
                2.5173761430247,
                48.427459754888
               ],
               [
                2.507657612825,
                48.429542119039
               ],
               [
                2.5047511155697,
                48.439445122154
               ],
               [
                2.5059355570193,
                48.461154873319
               ],
               [
                2.5018876471506,
                48.484768503419
               ],
               [
                2.51013182468,
                48.488378773705
               ],
               [
                2.5153562670148,
                48.504445668033
               ],
               [
                2.5090104505562,
                48.508140380735
               ],
               [
                2.4995247172499,
                48.525234550232
               ],
               [
                2.5108180265073,
                48.543116722691
               ],
               [
                2.5009750387696,
                48.546173070367
               ],
               [
                2.5135771377389,
                48.558215669745
               ],
               [
                2.5217689565415,
                48.573224776701
               ],
               [
                2.5182811370135,
                48.58325330677
               ],
               [
                2.5333428613649,
                48.589171157103
               ],
               [
                2.5407668344973,
                48.595495914424
               ],
               [
                2.5437805754235,
                48.603850686248
               ],
               [
                2.5406937585523,
                48.611406555087
               ],
               [
                2.5258420647199,
                48.613103319179
               ],
               [
                2.5268345542116,
                48.621417058075
               ],
               [
                2.5182318429154,
                48.627093611305
               ],
               [
                2.527421313864,
                48.633371245833
               ],
               [
                2.5424110527051,
                48.635473450172
               ],
               [
                2.5411152047382,
                48.651544369478
               ],
               [
                2.5336146170614,
                48.657334981367
               ],
               [
                2.5448201812671,
                48.67118451862
               ],
               [
                2.5594038933391,
                48.672390641128
               ],
               [
                2.5853737107586,
                48.679395351685
               ],
               [
                2.5787732945151,
                48.690249491839
               ],
               [
                2.5716535034613,
                48.69201676557
               ]
              ]
             ],
             "type": "Polygon"
            },
            "id": "1",
            "properties": {},
            "type": "Feature"
           },
           {
            "bbox": [
             1.4472851104304,
             48.440146719021,
             2.2265538842831,
             49.08303659502
            ],
            "geometry": {
             "coordinates": [
              [
               [
                2.2005910092695,
                48.908679329899
               ],
               [
                2.1765183808683,
                48.900349435762
               ],
               [
                2.1677833601069,
                48.894417281801
               ],
               [
                2.1528705339192,
                48.873338063287
               ],
               [
                2.1532113486874,
                48.848852456588
               ],
               [
                2.1458760215967,
                48.836022751826
               ],
               [
                2.1515805126399,
                48.817021316976
               ],
               [
                2.1605570086469,
                48.813043649008
               ],
               [
                2.1766702709493,
                48.813808667803
               ],
               [
                2.1836952927536,
                48.797237542236
               ],
               [
                2.2026391702069,
                48.798400652391
               ],
               [
                2.2115088216259,
                48.788138691837
               ],
               [
                2.223319655228,
                48.785943206962
               ],
               [
                2.2265538842831,
                48.776101996393
               ],
               [
                2.2099186754479,
                48.769192527247
               ],
               [
                2.1910712604347,
                48.775122277406
               ],
               [
                2.192317263511,
                48.763285114137
               ],
               [
                2.1820123672797,
                48.757574558863
               ],
               [
                2.1680122718546,
                48.756836536461
               ],
               [
                2.1605126243942,
                48.752014252613
               ],
               [
                2.1506777536849,
                48.753710336104
               ],
               [
                2.1384211955586,
                48.74615342302
               ],
               [
                2.1349745033773,
                48.737136538566
               ],
               [
                2.1118838344903,
                48.73955835886
               ],
               [
                2.0979976816391,
                48.73436321985
               ],
               [
                2.111168267855,
                48.724231347633
               ],
               [
                2.1103286614936,
                48.71437841267
               ],
               [
                2.0969343192737,
                48.702748042418
               ],
               [
                2.0978580418958,
                48.694030740642
               ],
               [
                2.0857970428575,
                48.692525773326
               ],
               [
                2.0822157938708,
                48.68585446348
               ],
               [
                2.0456604451446,
                48.68756805233
               ],
               [
                2.0376361003153,
                48.680219226712
               ],
               [
                2.0290327276387,
                48.664236731798
               ],
               [
                2.0281927750027,
                48.657259334271
               ],
               [
                2.0112162167678,
                48.659775158953
               ],
               [
                2.0129881452639,
                48.647690003816
               ],
               [
                2.0200083770792,
                48.642090643692
               ],
               [
                2.0359612070725,
                48.641907744749
               ],
               [
                2.034456506865,
                48.632456487516
               ],
               [
                2.0458818260422,
                48.622732498273
               ],
               [
                2.0602471726215,
                48.617597733568
               ],
               [
                2.0546695680501,
                48.608729666136
               ],
               [
                2.0345020728388,
                48.603502290966
               ],
               [
                2.0361244190883,
                48.590748476784
               ],
               [
                2.017226962458,
                48.569459551945
               ],
               [
                2.0175700627197,
                48.557593755935
               ],
               [
                1.999843911355,
                48.555387687139
               ],
               [
                1.9818197824217,
                48.555550526577
               ],
               [
                1.9630289819786,
                48.560481876073
               ],
               [
                1.9527665939994,
                48.559466252882
               ],
               [
                1.9378900456787,
                48.562926567593
               ],
               [
                1.9340616493117,
                48.548106841763
               ],
               [
                1.9674208443859,
                48.533067716836
               ],
               [
                1.9532944656762,
                48.523736261273
               ],
               [
                1.9368069560798,
                48.500865304824
               ],
               [
                1.9333793220099,
                48.482145535364
               ],
               [
                1.9149199821626,
                48.473854999246
               ],
               [
                1.9163409812792,
                48.464861099393
               ],
               [
                1.9221462784913,
                48.457599361977
               ],
               [
                1.9207376717625,
                48.447750046159
               ],
               [
                1.9065549813045,
                48.445672344539
               ],
               [
                1.9064076592587,
                48.440146719021
               ],
               [
                1.8774887068591,
                48.440613561663
               ],
               [
                1.8448630603718,
                48.449360706547
               ],
               [
                1.8363839553347,
                48.466477806902
               ],
               [
                1.8014512893542,
                48.466086215218
               ],
               [
                1.7963309289573,
                48.484187938277
               ],
               [
                1.7857092863217,
                48.489936911612
               ],
               [
                1.7906352036641,
                48.497377315443
               ],
               [
                1.7786170432038,
                48.508131705459
               ],
               [
                1.7757543018107,
                48.527702827198
               ],
               [
                1.7872423006556,
                48.553746336139
               ],
               [
                1.7674104287362,
                48.559405546059
               ],
               [
                1.765322855183,
                48.569374568412
               ],
               [
                1.7458629248393,
                48.576137031624
               ],
               [
                1.7368302606076,
                48.572280930629
               ],
               [
                1.7092486767776,
                48.578026100992
               ],
               [
                1.701983609829,
                48.584999462088
               ],
               [
                1.7178604312421,
                48.606851120102
               ],
               [
                1.7148984609516,
                48.614392276576
               ],
               [
                1.689422105099,
                48.611536250362
               ],
               [
                1.6793591385148,
                48.618488989615
               ],
               [
                1.6662229993646,
                48.613704063337
               ],
               [
                1.656339110342,
                48.622053121145
               ],
               [
                1.6582325680054,
                48.627645882726
               ],
               [
                1.6495606586096,
                48.63227092599
               ],
               [
                1.6515719070139,
                48.638125076138
               ],
               [
                1.64099001993,
                48.643389970225
               ],
               [
                1.6431906740267,
                48.651291198129
               ],
               [
                1.6298476379809,
                48.648875085504
               ],
               [
                1.6156160327829,
                48.652789464959
               ],
               [
                1.6024917313048,
                48.663765432374
               ],
               [
                1.6058633277913,
                48.678762670696
               ],
               [
                1.611774872468,
                48.689473861848
               ],
               [
                1.5823151457709,
                48.696368116243
               ],
               [
                1.5795403954022,
                48.701811808781
               ],
               [
                1.5948810579854,
                48.709310708948
               ],
               [
                1.5895382120501,
                48.712468154974
               ],
               [
                1.617804540369,
                48.735942039093
               ],
               [
                1.6264035004424,
                48.748091646614
               ],
               [
                1.6026875153092,
                48.760486506237
               ],
               [
                1.5849045861802,
                48.763296867942
               ],
               [
                1.5875973267999,
                48.77360593191
               ],
               [
                1.5803992974877,
                48.777559499888
               ],
               [
                1.5756742997058,
                48.790504096814
               ],
               [
                1.5834240899801,
                48.807168828475
               ],
               [
                1.5912058811372,
                48.814866973865
               ],
               [
                1.5837280523171,
                48.832130726577
               ],
               [
                1.5941817842602,
                48.834218536506
               ],
               [
                1.5951919881928,
                48.839707334891
               ],
               [
                1.5772727483959,
                48.844358116549
               ],
               [
                1.5815974879282,
                48.854999853184
               ],
               [
                1.5780393102494,
                48.860864409827
               ],
               [
                1.5666395741734,
                48.866183647932
               ],
               [
                1.5552126063723,
                48.865075717505
               ],
               [
                1.5462328761118,
                48.872431616391
               ],
               [
                1.5595079054893,
                48.882055273516
               ],
               [
                1.5572530066459,
                48.891575743208
               ],
               [
                1.5385235335514,
                48.906685854091
               ],
               [
                1.5417973746939,
                48.91547990669
               ],
               [
                1.5386177797921,
                48.921794692396
               ],
               [
                1.5241021875366,
                48.924752145617
               ],
               [
                1.5128954188837,
                48.922585369837
               ],
               [
                1.5090139983632,
                48.936627464834
               ],
               [
                1.5015266013113,
                48.941051842112
               ],
               [
                1.5010590902862,
                48.952678048634
               ],
               [
                1.4966058957223,
                48.969344788938
               ],
               [
                1.5155485568584,
                48.976406187821
               ],
               [
                1.5079088220123,
                48.98376724437
               ],
               [
                1.497416022081,
                48.979551284823
               ],
               [
                1.4770931932159,
                48.978791319268
               ],
               [
                1.4706099672547,
                48.975306435494
               ],
               [
                1.4609202371105,
                48.986433838647
               ],
               [
                1.4787512905862,
                48.998884682872
               ],
               [
                1.4721822976397,
                49.018490972378
               ],
               [
                1.4577570076778,
                49.026294572016
               ],
               [
                1.4579533584639,
                49.03483279821
               ],
               [
                1.4474286969633,
                49.04518889808
               ],
               [
                1.4472851104304,
                49.053509472828
               ],
               [
                1.4608012364168,
                49.062739598254
               ],
               [
                1.4848766880401,
                49.0515451317
               ],
               [
                1.5032944474047,
                49.059098256736
               ],
               [
                1.5116006058281,
                49.074136193201
               ],
               [
                1.5217716034178,
                49.068546693163
               ],
               [
                1.5494725491086,
                49.072557881924
               ],
               [
                1.5570743762242,
                49.069620586462
               ],
               [
                1.5747375500157,
                49.078437534581
               ],
               [
                1.6044866350314,
                49.08303659502
               ],
               [
                1.608798807603,
                49.077894185227
               ],
               [
                1.6141564760593,
                49.071448021972
               ],
               [
                1.6292577222733,
                49.078286632616
               ],
               [
                1.6429103427093,
                49.081251769387
               ],
               [
                1.6602322098294,
                49.081089987836
               ],
               [
                1.6736890350523,
                49.078154769223
               ],
               [
                1.6971091015472,
                49.065962446366
               ],
               [
                1.6949167927313,
                49.056327234914
               ],
               [
                1.7171010524139,
                49.04903025476
               ],
               [
                1.7234517354795,
                49.044974719281
               ],
               [
                1.7356433379106,
                49.048684595888
               ],
               [
                1.7511782974558,
                49.048223015203
               ],
               [
                1.7502240292765,
                49.05410421169
               ],
               [
                1.7596223758831,
                49.063324634192
               ],
               [
                1.7777603243167,
                49.05658172354
               ],
               [
                1.7941625055309,
                49.058508218145
               ],
               [
                1.7998422239972,
                49.064555011994
               ],
               [
                1.7965480580586,
                49.072232211602
               ],
               [
                1.8239435408566,
                49.076360256056
               ],
               [
                1.8406440398067,
                49.069332222477
               ],
               [
                1.8417831494014,
                49.064654564598
               ],
               [
                1.8654659990427,
                49.05747165429
               ],
               [
                1.8606119952712,
                49.046346047943
               ],
               [
                1.8520019385024,
                49.035204042747
               ],
               [
                1.8691165460014,
                49.01823441815
               ],
               [
                1.8818941990409,
                49.019542051399
               ],
               [
                1.8832054260904,
                49.033529797441
               ],
               [
                1.9085198609511,
                49.048019307838
               ],
               [
                1.9378008717251,
                49.021772717877
               ],
               [
                1.9549423612736,
                49.024533707311
               ],
               [
                1.974053010825,
                49.019426174588
               ],
               [
                1.9918871076265,
                49.021006179043
               ],
               [
                2.0144337197287,
                49.00106609648
               ],
               [
                2.0247730275828,
                48.998756705331
               ],
               [
                2.0498584568979,
                49.003200683684
               ],
               [
                2.0644261289366,
                49.008208904929
               ],
               [
                2.0754526810069,
                49.002257622875
               ],
               [
                2.0849108992224,
                49.014674188012
               ],
               [
                2.1102443408749,
                49.008729959034
               ],
               [
                2.1212540749308,
                49.018332284915
               ],
               [
                2.127121298296,
                49.009679391237
               ],
               [
                2.1207126382788,
                48.993300321431
               ],
               [
                2.1269716643348,
                48.989140165715
               ],
               [
                2.1549353971038,
                48.985726242203
               ],
               [
                2.1732779441741,
                48.975633867858
               ],
               [
                2.1782956060357,
                48.964137829678
               ],
               [
                2.1735533368231,
                48.953158232311
               ],
               [
                2.205861118488,
                48.949738062716
               ],
               [
                2.2060210022656,
                48.94051776568
               ],
               [
                2.1989282039477,
                48.935252831528
               ],
               [
                2.2037015884478,
                48.914390956152
               ],
               [
                2.2005910092695,
                48.908679329899
               ]
              ]
             ],
             "type": "Polygon"
            },
            "id": "2",
            "properties": {},
            "type": "Feature"
           },
           {
            "bbox": [
             1.9149199821626,
             48.284688606385,
             2.5853737107586,
             48.776101996393
            ],
            "geometry": {
             "coordinates": [
              [
               [
                2.2265538842831,
                48.776101996393
               ],
               [
                2.2329743918365,
                48.766192980349
               ],
               [
                2.2476645497167,
                48.761102963541
               ],
               [
                2.2593929492592,
                48.761011671227
               ],
               [
                2.275033240625,
                48.755288275593
               ],
               [
                2.2853936451259,
                48.747508493238
               ],
               [
                2.274821276941,
                48.740090859412
               ],
               [
                2.2802904545364,
                48.733011078618
               ],
               [
                2.2983820323129,
                48.738637828397
               ],
               [
                2.3038400608379,
                48.72948996497
               ],
               [
                2.3132939902039,
                48.730280485815
               ],
               [
                2.3207207141635,
                48.74875804931
               ],
               [
                2.3546796298175,
                48.738565068167
               ],
               [
                2.3693515629708,
                48.746067457624
               ],
               [
                2.3707040678761,
                48.720171411205
               ],
               [
                2.3867469186816,
                48.719975201473
               ],
               [
                2.4110164293164,
                48.726050022829
               ],
               [
                2.414130346149,
                48.717993666318
               ],
               [
                2.4401207414166,
                48.725433667155
               ],
               [
                2.4549382750663,
                48.722660904777
               ],
               [
                2.4673873361332,
                48.728713712543
               ],
               [
                2.4787749913062,
                48.727641481468
               ],
               [
                2.5035392718422,
                48.735213292289
               ],
               [
                2.5157481028347,
                48.728940405475
               ],
               [
                2.5208681543244,
                48.712797146805
               ],
               [
                2.5292660759678,
                48.706797944381
               ],
               [
                2.5310726121952,
                48.699783892783
               ],
               [
                2.5415977449297,
                48.700126122289
               ],
               [
                2.5538613239117,
                48.688326690701
               ],
               [
                2.5716535034613,
                48.69201676557
               ],
               [
                2.5787732945151,
                48.690249491839
               ],
               [
                2.5853737107586,
                48.679395351685
               ],
               [
                2.5594038933391,
                48.672390641128
               ],
               [
                2.5448201812671,
                48.67118451862
               ],
               [
                2.5336146170614,
                48.657334981367
               ],
               [
                2.5411152047382,
                48.651544369478
               ],
               [
                2.5424110527051,
                48.635473450172
               ],
               [
                2.527421313864,
                48.633371245833
               ],
               [
                2.5182318429154,
                48.627093611305
               ],
               [
                2.5268345542116,
                48.621417058075
               ],
               [
                2.5258420647199,
                48.613103319179
               ],
               [
                2.5406937585523,
                48.611406555087
               ],
               [
                2.5437805754235,
                48.603850686248
               ],
               [
                2.5407668344973,
                48.595495914424
               ],
               [
                2.5333428613649,
                48.589171157103
               ],
               [
                2.5182811370135,
                48.58325330677
               ],
               [
                2.5217689565415,
                48.573224776701
               ],
               [
                2.5135771377389,
                48.558215669745
               ],
               [
                2.5009750387696,
                48.546173070367
               ],
               [
                2.5108180265073,
                48.543116722691
               ],
               [
                2.4995247172499,
                48.525234550232
               ],
               [
                2.5090104505562,
                48.508140380735
               ],
               [
                2.5153562670148,
                48.504445668033
               ],
               [
                2.51013182468,
                48.488378773705
               ],
               [
                2.5018876471506,
                48.484768503419
               ],
               [
                2.5059355570193,
                48.461154873319
               ],
               [
                2.5047511155697,
                48.439445122154
               ],
               [
                2.507657612825,
                48.429542119039
               ],
               [
                2.5173761430247,
                48.427459754888
               ],
               [
                2.5337277804202,
                48.411251130404
               ],
               [
                2.5345790748515,
                48.404237036735
               ],
               [
                2.5216189750667,
                48.404932194382
               ],
               [
                2.5028806697968,
                48.392912777413
               ],
               [
                2.482624887353,
                48.395570153778
               ],
               [
                2.4738364829183,
                48.390477944369
               ],
               [
                2.4831342533299,
                48.3845692019
               ],
               [
                2.4692109816408,
                48.376449111258
               ],
               [
                2.4514612247762,
                48.374939569978
               ],
               [
                2.4298336175359,
                48.362012190971
               ],
               [
                2.4353486081157,
                48.353601096257
               ],
               [
                2.4255757157654,
                48.337245759129
               ],
               [
                2.3931765378081,
                48.336276224436
               ],
               [
                2.3936432426131,
                48.330904514522
               ],
               [
                2.4026629385658,
                48.320717653248
               ],
               [
                2.3968534009104,
                48.314755298076
               ],
               [
                2.3698159145392,
                48.308674310979
               ],
               [
                2.3401550939779,
                48.320230117587
               ],
               [
                2.3276948002521,
                48.333053330653
               ],
               [
                2.312593571187,
                48.330803657009
               ],
               [
                2.2954192911964,
                48.30822244035
               ],
               [
                2.2668923386489,
                48.314682212687
               ],
               [
                2.2535700132149,
                48.300243238173
               ],
               [
                2.2451518848313,
                48.298393903395
               ],
               [
                2.2494360700816,
                48.314580917036
               ],
               [
                2.2380428382036,
                48.316370632568
               ],
               [
                2.2463103911083,
                48.329962148865
               ],
               [
                2.2295923211201,
                48.329229232055
               ],
               [
                2.2239137900476,
                48.336416239958
               ],
               [
                2.2022520441218,
                48.344598562828
               ],
               [
                2.1982097691131,
                48.337062877906
               ],
               [
                2.185025102223,
                48.32642865382
               ],
               [
                2.1813553737363,
                48.313746373001
               ],
               [
                2.1690253806915,
                48.312695907539
               ],
               [
                2.1543896262247,
                48.315910610694
               ],
               [
                2.1557084788588,
                48.304493813388
               ],
               [
                2.1637483268763,
                48.298436908006
               ],
               [
                2.1361199958338,
                48.299247999325
               ],
               [
                2.1105944678389,
                48.29694441258
               ],
               [
                2.1137168991141,
                48.307245161467
               ],
               [
                2.1061680366894,
                48.307635584746
               ],
               [
                2.0815050149817,
                48.293603520661
               ],
               [
                2.0527138226636,
                48.295470353999
               ],
               [
                2.0493770399482,
                48.289753273514
               ],
               [
                2.0228447716486,
                48.288080340461
               ],
               [
                2.007237571012,
                48.284688606385
               ],
               [
                1.9940901445311,
                48.286584124472
               ],
               [
                1.9752915866555,
                48.287202034779
               ],
               [
                1.9666102219583,
                48.295582043441
               ],
               [
                1.959225976988,
                48.308685064463
               ],
               [
                1.9694413393402,
                48.314231718094
               ],
               [
                1.9744919508382,
                48.323163720082
               ],
               [
                1.9823432207772,
                48.328312555088
               ],
               [
                1.9749473035511,
                48.335258065972
               ],
               [
                1.9733953665973,
                48.352974683353
               ],
               [
                1.9868237281778,
                48.362141015776
               ],
               [
                1.9763108383484,
                48.380270715947
               ],
               [
                1.966381938603,
                48.38158815854
               ],
               [
                1.9765710225943,
                48.399385315775
               ],
               [
                1.9619541453882,
                48.404321075988
               ],
               [
                1.9427703207411,
                48.405651458209
               ],
               [
                1.9305611178719,
                48.404126689728
               ],
               [
                1.925889401548,
                48.412741750651
               ],
               [
                1.9378068315128,
                48.426390003183
               ],
               [
                1.9428970138616,
                48.441083787001
               ],
               [
                1.9331248410711,
                48.442264032481
               ],
               [
                1.9304234130097,
                48.453403326926
               ],
               [
                1.9221462784913,
                48.457599361977
               ],
               [
                1.9163409812792,
                48.464861099393
               ],
               [
                1.9149199821626,
                48.473854999246
               ],
               [
                1.9333793220099,
                48.482145535364
               ],
               [
                1.9368069560798,
                48.500865304824
               ],
               [
                1.9532944656762,
                48.523736261273
               ],
               [
                1.9674208443859,
                48.533067716836
               ],
               [
                1.9340616493117,
                48.548106841763
               ],
               [
                1.9378900456787,
                48.562926567593
               ],
               [
                1.9527665939994,
                48.559466252882
               ],
               [
                1.9630289819786,
                48.560481876073
               ],
               [
                1.9818197824217,
                48.555550526577
               ],
               [
                1.999843911355,
                48.555387687139
               ],
               [
                2.0175700627197,
                48.557593755935
               ],
               [
                2.017226962458,
                48.569459551945
               ],
               [
                2.0361244190883,
                48.590748476784
               ],
               [
                2.0345020728388,
                48.603502290966
               ],
               [
                2.0546695680501,
                48.608729666136
               ],
               [
                2.0602471726215,
                48.617597733568
               ],
               [
                2.0458818260422,
                48.622732498273
               ],
               [
                2.034456506865,
                48.632456487516
               ],
               [
                2.0359612070725,
                48.641907744749
               ],
               [
                2.0200083770792,
                48.642090643692
               ],
               [
                2.0129881452639,
                48.647690003816
               ],
               [
                2.0112162167678,
                48.659775158953
               ],
               [
                2.0281927750027,
                48.657259334271
               ],
               [
                2.0290327276387,
                48.664236731798
               ],
               [
                2.0376361003153,
                48.680219226712
               ],
               [
                2.0456604451446,
                48.68756805233
               ],
               [
                2.0822157938708,
                48.68585446348
               ],
               [
                2.0857970428575,
                48.692525773326
               ],
               [
                2.0978580418958,
                48.694030740642
               ],
               [
                2.0969343192737,
                48.702748042418
               ],
               [
                2.1103286614936,
                48.71437841267
               ],
               [
                2.111168267855,
                48.724231347633
               ],
               [
                2.0979976816391,
                48.73436321985
               ],
               [
                2.1118838344903,
                48.73955835886
               ],
               [
                2.1349745033773,
                48.737136538566
               ],
               [
                2.1384211955586,
                48.74615342302
               ],
               [
                2.1506777536849,
                48.753710336104
               ],
               [
                2.1605126243942,
                48.752014252613
               ],
               [
                2.1680122718546,
                48.756836536461
               ],
               [
                2.1820123672797,
                48.757574558863
               ],
               [
                2.192317263511,
                48.763285114137
               ],
               [
                2.1910712604347,
                48.775122277406
               ],
               [
                2.2099186754479,
                48.769192527247
               ],
               [
                2.2265538842831,
                48.776101996393
               ]
              ]
             ],
             "type": "Polygon"
            },
            "id": "3",
            "properties": {},
            "type": "Feature"
           },
           {
            "bbox": [
             2.1458760215967,
             48.72948996497,
             2.3363529889891,
             48.950965864655
            ],
            "geometry": {
             "coordinates": [
              [
               [
                2.2909694895753,
                48.950965864655
               ],
               [
                2.3269728001661,
                48.945361349484
               ],
               [
                2.3355682105858,
                48.940679976956
               ],
               [
                2.3363529889891,
                48.932347933816
               ],
               [
                2.3198186224138,
                48.915937453257
               ],
               [
                2.3137528853936,
                48.914015216252
               ],
               [
                2.3198871747441,
                48.90045978209
               ],
               [
                2.2915068524977,
                48.8894718708
               ],
               [
                2.2774870298138,
                48.877968320853
               ],
               [
                2.2584671711142,
                48.880387263086
               ],
               [
                2.2317363597469,
                48.86906858161
               ],
               [
                2.2242191058804,
                48.853516917557
               ],
               [
                2.2506124417162,
                48.845554851211
               ],
               [
                2.2551442384175,
                48.834809549369
               ],
               [
                2.2727931901868,
                48.827920084226
               ],
               [
                2.2790519306533,
                48.832489952145
               ],
               [
                2.2921959226619,
                48.82714160912
               ],
               [
                2.3318980606376,
                48.817010929642
               ],
               [
                2.3186962648686,
                48.787997409568
               ],
               [
                2.3258147798433,
                48.781908297526
               ],
               [
                2.3102224901101,
                48.75695290327
               ],
               [
                2.3207207141635,
                48.74875804931
               ],
               [
                2.3132939902039,
                48.730280485815
               ],
               [
                2.3038400608379,
                48.72948996497
               ],
               [
                2.2983820323129,
                48.738637828397
               ],
               [
                2.2802904545364,
                48.733011078618
               ],
               [
                2.274821276941,
                48.740090859412
               ],
               [
                2.2853936451259,
                48.747508493238
               ],
               [
                2.275033240625,
                48.755288275593
               ],
               [
                2.2593929492592,
                48.761011671227
               ],
               [
                2.2476645497167,
                48.761102963541
               ],
               [
                2.2329743918365,
                48.766192980349
               ],
               [
                2.2265538842831,
                48.776101996393
               ],
               [
                2.223319655228,
                48.785943206962
               ],
               [
                2.2115088216259,
                48.788138691837
               ],
               [
                2.2026391702069,
                48.798400652391
               ],
               [
                2.1836952927536,
                48.797237542236
               ],
               [
                2.1766702709493,
                48.813808667803
               ],
               [
                2.1605570086469,
                48.813043649008
               ],
               [
                2.1515805126399,
                48.817021316976
               ],
               [
                2.1458760215967,
                48.836022751826
               ],
               [
                2.1532113486874,
                48.848852456588
               ],
               [
                2.1528705339192,
                48.873338063287
               ],
               [
                2.1677833601069,
                48.894417281801
               ],
               [
                2.1765183808683,
                48.900349435762
               ],
               [
                2.2005910092695,
                48.908679329899
               ],
               [
                2.231140371461,
                48.927732507513
               ],
               [
                2.2687285425666,
                48.946575058002
               ],
               [
                2.2909694895753,
                48.950965864655
               ]
              ]
             ],
             "type": "Polygon"
            },
            "id": "4",
            "properties": {},
            "type": "Feature"
           },
           {
            "bbox": [
             2.2882536989787,
             48.807437551952,
             2.6025997962059,
             49.012397786393
            ],
            "geometry": {
             "coordinates": [
              [
               [
                2.5530565519414,
                49.009816202999
               ],
               [
                2.5657856607901,
                49.012397786393
               ],
               [
                2.5716715859606,
                48.999841685023
               ],
               [
                2.5803194899487,
                48.991593137352
               ],
               [
                2.5797962900593,
                48.984984703781
               ],
               [
                2.5634346213721,
                48.977732430334
               ],
               [
                2.5893050070876,
                48.953758253881
               ],
               [
                2.6025997962059,
                48.929356607315
               ],
               [
                2.5906912334031,
                48.923361520931
               ],
               [
                2.5912646006622,
                48.906830121884
               ],
               [
                2.5838172328399,
                48.895410384217
               ],
               [
                2.5626276286343,
                48.888883251177
               ],
               [
                2.5594064582352,
                48.885336254164
               ],
               [
                2.5702348571309,
                48.876463404921
               ],
               [
                2.568109258403,
                48.865942675094
               ],
               [
                2.5873261857605,
                48.865005030869
               ],
               [
                2.5831356251086,
                48.857208607635
               ],
               [
                2.5738417937528,
                48.853385173417
               ],
               [
                2.5925149932073,
                48.825870860417
               ],
               [
                2.5964557305467,
                48.810889137262
               ],
               [
                2.5922736733656,
                48.807437551952
               ],
               [
                2.574124871997,
                48.8129126037
               ],
               [
                2.5709791871159,
                48.8226801571
               ],
               [
                2.5313232159076,
                48.844429712931
               ],
               [
                2.4956483361361,
                48.860848724102
               ],
               [
                2.4815382130314,
                48.861405371284
               ],
               [
                2.4476549109644,
                48.852094875028
               ],
               [
                2.4163411302989,
                48.849233783552
               ],
               [
                2.4132702557262,
                48.872892145992
               ],
               [
                2.3988455271816,
                48.887109095072
               ],
               [
                2.394906293421,
                48.898444039523
               ],
               [
                2.3851496429397,
                48.902007785215
               ],
               [
                2.3198871747441,
                48.90045978209
               ],
               [
                2.3137528853936,
                48.914015216252
               ],
               [
                2.3198186224138,
                48.915937453257
               ],
               [
                2.3363529889891,
                48.932347933816
               ],
               [
                2.3355682105858,
                48.940679976956
               ],
               [
                2.3269728001661,
                48.945361349484
               ],
               [
                2.2909694895753,
                48.950965864655
               ],
               [
                2.2882536989787,
                48.958347222268
               ],
               [
                2.2989606605183,
                48.966304083093
               ],
               [
                2.3061147975372,
                48.96262002844
               ],
               [
                2.3277204556376,
                48.959659512979
               ],
               [
                2.3536647251325,
                48.965815537603
               ],
               [
                2.3664463375656,
                48.974178481395
               ],
               [
                2.3845399502938,
                48.970995811739
               ],
               [
                2.3943172032158,
                48.962558403369
               ],
               [
                2.4073892851778,
                48.956124752826
               ],
               [
                2.427263253996,
                48.959221267075
               ],
               [
                2.4594885661379,
                48.955049018342
               ],
               [
                2.4673269472292,
                48.964338344645
               ],
               [
                2.4960054328348,
                48.972719183153
               ],
               [
                2.5004037138928,
                48.97770409094
               ],
               [
                2.514763879623,
                48.982255621303
               ],
               [
                2.5183558101117,
                48.9894603436
               ],
               [
                2.5322372193717,
                49.005223735412
               ],
               [
                2.5477767707755,
                49.004873251062
               ],
               [
                2.5530565519414,
                49.009816202999
               ]
              ]
             ],
             "type": "Polygon"
            },
            "id": "5",
            "properties": {},
            "type": "Feature"
           },
           {
            "bbox": [
             2.3102224901101,
             48.688326690701,
             2.6136517425679,
             48.861405371284
            ],
            "geometry": {
             "coordinates": [
              [
               [
                2.3318980606376,
                48.817010929642
               ],
               [
                2.363946550191,
                48.816314210034
               ],
               [
                2.3909392530738,
                48.826078980076
               ],
               [
                2.406031823401,
                48.827615470779
               ],
               [
                2.4384475102742,
                48.818232447877
               ],
               [
                2.4626960627524,
                48.819059770564
               ],
               [
                2.4675819883673,
                48.833133318793
               ],
               [
                2.4634383121686,
                48.842089485269
               ],
               [
                2.447699326814,
                48.844818443355
               ],
               [
                2.4281301699852,
                48.841528392473
               ],
               [
                2.4221386362435,
                48.835797660955
               ],
               [
                2.4122456125626,
                48.834538914673
               ],
               [
                2.4163411302989,
                48.849233783552
               ],
               [
                2.4476549109644,
                48.852094875028
               ],
               [
                2.4815382130314,
                48.861405371284
               ],
               [
                2.4956483361361,
                48.860848724102
               ],
               [
                2.5313232159076,
                48.844429712931
               ],
               [
                2.5709791871159,
                48.8226801571
               ],
               [
                2.574124871997,
                48.8129126037
               ],
               [
                2.5922736733656,
                48.807437551952
               ],
               [
                2.5918208872821,
                48.798135558654
               ],
               [
                2.5997697108259,
                48.794974135979
               ],
               [
                2.5856046173972,
                48.778627130829
               ],
               [
                2.5919605754401,
                48.77140075822
               ],
               [
                2.6070020497727,
                48.774401216878
               ],
               [
                2.6136517425679,
                48.76102540673
               ],
               [
                2.5982969429908,
                48.760480074814
               ],
               [
                2.6023411143901,
                48.753730034287
               ],
               [
                2.5858204453665,
                48.741487637605
               ],
               [
                2.5946737376888,
                48.73180600135
               ],
               [
                2.5852087623188,
                48.727242137595
               ],
               [
                2.5688027048808,
                48.707221723749
               ],
               [
                2.5752212918029,
                48.700368420834
               ],
               [
                2.5716535034613,
                48.69201676557
               ],
               [
                2.5538613239117,
                48.688326690701
               ],
               [
                2.5415977449297,
                48.700126122289
               ],
               [
                2.5310726121952,
                48.699783892783
               ],
               [
                2.5292660759678,
                48.706797944381
               ],
               [
                2.5208681543244,
                48.712797146805
               ],
               [
                2.5157481028347,
                48.728940405475
               ],
               [
                2.5035392718422,
                48.735213292289
               ],
               [
                2.4787749913062,
                48.727641481468
               ],
               [
                2.4673873361332,
                48.728713712543
               ],
               [
                2.4549382750663,
                48.722660904777
               ],
               [
                2.4401207414166,
                48.725433667155
               ],
               [
                2.414130346149,
                48.717993666318
               ],
               [
                2.4110164293164,
                48.726050022829
               ],
               [
                2.3867469186816,
                48.719975201473
               ],
               [
                2.3707040678761,
                48.720171411205
               ],
               [
                2.3693515629708,
                48.746067457624
               ],
               [
                2.3546796298175,
                48.738565068167
               ],
               [
                2.3207207141635,
                48.74875804931
               ],
               [
                2.3102224901101,
                48.75695290327
               ],
               [
                2.3258147798433,
                48.781908297526
               ],
               [
                2.3186962648686,
                48.787997409568
               ],
               [
                2.3318980606376,
                48.817010929642
               ]
              ]
             ],
             "type": "Polygon"
            },
            "id": "6",
            "properties": {},
            "type": "Feature"
           },
           {
            "bbox": [
             1.608798807603,
             48.908679329899,
             2.5905283926735,
             49.232197221792
            ],
            "geometry": {
             "coordinates": [
              [
               [
                1.7043588288241,
                49.232197221792
               ],
               [
                1.729662120604,
                49.22919730317
               ],
               [
                1.7341091784733,
                49.221277890399
               ],
               [
                1.7336823766846,
                49.210958623685
               ],
               [
                1.7230394537953,
                49.20967924589
               ],
               [
                1.7155761288215,
                49.203118037941
               ],
               [
                1.7258249045161,
                49.195712707137
               ],
               [
                1.7374357068856,
                49.194603115202
               ],
               [
                1.7421415990654,
                49.180151725276
               ],
               [
                1.7551705903258,
                49.174545969477
               ],
               [
                1.7775554860529,
                49.184104883007
               ],
               [
                1.7909791787819,
                49.179854330047
               ],
               [
                1.7954740881562,
                49.18526277584
               ],
               [
                1.8143979645085,
                49.176162362964
               ],
               [
                1.8265758315348,
                49.179516758866
               ],
               [
                1.8370818782543,
                49.171698986367
               ],
               [
                1.8455433838221,
                49.169896687357
               ],
               [
                1.877042152092,
                49.171448857663
               ],
               [
                1.8852348791181,
                49.162636028533
               ],
               [
                1.894536229716,
                49.166040538631
               ],
               [
                1.931476176782,
                49.17416772145
               ],
               [
                1.9480171420872,
                49.170749195544
               ],
               [
                1.9607171629873,
                49.173517298241
               ],
               [
                1.9734431640564,
                49.18389441504
               ],
               [
                1.996823915181,
                49.176453415327
               ],
               [
                2.0045021739488,
                49.177609556506
               ],
               [
                2.0217858750717,
                49.188671770161
               ],
               [
                2.0380917348167,
                49.192136044555
               ],
               [
                2.066842351201,
                49.202860855132
               ],
               [
                2.0808850919985,
                49.209773929407
               ],
               [
                2.0915398506152,
                49.204360444701
               ],
               [
                2.0968798927064,
                49.189757147704
               ],
               [
                2.1133369040576,
                49.186543761789
               ],
               [
                2.1327402600127,
                49.191379169415
               ],
               [
                2.1645707336419,
                49.179671393215
               ],
               [
                2.157743439339,
                49.172599185593
               ],
               [
                2.1642743368285,
                49.166004802028
               ],
               [
                2.1819527991076,
                49.173675958457
               ],
               [
                2.204958905762,
                49.174316445929
               ],
               [
                2.2186458815721,
                49.180685270888
               ],
               [
                2.2354095182703,
                49.167035850124
               ],
               [
                2.2163546658105,
                49.154378017348
               ],
               [
                2.2230049777895,
                49.151869445673
               ],
               [
                2.2524813607229,
                49.152881479913
               ],
               [
                2.2622091200851,
                49.158297463054
               ],
               [
                2.2695453788487,
                49.156306628677
               ],
               [
                2.2862682227562,
                49.160277559835
               ],
               [
                2.2888064839605,
                49.170710377425
               ],
               [
                2.2994229533516,
                49.17583535835
               ],
               [
                2.3011998615285,
                49.183887047533
               ],
               [
                2.3109304401404,
                49.186404768181
               ],
               [
                2.3222626753655,
                49.180859736345
               ],
               [
                2.3462625342946,
                49.161815854345
               ],
               [
                2.3592998527471,
                49.147343950086
               ],
               [
                2.370937678429,
                49.159173609651
               ],
               [
                2.383003341928,
                49.155913004846
               ],
               [
                2.3912847262891,
                49.1493504084
               ],
               [
                2.4153544805398,
                49.151762413963
               ],
               [
                2.4409039786288,
                49.14580411257
               ],
               [
                2.4354018020913,
                49.133939040206
               ],
               [
                2.4615068862157,
                49.135936921998
               ],
               [
                2.4817070713716,
                49.126919463544
               ],
               [
                2.4992321189629,
                49.122269747269
               ],
               [
                2.5020961933805,
                49.118887475459
               ],
               [
                2.4899295573932,
                49.106359373937
               ],
               [
                2.5310585957685,
                49.099597191318
               ],
               [
                2.5329944482474,
                49.119245162084
               ],
               [
                2.5408087122315,
                49.122242313794
               ],
               [
                2.5561550654469,
                49.118627938332
               ],
               [
                2.5520149054273,
                49.113947081753
               ],
               [
                2.5581755098966,
                49.098381756011
               ],
               [
                2.5786858654184,
                49.091952842127
               ],
               [
                2.5833038141204,
                49.080706309944
               ],
               [
                2.5905283926735,
                49.079653961607
               ],
               [
                2.5715472662178,
                49.059825274601
               ],
               [
                2.5741880306468,
                49.054149235821
               ],
               [
                2.5847224172596,
                49.052600876728
               ],
               [
                2.5882844530991,
                49.046956449876
               ],
               [
                2.573590385495,
                49.043134042541
               ],
               [
                2.5662405882259,
                49.030110020073
               ],
               [
                2.5476478248421,
                49.023448531806
               ],
               [
                2.5350135962143,
                49.023809402045
               ],
               [
                2.5378177402082,
                49.016609544367
               ],
               [
                2.5490471496408,
                49.014720763277
               ],
               [
                2.5530565519414,
                49.009816202999
               ],
               [
                2.5477767707755,
                49.004873251062
               ],
               [
                2.5322372193717,
                49.005223735412
               ],
               [
                2.5183558101117,
                48.9894603436
               ],
               [
                2.514763879623,
                48.982255621303
               ],
               [
                2.5004037138928,
                48.97770409094
               ],
               [
                2.4960054328348,
                48.972719183153
               ],
               [
                2.4673269472292,
                48.964338344645
               ],
               [
                2.4594885661379,
                48.955049018342
               ],
               [
                2.427263253996,
                48.959221267075
               ],
               [
                2.4073892851778,
                48.956124752826
               ],
               [
                2.3943172032158,
                48.962558403369
               ],
               [
                2.3845399502938,
                48.970995811739
               ],
               [
                2.3664463375656,
                48.974178481395
               ],
               [
                2.3536647251325,
                48.965815537603
               ],
               [
                2.3277204556376,
                48.959659512979
               ],
               [
                2.3061147975372,
                48.96262002844
               ],
               [
                2.2989606605183,
                48.966304083093
               ],
               [
                2.2882536989787,
                48.958347222268
               ],
               [
                2.2909694895753,
                48.950965864655
               ],
               [
                2.2687285425666,
                48.946575058002
               ],
               [
                2.231140371461,
                48.927732507513
               ],
               [
                2.2005910092695,
                48.908679329899
               ],
               [
                2.2037015884478,
                48.914390956152
               ],
               [
                2.1989282039477,
                48.935252831528
               ],
               [
                2.2060210022656,
                48.94051776568
               ],
               [
                2.205861118488,
                48.949738062716
               ],
               [
                2.1735533368231,
                48.953158232311
               ],
               [
                2.1782956060357,
                48.964137829678
               ],
               [
                2.1732779441741,
                48.975633867858
               ],
               [
                2.1549353971038,
                48.985726242203
               ],
               [
                2.1269716643348,
                48.989140165715
               ],
               [
                2.1207126382788,
                48.993300321431
               ],
               [
                2.127121298296,
                49.009679391237
               ],
               [
                2.1212540749308,
                49.018332284915
               ],
               [
                2.1102443408749,
                49.008729959034
               ],
               [
                2.0849108992224,
                49.014674188012
               ],
               [
                2.0754526810069,
                49.002257622875
               ],
               [
                2.0644261289366,
                49.008208904929
               ],
               [
                2.0498584568979,
                49.003200683684
               ],
               [
                2.0247730275828,
                48.998756705331
               ],
               [
                2.0144337197287,
                49.00106609648
               ],
               [
                1.9918871076265,
                49.021006179043
               ],
               [
                1.974053010825,
                49.019426174588
               ],
               [
                1.9549423612736,
                49.024533707311
               ],
               [
                1.9378008717251,
                49.021772717877
               ],
               [
                1.9085198609511,
                49.048019307838
               ],
               [
                1.8832054260904,
                49.033529797441
               ],
               [
                1.8818941990409,
                49.019542051399
               ],
               [
                1.8691165460014,
                49.01823441815
               ],
               [
                1.8520019385024,
                49.035204042747
               ],
               [
                1.8606119952712,
                49.046346047943
               ],
               [
                1.8654659990427,
                49.05747165429
               ],
               [
                1.8417831494014,
                49.064654564598
               ],
               [
                1.8406440398067,
                49.069332222477
               ],
               [
                1.8239435408566,
                49.076360256056
               ],
               [
                1.7965480580586,
                49.072232211602
               ],
               [
                1.7998422239972,
                49.064555011994
               ],
               [
                1.7941625055309,
                49.058508218145
               ],
               [
                1.7777603243167,
                49.05658172354
               ],
               [
                1.7596223758831,
                49.063324634192
               ],
               [
                1.7502240292765,
                49.05410421169
               ],
               [
                1.7511782974558,
                49.048223015203
               ],
               [
                1.7356433379106,
                49.048684595888
               ],
               [
                1.7234517354795,
                49.044974719281
               ],
               [
                1.7171010524139,
                49.04903025476
               ],
               [
                1.6949167927313,
                49.056327234914
               ],
               [
                1.6971091015472,
                49.065962446366
               ],
               [
                1.6736890350523,
                49.078154769223
               ],
               [
                1.6602322098294,
                49.081089987836
               ],
               [
                1.6429103427093,
                49.081251769387
               ],
               [
                1.6292577222733,
                49.078286632616
               ],
               [
                1.6141564760593,
                49.071448021972
               ],
               [
                1.608798807603,
                49.077894185227
               ],
               [
                1.6233233619235,
                49.086078404348
               ],
               [
                1.6175344667245,
                49.093996514155
               ],
               [
                1.6470910019222,
                49.124713530921
               ],
               [
                1.655781502711,
                49.130164014177
               ],
               [
                1.6539225302112,
                49.145440634177
               ],
               [
                1.6643792614171,
                49.153368483471
               ],
               [
                1.6670168601861,
                49.178613559023
               ],
               [
                1.6769552220057,
                49.202542812736
               ],
               [
                1.6757423007191,
                49.21186711807
               ],
               [
                1.7040643483737,
                49.229320472612
               ],
               [
                1.7043588288241,
                49.232197221792
               ]
              ]
             ],
             "type": "Polygon"
            },
            "id": "7",
            "properties": {},
            "type": "Feature"
           }
          ],
          "type": "FeatureCollection"
         },
         "hovertemplate": "<b>%{hovertext}</b><br><br>index=%{location}<br>prix_au_m2=%{z}<extra></extra>",
         "hovertext": [
          75,
          77,
          78,
          91,
          92,
          93,
          94,
          95
         ],
         "locations": [
          0,
          1,
          2,
          3,
          4,
          5,
          6,
          7
         ],
         "name": "",
         "subplot": "mapbox",
         "type": "choroplethmapbox",
         "z": [
          9253.87434909949,
          3078.161888238348,
          4418.527717864839,
          3278.230253901562,
          6685.861296760493,
          3928.1677343824877,
          5014.951003753245,
          3648.291320707395
         ]
        }
       ],
       "layout": {
        "coloraxis": {
         "colorbar": {
          "title": {
           "text": "prix_au_m2"
          }
         },
         "colorscale": [
          [
           0,
           "rgb(247,251,255)"
          ],
          [
           0.125,
           "rgb(222,235,247)"
          ],
          [
           0.25,
           "rgb(198,219,239)"
          ],
          [
           0.375,
           "rgb(158,202,225)"
          ],
          [
           0.5,
           "rgb(107,174,214)"
          ],
          [
           0.625,
           "rgb(66,146,198)"
          ],
          [
           0.75,
           "rgb(33,113,181)"
          ],
          [
           0.875,
           "rgb(8,81,156)"
          ],
          [
           1,
           "rgb(8,48,107)"
          ]
         ]
        },
        "legend": {
         "tracegroupgap": 0
        },
        "mapbox": {
         "center": {
          "lat": 46.6061,
          "lon": 1.875277
         },
         "domain": {
          "x": [
           0,
           1
          ],
          "y": [
           0,
           1
          ]
         },
         "style": "open-street-map",
         "zoom": 4
        },
        "margin": {
         "t": 60
        },
        "template": {
         "data": {
          "bar": [
           {
            "error_x": {
             "color": "#2a3f5f"
            },
            "error_y": {
             "color": "#2a3f5f"
            },
            "marker": {
             "line": {
              "color": "#E5ECF6",
              "width": 0.5
             },
             "pattern": {
              "fillmode": "overlay",
              "size": 10,
              "solidity": 0.2
             }
            },
            "type": "bar"
           }
          ],
          "barpolar": [
           {
            "marker": {
             "line": {
              "color": "#E5ECF6",
              "width": 0.5
             },
             "pattern": {
              "fillmode": "overlay",
              "size": 10,
              "solidity": 0.2
             }
            },
            "type": "barpolar"
           }
          ],
          "carpet": [
           {
            "aaxis": {
             "endlinecolor": "#2a3f5f",
             "gridcolor": "white",
             "linecolor": "white",
             "minorgridcolor": "white",
             "startlinecolor": "#2a3f5f"
            },
            "baxis": {
             "endlinecolor": "#2a3f5f",
             "gridcolor": "white",
             "linecolor": "white",
             "minorgridcolor": "white",
             "startlinecolor": "#2a3f5f"
            },
            "type": "carpet"
           }
          ],
          "choropleth": [
           {
            "colorbar": {
             "outlinewidth": 0,
             "ticks": ""
            },
            "type": "choropleth"
           }
          ],
          "contour": [
           {
            "colorbar": {
             "outlinewidth": 0,
             "ticks": ""
            },
            "colorscale": [
             [
              0,
              "#0d0887"
             ],
             [
              0.1111111111111111,
              "#46039f"
             ],
             [
              0.2222222222222222,
              "#7201a8"
             ],
             [
              0.3333333333333333,
              "#9c179e"
             ],
             [
              0.4444444444444444,
              "#bd3786"
             ],
             [
              0.5555555555555556,
              "#d8576b"
             ],
             [
              0.6666666666666666,
              "#ed7953"
             ],
             [
              0.7777777777777778,
              "#fb9f3a"
             ],
             [
              0.8888888888888888,
              "#fdca26"
             ],
             [
              1,
              "#f0f921"
             ]
            ],
            "type": "contour"
           }
          ],
          "contourcarpet": [
           {
            "colorbar": {
             "outlinewidth": 0,
             "ticks": ""
            },
            "type": "contourcarpet"
           }
          ],
          "heatmap": [
           {
            "colorbar": {
             "outlinewidth": 0,
             "ticks": ""
            },
            "colorscale": [
             [
              0,
              "#0d0887"
             ],
             [
              0.1111111111111111,
              "#46039f"
             ],
             [
              0.2222222222222222,
              "#7201a8"
             ],
             [
              0.3333333333333333,
              "#9c179e"
             ],
             [
              0.4444444444444444,
              "#bd3786"
             ],
             [
              0.5555555555555556,
              "#d8576b"
             ],
             [
              0.6666666666666666,
              "#ed7953"
             ],
             [
              0.7777777777777778,
              "#fb9f3a"
             ],
             [
              0.8888888888888888,
              "#fdca26"
             ],
             [
              1,
              "#f0f921"
             ]
            ],
            "type": "heatmap"
           }
          ],
          "heatmapgl": [
           {
            "colorbar": {
             "outlinewidth": 0,
             "ticks": ""
            },
            "colorscale": [
             [
              0,
              "#0d0887"
             ],
             [
              0.1111111111111111,
              "#46039f"
             ],
             [
              0.2222222222222222,
              "#7201a8"
             ],
             [
              0.3333333333333333,
              "#9c179e"
             ],
             [
              0.4444444444444444,
              "#bd3786"
             ],
             [
              0.5555555555555556,
              "#d8576b"
             ],
             [
              0.6666666666666666,
              "#ed7953"
             ],
             [
              0.7777777777777778,
              "#fb9f3a"
             ],
             [
              0.8888888888888888,
              "#fdca26"
             ],
             [
              1,
              "#f0f921"
             ]
            ],
            "type": "heatmapgl"
           }
          ],
          "histogram": [
           {
            "marker": {
             "pattern": {
              "fillmode": "overlay",
              "size": 10,
              "solidity": 0.2
             }
            },
            "type": "histogram"
           }
          ],
          "histogram2d": [
           {
            "colorbar": {
             "outlinewidth": 0,
             "ticks": ""
            },
            "colorscale": [
             [
              0,
              "#0d0887"
             ],
             [
              0.1111111111111111,
              "#46039f"
             ],
             [
              0.2222222222222222,
              "#7201a8"
             ],
             [
              0.3333333333333333,
              "#9c179e"
             ],
             [
              0.4444444444444444,
              "#bd3786"
             ],
             [
              0.5555555555555556,
              "#d8576b"
             ],
             [
              0.6666666666666666,
              "#ed7953"
             ],
             [
              0.7777777777777778,
              "#fb9f3a"
             ],
             [
              0.8888888888888888,
              "#fdca26"
             ],
             [
              1,
              "#f0f921"
             ]
            ],
            "type": "histogram2d"
           }
          ],
          "histogram2dcontour": [
           {
            "colorbar": {
             "outlinewidth": 0,
             "ticks": ""
            },
            "colorscale": [
             [
              0,
              "#0d0887"
             ],
             [
              0.1111111111111111,
              "#46039f"
             ],
             [
              0.2222222222222222,
              "#7201a8"
             ],
             [
              0.3333333333333333,
              "#9c179e"
             ],
             [
              0.4444444444444444,
              "#bd3786"
             ],
             [
              0.5555555555555556,
              "#d8576b"
             ],
             [
              0.6666666666666666,
              "#ed7953"
             ],
             [
              0.7777777777777778,
              "#fb9f3a"
             ],
             [
              0.8888888888888888,
              "#fdca26"
             ],
             [
              1,
              "#f0f921"
             ]
            ],
            "type": "histogram2dcontour"
           }
          ],
          "mesh3d": [
           {
            "colorbar": {
             "outlinewidth": 0,
             "ticks": ""
            },
            "type": "mesh3d"
           }
          ],
          "parcoords": [
           {
            "line": {
             "colorbar": {
              "outlinewidth": 0,
              "ticks": ""
             }
            },
            "type": "parcoords"
           }
          ],
          "pie": [
           {
            "automargin": true,
            "type": "pie"
           }
          ],
          "scatter": [
           {
            "fillpattern": {
             "fillmode": "overlay",
             "size": 10,
             "solidity": 0.2
            },
            "type": "scatter"
           }
          ],
          "scatter3d": [
           {
            "line": {
             "colorbar": {
              "outlinewidth": 0,
              "ticks": ""
             }
            },
            "marker": {
             "colorbar": {
              "outlinewidth": 0,
              "ticks": ""
             }
            },
            "type": "scatter3d"
           }
          ],
          "scattercarpet": [
           {
            "marker": {
             "colorbar": {
              "outlinewidth": 0,
              "ticks": ""
             }
            },
            "type": "scattercarpet"
           }
          ],
          "scattergeo": [
           {
            "marker": {
             "colorbar": {
              "outlinewidth": 0,
              "ticks": ""
             }
            },
            "type": "scattergeo"
           }
          ],
          "scattergl": [
           {
            "marker": {
             "colorbar": {
              "outlinewidth": 0,
              "ticks": ""
             }
            },
            "type": "scattergl"
           }
          ],
          "scattermapbox": [
           {
            "marker": {
             "colorbar": {
              "outlinewidth": 0,
              "ticks": ""
             }
            },
            "type": "scattermapbox"
           }
          ],
          "scatterpolar": [
           {
            "marker": {
             "colorbar": {
              "outlinewidth": 0,
              "ticks": ""
             }
            },
            "type": "scatterpolar"
           }
          ],
          "scatterpolargl": [
           {
            "marker": {
             "colorbar": {
              "outlinewidth": 0,
              "ticks": ""
             }
            },
            "type": "scatterpolargl"
           }
          ],
          "scatterternary": [
           {
            "marker": {
             "colorbar": {
              "outlinewidth": 0,
              "ticks": ""
             }
            },
            "type": "scatterternary"
           }
          ],
          "surface": [
           {
            "colorbar": {
             "outlinewidth": 0,
             "ticks": ""
            },
            "colorscale": [
             [
              0,
              "#0d0887"
             ],
             [
              0.1111111111111111,
              "#46039f"
             ],
             [
              0.2222222222222222,
              "#7201a8"
             ],
             [
              0.3333333333333333,
              "#9c179e"
             ],
             [
              0.4444444444444444,
              "#bd3786"
             ],
             [
              0.5555555555555556,
              "#d8576b"
             ],
             [
              0.6666666666666666,
              "#ed7953"
             ],
             [
              0.7777777777777778,
              "#fb9f3a"
             ],
             [
              0.8888888888888888,
              "#fdca26"
             ],
             [
              1,
              "#f0f921"
             ]
            ],
            "type": "surface"
           }
          ],
          "table": [
           {
            "cells": {
             "fill": {
              "color": "#EBF0F8"
             },
             "line": {
              "color": "white"
             }
            },
            "header": {
             "fill": {
              "color": "#C8D4E3"
             },
             "line": {
              "color": "white"
             }
            },
            "type": "table"
           }
          ]
         },
         "layout": {
          "annotationdefaults": {
           "arrowcolor": "#2a3f5f",
           "arrowhead": 0,
           "arrowwidth": 1
          },
          "autotypenumbers": "strict",
          "coloraxis": {
           "colorbar": {
            "outlinewidth": 0,
            "ticks": ""
           }
          },
          "colorscale": {
           "diverging": [
            [
             0,
             "#8e0152"
            ],
            [
             0.1,
             "#c51b7d"
            ],
            [
             0.2,
             "#de77ae"
            ],
            [
             0.3,
             "#f1b6da"
            ],
            [
             0.4,
             "#fde0ef"
            ],
            [
             0.5,
             "#f7f7f7"
            ],
            [
             0.6,
             "#e6f5d0"
            ],
            [
             0.7,
             "#b8e186"
            ],
            [
             0.8,
             "#7fbc41"
            ],
            [
             0.9,
             "#4d9221"
            ],
            [
             1,
             "#276419"
            ]
           ],
           "sequential": [
            [
             0,
             "#0d0887"
            ],
            [
             0.1111111111111111,
             "#46039f"
            ],
            [
             0.2222222222222222,
             "#7201a8"
            ],
            [
             0.3333333333333333,
             "#9c179e"
            ],
            [
             0.4444444444444444,
             "#bd3786"
            ],
            [
             0.5555555555555556,
             "#d8576b"
            ],
            [
             0.6666666666666666,
             "#ed7953"
            ],
            [
             0.7777777777777778,
             "#fb9f3a"
            ],
            [
             0.8888888888888888,
             "#fdca26"
            ],
            [
             1,
             "#f0f921"
            ]
           ],
           "sequentialminus": [
            [
             0,
             "#0d0887"
            ],
            [
             0.1111111111111111,
             "#46039f"
            ],
            [
             0.2222222222222222,
             "#7201a8"
            ],
            [
             0.3333333333333333,
             "#9c179e"
            ],
            [
             0.4444444444444444,
             "#bd3786"
            ],
            [
             0.5555555555555556,
             "#d8576b"
            ],
            [
             0.6666666666666666,
             "#ed7953"
            ],
            [
             0.7777777777777778,
             "#fb9f3a"
            ],
            [
             0.8888888888888888,
             "#fdca26"
            ],
            [
             1,
             "#f0f921"
            ]
           ]
          },
          "colorway": [
           "#636efa",
           "#EF553B",
           "#00cc96",
           "#ab63fa",
           "#FFA15A",
           "#19d3f3",
           "#FF6692",
           "#B6E880",
           "#FF97FF",
           "#FECB52"
          ],
          "font": {
           "color": "#2a3f5f"
          },
          "geo": {
           "bgcolor": "white",
           "lakecolor": "white",
           "landcolor": "#E5ECF6",
           "showlakes": true,
           "showland": true,
           "subunitcolor": "white"
          },
          "hoverlabel": {
           "align": "left"
          },
          "hovermode": "closest",
          "mapbox": {
           "style": "light"
          },
          "paper_bgcolor": "white",
          "plot_bgcolor": "#E5ECF6",
          "polar": {
           "angularaxis": {
            "gridcolor": "white",
            "linecolor": "white",
            "ticks": ""
           },
           "bgcolor": "#E5ECF6",
           "radialaxis": {
            "gridcolor": "white",
            "linecolor": "white",
            "ticks": ""
           }
          },
          "scene": {
           "xaxis": {
            "backgroundcolor": "#E5ECF6",
            "gridcolor": "white",
            "gridwidth": 2,
            "linecolor": "white",
            "showbackground": true,
            "ticks": "",
            "zerolinecolor": "white"
           },
           "yaxis": {
            "backgroundcolor": "#E5ECF6",
            "gridcolor": "white",
            "gridwidth": 2,
            "linecolor": "white",
            "showbackground": true,
            "ticks": "",
            "zerolinecolor": "white"
           },
           "zaxis": {
            "backgroundcolor": "#E5ECF6",
            "gridcolor": "white",
            "gridwidth": 2,
            "linecolor": "white",
            "showbackground": true,
            "ticks": "",
            "zerolinecolor": "white"
           }
          },
          "shapedefaults": {
           "line": {
            "color": "#2a3f5f"
           }
          },
          "ternary": {
           "aaxis": {
            "gridcolor": "white",
            "linecolor": "white",
            "ticks": ""
           },
           "baxis": {
            "gridcolor": "white",
            "linecolor": "white",
            "ticks": ""
           },
           "bgcolor": "#E5ECF6",
           "caxis": {
            "gridcolor": "white",
            "linecolor": "white",
            "ticks": ""
           }
          },
          "title": {
           "x": 0.05
          },
          "xaxis": {
           "automargin": true,
           "gridcolor": "white",
           "linecolor": "white",
           "ticks": "",
           "title": {
            "standoff": 15
           },
           "zerolinecolor": "white",
           "zerolinewidth": 2
          },
          "yaxis": {
           "automargin": true,
           "gridcolor": "white",
           "linecolor": "white",
           "ticks": "",
           "title": {
            "standoff": 15
           },
           "zerolinecolor": "white",
           "zerolinewidth": 2
          }
         }
        }
       }
      }
     },
     "metadata": {},
     "output_type": "display_data"
    }
   ],
   "source": [
    "dep_file = \"./idf_dep.geojson\"\n",
    "dep_map = gpd.read_file(dep_file)\n",
    "dep_map.sort_values(\"code\")\n",
    "dep_map=dep_map.rename(columns={ 'code': 'code_departement' })\n",
    "dep_map['code_departement'] = dep_map['code_departement'].astype(int)\n",
    "sur_dep = df_combined[['prix_au_m2','code_departement']].copy()\n",
    "sur_dep=sur_dep.groupby(\"code_departement\").mean()\n",
    "sur_dep = sur_dep.merge(dep_map, on='code_departement', suffixes=(False, False))\n",
    "sur_dep = GeoDataFrame(sur_dep,geometry = \"geometry\")\n",
    "fig = px.choropleth_mapbox(sur_dep,\n",
    "                           geojson=sur_dep.geometry,\n",
    "                           locations=sur_dep.index,\n",
    "                           color=\"prix_au_m2\",\n",
    "                           hover_name =sur_dep.code_departement,\n",
    "                           center={\"lat\": 46.6061, \"lon\": 1.875277},\n",
    "                           mapbox_style=\"open-street-map\",\n",
    "                           color_continuous_scale=\"blues\",\n",
    "                           zoom=4.0)\n",
    "fig.show()"
   ]
  },
  {
   "attachments": {},
   "cell_type": "markdown",
   "metadata": {},
   "source": [
    "#### DataViz n°3 : fdsfds"
   ]
  },
  {
   "cell_type": "code",
   "execution_count": 189,
   "metadata": {},
   "outputs": [
    {
     "data": {
      "image/png": "[encoded data removed]",
      "text/plain": [
       "<Figure size 800x500 with 1 Axes>"
      ]
     },
     "metadata": {},
     "output_type": "display_data"
    },
    {
     "data": {
      "image/png": "[encoded data removed]",
      "text/plain": [
       "<Figure size 800x500 with 1 Axes>"
      ]
     },
     "metadata": {},
     "output_type": "display_data"
    },
    {
     "data": {
      "image/png": "[encoded data removed]",
      "text/plain": [
       "<Figure size 800x500 with 1 Axes>"
      ]
     },
     "metadata": {},
     "output_type": "display_data"
    }
   ],
   "source": [
    "# Somme de la colonne 'valeur_fonciere' en 2018 et 2022\n",
    "totaux_2018 = df_2018['valeur_fonciere'].sum()\n",
    "totaux_2022 = df_2022['valeur_fonciere'].sum()\n",
    "\n",
    "# Moyenne de la colonne 'prix_au_m2' en 2018 et 2022\n",
    "total_2018 = df_2018['prix_au_m2'].mean()\n",
    "total_2022 = df_2022['prix_au_m2'].mean()\n",
    "\n",
    "# Moyenne de la colonne 'valeur_fonciere' en 2018 et 2022\n",
    "mean_2018 = df_2018['valeur_fonciere'].mean()\n",
    "mean_2022 = df_2022['valeur_fonciere'].mean()\n",
    "\n",
    "# Création des graphiques\n",
    "labels = ['2018', '2022']\n",
    "totals = [total_2018, total_2022]\n",
    "means = [mean_2018, mean_2022]\n",
    "totaux = [totaux_2018, totaux_2022]\n",
    "\n",
    "# Graphique de la somme de la colonne 'valeur_fonciere'\n",
    "plt.figure(figsize=(8, 5))\n",
    "plt.bar(labels, totals)\n",
    "plt.xlabel('Année')\n",
    "plt.ylabel('Somme de valeur foncière')\n",
    "plt.title('Somme de valeur foncière en 2018 et 2022')\n",
    "plt.show()\n",
    "\n",
    "# Graphique de la moyenne du prix au m2 \n",
    "plt.figure(figsize=(8, 5))\n",
    "plt.bar(labels, totaux)\n",
    "plt.xlabel('Année')\n",
    "plt.ylabel('Moyenne du prix au m2')\n",
    "plt.title('Moyenne du prix au mètre carré en 2018 et 2022')\n",
    "plt.show()\n",
    "\n",
    "# Graphique de la moyenne de la colonne 'valeur_fonciere'\n",
    "plt.figure(figsize=(8, 5))\n",
    "plt.bar(labels, means)\n",
    "plt.xlabel('Année')\n",
    "plt.ylabel('Moyenne de valeur foncière')\n",
    "plt.title('Moyenne de valeur foncière en 2018 et 2022')\n",
    "plt.show()\n"
   ]
  },
  {
   "attachments": {},
   "cell_type": "markdown",
   "metadata": {},
   "source": [
    "#### Valeur foncière en fonction du département sur l'année 2022"
   ]
  },
  {
   "cell_type": "code",
   "execution_count": 190,
   "metadata": {},
   "outputs": [
    {
     "data": {
      "application/vnd.plotly.v1+json": {
       "config": {
        "plotlyServerURL": "https://plot.ly"
       },
       "data": [
        {
         "alignmentgroup": "True",
         "customdata": [
          [
           35
          ],
          [
           17
          ],
          [
           76
          ],
          [
           93
          ],
          [
           95
          ],
          [
           91
          ],
          [
           34
          ],
          [
           31
          ],
          [
           94
          ],
          [
           44
          ],
          [
           77
          ],
          [
           83
          ],
          [
           13
          ],
          [
           59
          ],
          [
           78
          ],
          [
           69
          ],
          [
           33
          ],
          [
           92
          ],
          [
           6
          ],
          [
           75
          ]
         ],
         "hovertemplate": "Rang du département=%{x}<br>Somme des valeurs foncières=%{marker.color}<br>code_departement=%{customdata[0]}<extra></extra>",
         "legendgroup": "",
         "marker": {
          "color": [
           4112973022.4,
           4174474107.21,
           4669601261.2,
           4847492100,
           5664002512.38,
           5970754202.59,
           6187229652.86,
           6275181447.66,
           7138844928.68,
           7382612955.84,
           7617847182.9,
           7671918223.74,
           8065988122.13,
           9659547182.05,
           9924528534.37,
           10568337548.36,
           11727728281.75,
           12766159162.55,
           13505823180.24,
           22121472927
          ],
          "coloraxis": "coloraxis",
          "pattern": {
           "shape": ""
          }
         },
         "name": "",
         "offsetgroup": "",
         "orientation": "v",
         "showlegend": false,
         "text": [
          35,
          17,
          76,
          93,
          95,
          91,
          34,
          31,
          94,
          44,
          77,
          83,
          13,
          59,
          78,
          69,
          33,
          92,
          6,
          75
         ],
         "textposition": "inside",
         "type": "bar",
         "x": [
          1,
          2,
          3,
          4,
          5,
          6,
          7,
          8,
          9,
          10,
          11,
          12,
          13,
          14,
          15,
          16,
          17,
          18,
          19,
          20
         ],
         "xaxis": "x",
         "y": [
          4112973022.4,
          4174474107.21,
          4669601261.2,
          4847492100,
          5664002512.38,
          5970754202.59,
          6187229652.86,
          6275181447.66,
          7138844928.68,
          7382612955.84,
          7617847182.9,
          7671918223.74,
          8065988122.13,
          9659547182.05,
          9924528534.37,
          10568337548.36,
          11727728281.75,
          12766159162.55,
          13505823180.24,
          22121472927
         ],
         "yaxis": "y"
        }
       ],
       "layout": {
        "barmode": "relative",
        "coloraxis": {
         "colorbar": {
          "title": {
           "text": "Somme des valeurs foncières"
          }
         },
         "colorscale": [
          [
           0,
           "#0d0887"
          ],
          [
           0.1111111111111111,
           "#46039f"
          ],
          [
           0.2222222222222222,
           "#7201a8"
          ],
          [
           0.3333333333333333,
           "#9c179e"
          ],
          [
           0.4444444444444444,
           "#bd3786"
          ],
          [
           0.5555555555555556,
           "#d8576b"
          ],
          [
           0.6666666666666666,
           "#ed7953"
          ],
          [
           0.7777777777777778,
           "#fb9f3a"
          ],
          [
           0.8888888888888888,
           "#fdca26"
          ],
          [
           1,
           "#f0f921"
          ]
         ]
        },
        "legend": {
         "tracegroupgap": 0
        },
        "template": {
         "data": {
          "bar": [
           {
            "error_x": {
             "color": "#2a3f5f"
            },
            "error_y": {
             "color": "#2a3f5f"
            },
            "marker": {
             "line": {
              "color": "#E5ECF6",
              "width": 0.5
             },
             "pattern": {
              "fillmode": "overlay",
              "size": 10,
              "solidity": 0.2
             }
            },
            "type": "bar"
           }
          ],
          "barpolar": [
           {
            "marker": {
             "line": {
              "color": "#E5ECF6",
              "width": 0.5
             },
             "pattern": {
              "fillmode": "overlay",
              "size": 10,
              "solidity": 0.2
             }
            },
            "type": "barpolar"
           }
          ],
          "carpet": [
           {
            "aaxis": {
             "endlinecolor": "#2a3f5f",
             "gridcolor": "white",
             "linecolor": "white",
             "minorgridcolor": "white",
             "startlinecolor": "#2a3f5f"
            },
            "baxis": {
             "endlinecolor": "#2a3f5f",
             "gridcolor": "white",
             "linecolor": "white",
             "minorgridcolor": "white",
             "startlinecolor": "#2a3f5f"
            },
            "type": "carpet"
           }
          ],
          "choropleth": [
           {
            "colorbar": {
             "outlinewidth": 0,
             "ticks": ""
            },
            "type": "choropleth"
           }
          ],
          "contour": [
           {
            "colorbar": {
             "outlinewidth": 0,
             "ticks": ""
            },
            "colorscale": [
             [
              0,
              "#0d0887"
             ],
             [
              0.1111111111111111,
              "#46039f"
             ],
             [
              0.2222222222222222,
              "#7201a8"
             ],
             [
              0.3333333333333333,
              "#9c179e"
             ],
             [
              0.4444444444444444,
              "#bd3786"
             ],
             [
              0.5555555555555556,
              "#d8576b"
             ],
             [
              0.6666666666666666,
              "#ed7953"
             ],
             [
              0.7777777777777778,
              "#fb9f3a"
             ],
             [
              0.8888888888888888,
              "#fdca26"
             ],
             [
              1,
              "#f0f921"
             ]
            ],
            "type": "contour"
           }
          ],
          "contourcarpet": [
           {
            "colorbar": {
             "outlinewidth": 0,
             "ticks": ""
            },
            "type": "contourcarpet"
           }
          ],
          "heatmap": [
           {
            "colorbar": {
             "outlinewidth": 0,
             "ticks": ""
            },
            "colorscale": [
             [
              0,
              "#0d0887"
             ],
             [
              0.1111111111111111,
              "#46039f"
             ],
             [
              0.2222222222222222,
              "#7201a8"
             ],
             [
              0.3333333333333333,
              "#9c179e"
             ],
             [
              0.4444444444444444,
              "#bd3786"
             ],
             [
              0.5555555555555556,
              "#d8576b"
             ],
             [
              0.6666666666666666,
              "#ed7953"
             ],
             [
              0.7777777777777778,
              "#fb9f3a"
             ],
             [
              0.8888888888888888,
              "#fdca26"
             ],
             [
              1,
              "#f0f921"
             ]
            ],
            "type": "heatmap"
           }
          ],
          "heatmapgl": [
           {
            "colorbar": {
             "outlinewidth": 0,
             "ticks": ""
            },
            "colorscale": [
             [
              0,
              "#0d0887"
             ],
             [
              0.1111111111111111,
              "#46039f"
             ],
             [
              0.2222222222222222,
              "#7201a8"
             ],
             [
              0.3333333333333333,
              "#9c179e"
             ],
             [
              0.4444444444444444,
              "#bd3786"
             ],
             [
              0.5555555555555556,
              "#d8576b"
             ],
             [
              0.6666666666666666,
              "#ed7953"
             ],
             [
              0.7777777777777778,
              "#fb9f3a"
             ],
             [
              0.8888888888888888,
              "#fdca26"
             ],
             [
              1,
              "#f0f921"
             ]
            ],
            "type": "heatmapgl"
           }
          ],
          "histogram": [
           {
            "marker": {
             "pattern": {
              "fillmode": "overlay",
              "size": 10,
              "solidity": 0.2
             }
            },
            "type": "histogram"
           }
          ],
          "histogram2d": [
           {
            "colorbar": {
             "outlinewidth": 0,
             "ticks": ""
            },
            "colorscale": [
             [
              0,
              "#0d0887"
             ],
             [
              0.1111111111111111,
              "#46039f"
             ],
             [
              0.2222222222222222,
              "#7201a8"
             ],
             [
              0.3333333333333333,
              "#9c179e"
             ],
             [
              0.4444444444444444,
              "#bd3786"
             ],
             [
              0.5555555555555556,
              "#d8576b"
             ],
             [
              0.6666666666666666,
              "#ed7953"
             ],
             [
              0.7777777777777778,
              "#fb9f3a"
             ],
             [
              0.8888888888888888,
              "#fdca26"
             ],
             [
              1,
              "#f0f921"
             ]
            ],
            "type": "histogram2d"
           }
          ],
          "histogram2dcontour": [
           {
            "colorbar": {
             "outlinewidth": 0,
             "ticks": ""
            },
            "colorscale": [
             [
              0,
              "#0d0887"
             ],
             [
              0.1111111111111111,
              "#46039f"
             ],
             [
              0.2222222222222222,
              "#7201a8"
             ],
             [
              0.3333333333333333,
              "#9c179e"
             ],
             [
              0.4444444444444444,
              "#bd3786"
             ],
             [
              0.5555555555555556,
              "#d8576b"
             ],
             [
              0.6666666666666666,
              "#ed7953"
             ],
             [
              0.7777777777777778,
              "#fb9f3a"
             ],
             [
              0.8888888888888888,
              "#fdca26"
             ],
             [
              1,
              "#f0f921"
             ]
            ],
            "type": "histogram2dcontour"
           }
          ],
          "mesh3d": [
           {
            "colorbar": {
             "outlinewidth": 0,
             "ticks": ""
            },
            "type": "mesh3d"
           }
          ],
          "parcoords": [
           {
            "line": {
             "colorbar": {
              "outlinewidth": 0,
              "ticks": ""
             }
            },
            "type": "parcoords"
           }
          ],
          "pie": [
           {
            "automargin": true,
            "type": "pie"
           }
          ],
          "scatter": [
           {
            "fillpattern": {
             "fillmode": "overlay",
             "size": 10,
             "solidity": 0.2
            },
            "type": "scatter"
           }
          ],
          "scatter3d": [
           {
            "line": {
             "colorbar": {
              "outlinewidth": 0,
              "ticks": ""
             }
            },
            "marker": {
             "colorbar": {
              "outlinewidth": 0,
              "ticks": ""
             }
            },
            "type": "scatter3d"
           }
          ],
          "scattercarpet": [
           {
            "marker": {
             "colorbar": {
              "outlinewidth": 0,
              "ticks": ""
             }
            },
            "type": "scattercarpet"
           }
          ],
          "scattergeo": [
           {
            "marker": {
             "colorbar": {
              "outlinewidth": 0,
              "ticks": ""
             }
            },
            "type": "scattergeo"
           }
          ],
          "scattergl": [
           {
            "marker": {
             "colorbar": {
              "outlinewidth": 0,
              "ticks": ""
             }
            },
            "type": "scattergl"
           }
          ],
          "scattermapbox": [
           {
            "marker": {
             "colorbar": {
              "outlinewidth": 0,
              "ticks": ""
             }
            },
            "type": "scattermapbox"
           }
          ],
          "scatterpolar": [
           {
            "marker": {
             "colorbar": {
              "outlinewidth": 0,
              "ticks": ""
             }
            },
            "type": "scatterpolar"
           }
          ],
          "scatterpolargl": [
           {
            "marker": {
             "colorbar": {
              "outlinewidth": 0,
              "ticks": ""
             }
            },
            "type": "scatterpolargl"
           }
          ],
          "scatterternary": [
           {
            "marker": {
             "colorbar": {
              "outlinewidth": 0,
              "ticks": ""
             }
            },
            "type": "scatterternary"
           }
          ],
          "surface": [
           {
            "colorbar": {
             "outlinewidth": 0,
             "ticks": ""
            },
            "colorscale": [
             [
              0,
              "#0d0887"
             ],
             [
              0.1111111111111111,
              "#46039f"
             ],
             [
              0.2222222222222222,
              "#7201a8"
             ],
             [
              0.3333333333333333,
              "#9c179e"
             ],
             [
              0.4444444444444444,
              "#bd3786"
             ],
             [
              0.5555555555555556,
              "#d8576b"
             ],
             [
              0.6666666666666666,
              "#ed7953"
             ],
             [
              0.7777777777777778,
              "#fb9f3a"
             ],
             [
              0.8888888888888888,
              "#fdca26"
             ],
             [
              1,
              "#f0f921"
             ]
            ],
            "type": "surface"
           }
          ],
          "table": [
           {
            "cells": {
             "fill": {
              "color": "#EBF0F8"
             },
             "line": {
              "color": "white"
             }
            },
            "header": {
             "fill": {
              "color": "#C8D4E3"
             },
             "line": {
              "color": "white"
             }
            },
            "type": "table"
           }
          ]
         },
         "layout": {
          "annotationdefaults": {
           "arrowcolor": "#2a3f5f",
           "arrowhead": 0,
           "arrowwidth": 1
          },
          "autotypenumbers": "strict",
          "coloraxis": {
           "colorbar": {
            "outlinewidth": 0,
            "ticks": ""
           }
          },
          "colorscale": {
           "diverging": [
            [
             0,
             "#8e0152"
            ],
            [
             0.1,
             "#c51b7d"
            ],
            [
             0.2,
             "#de77ae"
            ],
            [
             0.3,
             "#f1b6da"
            ],
            [
             0.4,
             "#fde0ef"
            ],
            [
             0.5,
             "#f7f7f7"
            ],
            [
             0.6,
             "#e6f5d0"
            ],
            [
             0.7,
             "#b8e186"
            ],
            [
             0.8,
             "#7fbc41"
            ],
            [
             0.9,
             "#4d9221"
            ],
            [
             1,
             "#276419"
            ]
           ],
           "sequential": [
            [
             0,
             "#0d0887"
            ],
            [
             0.1111111111111111,
             "#46039f"
            ],
            [
             0.2222222222222222,
             "#7201a8"
            ],
            [
             0.3333333333333333,
             "#9c179e"
            ],
            [
             0.4444444444444444,
             "#bd3786"
            ],
            [
             0.5555555555555556,
             "#d8576b"
            ],
            [
             0.6666666666666666,
             "#ed7953"
            ],
            [
             0.7777777777777778,
             "#fb9f3a"
            ],
            [
             0.8888888888888888,
             "#fdca26"
            ],
            [
             1,
             "#f0f921"
            ]
           ],
           "sequentialminus": [
            [
             0,
             "#0d0887"
            ],
            [
             0.1111111111111111,
             "#46039f"
            ],
            [
             0.2222222222222222,
             "#7201a8"
            ],
            [
             0.3333333333333333,
             "#9c179e"
            ],
            [
             0.4444444444444444,
             "#bd3786"
            ],
            [
             0.5555555555555556,
             "#d8576b"
            ],
            [
             0.6666666666666666,
             "#ed7953"
            ],
            [
             0.7777777777777778,
             "#fb9f3a"
            ],
            [
             0.8888888888888888,
             "#fdca26"
            ],
            [
             1,
             "#f0f921"
            ]
           ]
          },
          "colorway": [
           "#636efa",
           "#EF553B",
           "#00cc96",
           "#ab63fa",
           "#FFA15A",
           "#19d3f3",
           "#FF6692",
           "#B6E880",
           "#FF97FF",
           "#FECB52"
          ],
          "font": {
           "color": "#2a3f5f"
          },
          "geo": {
           "bgcolor": "white",
           "lakecolor": "white",
           "landcolor": "#E5ECF6",
           "showlakes": true,
           "showland": true,
           "subunitcolor": "white"
          },
          "hoverlabel": {
           "align": "left"
          },
          "hovermode": "closest",
          "mapbox": {
           "style": "light"
          },
          "paper_bgcolor": "white",
          "plot_bgcolor": "#E5ECF6",
          "polar": {
           "angularaxis": {
            "gridcolor": "white",
            "linecolor": "white",
            "ticks": ""
           },
           "bgcolor": "#E5ECF6",
           "radialaxis": {
            "gridcolor": "white",
            "linecolor": "white",
            "ticks": ""
           }
          },
          "scene": {
           "xaxis": {
            "backgroundcolor": "#E5ECF6",
            "gridcolor": "white",
            "gridwidth": 2,
            "linecolor": "white",
            "showbackground": true,
            "ticks": "",
            "zerolinecolor": "white"
           },
           "yaxis": {
            "backgroundcolor": "#E5ECF6",
            "gridcolor": "white",
            "gridwidth": 2,
            "linecolor": "white",
            "showbackground": true,
            "ticks": "",
            "zerolinecolor": "white"
           },
           "zaxis": {
            "backgroundcolor": "#E5ECF6",
            "gridcolor": "white",
            "gridwidth": 2,
            "linecolor": "white",
            "showbackground": true,
            "ticks": "",
            "zerolinecolor": "white"
           }
          },
          "shapedefaults": {
           "line": {
            "color": "#2a3f5f"
           }
          },
          "ternary": {
           "aaxis": {
            "gridcolor": "white",
            "linecolor": "white",
            "ticks": ""
           },
           "baxis": {
            "gridcolor": "white",
            "linecolor": "white",
            "ticks": ""
           },
           "bgcolor": "#E5ECF6",
           "caxis": {
            "gridcolor": "white",
            "linecolor": "white",
            "ticks": ""
           }
          },
          "title": {
           "x": 0.05
          },
          "xaxis": {
           "automargin": true,
           "gridcolor": "white",
           "linecolor": "white",
           "ticks": "",
           "title": {
            "standoff": 15
           },
           "zerolinecolor": "white",
           "zerolinewidth": 2
          },
          "yaxis": {
           "automargin": true,
           "gridcolor": "white",
           "linecolor": "white",
           "ticks": "",
           "title": {
            "standoff": 15
           },
           "zerolinecolor": "white",
           "zerolinewidth": 2
          }
         }
        },
        "title": {
         "text": "Top 20 départements avec les plus grandes valeurs foncières"
        },
        "xaxis": {
         "anchor": "y",
         "domain": [
          0,
          1
         ],
         "title": {
          "text": "Rang du département"
         }
        },
        "yaxis": {
         "anchor": "x",
         "domain": [
          0,
          1
         ],
         "title": {
          "text": "Somme des valeurs foncières"
         }
        }
       }
      }
     },
     "metadata": {},
     "output_type": "display_data"
    }
   ],
   "source": [
    "grouped_df = df_2022.groupby('code_departement')['valeur_fonciere'].sum().reset_index()\n",
    "top20_df = grouped_df.sort_values('valeur_fonciere', ascending=False).head(20)\n",
    "top20_df = top20_df.sort_values('valeur_fonciere', ascending=True)\n",
    "top20_df['x_axis_order'] = range(1, len(top20_df) + 1)\n",
    "fig = px.bar(top20_df, x='x_axis_order', y='valeur_fonciere', \n",
    "             color='valeur_fonciere', \n",
    "             labels={'valeur_fonciere':'Somme des valeurs foncières', \n",
    "                     'x_axis_order':'Rang du département'},\n",
    "             hover_data=['code_departement'],\n",
    "             title=\"Top 20 départements avec les plus grandes valeurs foncières\")\n",
    "fig.update_traces(text=top20_df['code_departement'], textposition='inside')\n",
    "fig.show()\n"
   ]
  },
  {
   "attachments": {},
   "cell_type": "markdown",
   "metadata": {},
   "source": [
    "#### Valeur foncière moyenne en fonction du département (top 20)"
   ]
  },
  {
   "cell_type": "code",
   "execution_count": null,
   "metadata": {},
   "outputs": [
    {
     "data": {
      "application/vnd.plotly.v1+json": {
       "config": {
        "plotlyServerURL": "https://plot.ly"
       },
       "data": [
        {
         "alignmentgroup": "True",
         "customdata": [
          [
           35
          ],
          [
           17
          ],
          [
           76
          ],
          [
           93
          ],
          [
           95
          ],
          [
           91
          ],
          [
           34
          ],
          [
           31
          ],
          [
           94
          ],
          [
           44
          ],
          [
           77
          ],
          [
           83
          ],
          [
           13
          ],
          [
           59
          ],
          [
           78
          ],
          [
           69
          ],
          [
           33
          ],
          [
           92
          ],
          [
           6
          ],
          [
           75
          ]
         ],
         "hovertemplate": "Rang du département=%{x}<br>Somme des valeurs foncières=%{marker.color}<br>code_departement=%{customdata[0]}<extra></extra>",
         "legendgroup": "",
         "marker": {
          "color": [
           4112973022.4,
           4174474107.21,
           4669601261.2,
           4847492100,
           5664002512.38,
           5970754202.59,
           6187229652.86,
           6275181447.66,
           7138844928.68,
           7382612955.84,
           7617847182.9,
           7671918223.74,
           8065988122.13,
           9659547182.05,
           9924528534.37,
           10568337548.36,
           11727728281.75,
           12766159162.55,
           13505823180.24,
           22121472927
          ],
          "coloraxis": "coloraxis",
          "pattern": {
           "shape": ""
          }
         },
         "name": "",
         "offsetgroup": "",
         "orientation": "v",
         "showlegend": false,
         "text": [
          35,
          17,
          76,
          93,
          95,
          91,
          34,
          31,
          94,
          44,
          77,
          83,
          13,
          59,
          78,
          69,
          33,
          92,
          6,
          75
         ],
         "textposition": "inside",
         "type": "bar",
         "x": [
          1,
          2,
          3,
          4,
          5,
          6,
          7,
          8,
          9,
          10,
          11,
          12,
          13,
          14,
          15,
          16,
          17,
          18,
          19,
          20
         ],
         "xaxis": "x",
         "y": [
          4112973022.4,
          4174474107.21,
          4669601261.2,
          4847492100,
          5664002512.38,
          5970754202.59,
          6187229652.86,
          6275181447.66,
          7138844928.68,
          7382612955.84,
          7617847182.9,
          7671918223.74,
          8065988122.13,
          9659547182.05,
          9924528534.37,
          10568337548.36,
          11727728281.75,
          12766159162.55,
          13505823180.24,
          22121472927
         ],
         "yaxis": "y"
        }
       ],
       "layout": {
        "barmode": "relative",
        "coloraxis": {
         "colorbar": {
          "title": {
           "text": "Somme des valeurs foncières"
          }
         },
         "colorscale": [
          [
           0,
           "#0d0887"
          ],
          [
           0.1111111111111111,
           "#46039f"
          ],
          [
           0.2222222222222222,
           "#7201a8"
          ],
          [
           0.3333333333333333,
           "#9c179e"
          ],
          [
           0.4444444444444444,
           "#bd3786"
          ],
          [
           0.5555555555555556,
           "#d8576b"
          ],
          [
           0.6666666666666666,
           "#ed7953"
          ],
          [
           0.7777777777777778,
           "#fb9f3a"
          ],
          [
           0.8888888888888888,
           "#fdca26"
          ],
          [
           1,
           "#f0f921"
          ]
         ]
        },
        "legend": {
         "tracegroupgap": 0
        },
        "template": {
         "data": {
          "bar": [
           {
            "error_x": {
             "color": "#2a3f5f"
            },
            "error_y": {
             "color": "#2a3f5f"
            },
            "marker": {
             "line": {
              "color": "#E5ECF6",
              "width": 0.5
             },
             "pattern": {
              "fillmode": "overlay",
              "size": 10,
              "solidity": 0.2
             }
            },
            "type": "bar"
           }
          ],
          "barpolar": [
           {
            "marker": {
             "line": {
              "color": "#E5ECF6",
              "width": 0.5
             },
             "pattern": {
              "fillmode": "overlay",
              "size": 10,
              "solidity": 0.2
             }
            },
            "type": "barpolar"
           }
          ],
          "carpet": [
           {
            "aaxis": {
             "endlinecolor": "#2a3f5f",
             "gridcolor": "white",
             "linecolor": "white",
             "minorgridcolor": "white",
             "startlinecolor": "#2a3f5f"
            },
            "baxis": {
             "endlinecolor": "#2a3f5f",
             "gridcolor": "white",
             "linecolor": "white",
             "minorgridcolor": "white",
             "startlinecolor": "#2a3f5f"
            },
            "type": "carpet"
           }
          ],
          "choropleth": [
           {
            "colorbar": {
             "outlinewidth": 0,
             "ticks": ""
            },
            "type": "choropleth"
           }
          ],
          "contour": [
           {
            "colorbar": {
             "outlinewidth": 0,
             "ticks": ""
            },
            "colorscale": [
             [
              0,
              "#0d0887"
             ],
             [
              0.1111111111111111,
              "#46039f"
             ],
             [
              0.2222222222222222,
              "#7201a8"
             ],
             [
              0.3333333333333333,
              "#9c179e"
             ],
             [
              0.4444444444444444,
              "#bd3786"
             ],
             [
              0.5555555555555556,
              "#d8576b"
             ],
             [
              0.6666666666666666,
              "#ed7953"
             ],
             [
              0.7777777777777778,
              "#fb9f3a"
             ],
             [
              0.8888888888888888,
              "#fdca26"
             ],
             [
              1,
              "#f0f921"
             ]
            ],
            "type": "contour"
           }
          ],
          "contourcarpet": [
           {
            "colorbar": {
             "outlinewidth": 0,
             "ticks": ""
            },
            "type": "contourcarpet"
           }
          ],
          "heatmap": [
           {
            "colorbar": {
             "outlinewidth": 0,
             "ticks": ""
            },
            "colorscale": [
             [
              0,
              "#0d0887"
             ],
             [
              0.1111111111111111,
              "#46039f"
             ],
             [
              0.2222222222222222,
              "#7201a8"
             ],
             [
              0.3333333333333333,
              "#9c179e"
             ],
             [
              0.4444444444444444,
              "#bd3786"
             ],
             [
              0.5555555555555556,
              "#d8576b"
             ],
             [
              0.6666666666666666,
              "#ed7953"
             ],
             [
              0.7777777777777778,
              "#fb9f3a"
             ],
             [
              0.8888888888888888,
              "#fdca26"
             ],
             [
              1,
              "#f0f921"
             ]
            ],
            "type": "heatmap"
           }
          ],
          "heatmapgl": [
           {
            "colorbar": {
             "outlinewidth": 0,
             "ticks": ""
            },
            "colorscale": [
             [
              0,
              "#0d0887"
             ],
             [
              0.1111111111111111,
              "#46039f"
             ],
             [
              0.2222222222222222,
              "#7201a8"
             ],
             [
              0.3333333333333333,
              "#9c179e"
             ],
             [
              0.4444444444444444,
              "#bd3786"
             ],
             [
              0.5555555555555556,
              "#d8576b"
             ],
             [
              0.6666666666666666,
              "#ed7953"
             ],
             [
              0.7777777777777778,
              "#fb9f3a"
             ],
             [
              0.8888888888888888,
              "#fdca26"
             ],
             [
              1,
              "#f0f921"
             ]
            ],
            "type": "heatmapgl"
           }
          ],
          "histogram": [
           {
            "marker": {
             "pattern": {
              "fillmode": "overlay",
              "size": 10,
              "solidity": 0.2
             }
            },
            "type": "histogram"
           }
          ],
          "histogram2d": [
           {
            "colorbar": {
             "outlinewidth": 0,
             "ticks": ""
            },
            "colorscale": [
             [
              0,
              "#0d0887"
             ],
             [
              0.1111111111111111,
              "#46039f"
             ],
             [
              0.2222222222222222,
              "#7201a8"
             ],
             [
              0.3333333333333333,
              "#9c179e"
             ],
             [
              0.4444444444444444,
              "#bd3786"
             ],
             [
              0.5555555555555556,
              "#d8576b"
             ],
             [
              0.6666666666666666,
              "#ed7953"
             ],
             [
              0.7777777777777778,
              "#fb9f3a"
             ],
             [
              0.8888888888888888,
              "#fdca26"
             ],
             [
              1,
              "#f0f921"
             ]
            ],
            "type": "histogram2d"
           }
          ],
          "histogram2dcontour": [
           {
            "colorbar": {
             "outlinewidth": 0,
             "ticks": ""
            },
            "colorscale": [
             [
              0,
              "#0d0887"
             ],
             [
              0.1111111111111111,
              "#46039f"
             ],
             [
              0.2222222222222222,
              "#7201a8"
             ],
             [
              0.3333333333333333,
              "#9c179e"
             ],
             [
              0.4444444444444444,
              "#bd3786"
             ],
             [
              0.5555555555555556,
              "#d8576b"
             ],
             [
              0.6666666666666666,
              "#ed7953"
             ],
             [
              0.7777777777777778,
              "#fb9f3a"
             ],
             [
              0.8888888888888888,
              "#fdca26"
             ],
             [
              1,
              "#f0f921"
             ]
            ],
            "type": "histogram2dcontour"
           }
          ],
          "mesh3d": [
           {
            "colorbar": {
             "outlinewidth": 0,
             "ticks": ""
            },
            "type": "mesh3d"
           }
          ],
          "parcoords": [
           {
            "line": {
             "colorbar": {
              "outlinewidth": 0,
              "ticks": ""
             }
            },
            "type": "parcoords"
           }
          ],
          "pie": [
           {
            "automargin": true,
            "type": "pie"
           }
          ],
          "scatter": [
           {
            "fillpattern": {
             "fillmode": "overlay",
             "size": 10,
             "solidity": 0.2
            },
            "type": "scatter"
           }
          ],
          "scatter3d": [
           {
            "line": {
             "colorbar": {
              "outlinewidth": 0,
              "ticks": ""
             }
            },
            "marker": {
             "colorbar": {
              "outlinewidth": 0,
              "ticks": ""
             }
            },
            "type": "scatter3d"
           }
          ],
          "scattercarpet": [
           {
            "marker": {
             "colorbar": {
              "outlinewidth": 0,
              "ticks": ""
             }
            },
            "type": "scattercarpet"
           }
          ],
          "scattergeo": [
           {
            "marker": {
             "colorbar": {
              "outlinewidth": 0,
              "ticks": ""
             }
            },
            "type": "scattergeo"
           }
          ],
          "scattergl": [
           {
            "marker": {
             "colorbar": {
              "outlinewidth": 0,
              "ticks": ""
             }
            },
            "type": "scattergl"
           }
          ],
          "scattermapbox": [
           {
            "marker": {
             "colorbar": {
              "outlinewidth": 0,
              "ticks": ""
             }
            },
            "type": "scattermapbox"
           }
          ],
          "scatterpolar": [
           {
            "marker": {
             "colorbar": {
              "outlinewidth": 0,
              "ticks": ""
             }
            },
            "type": "scatterpolar"
           }
          ],
          "scatterpolargl": [
           {
            "marker": {
             "colorbar": {
              "outlinewidth": 0,
              "ticks": ""
             }
            },
            "type": "scatterpolargl"
           }
          ],
          "scatterternary": [
           {
            "marker": {
             "colorbar": {
              "outlinewidth": 0,
              "ticks": ""
             }
            },
            "type": "scatterternary"
           }
          ],
          "surface": [
           {
            "colorbar": {
             "outlinewidth": 0,
             "ticks": ""
            },
            "colorscale": [
             [
              0,
              "#0d0887"
             ],
             [
              0.1111111111111111,
              "#46039f"
             ],
             [
              0.2222222222222222,
              "#7201a8"
             ],
             [
              0.3333333333333333,
              "#9c179e"
             ],
             [
              0.4444444444444444,
              "#bd3786"
             ],
             [
              0.5555555555555556,
              "#d8576b"
             ],
             [
              0.6666666666666666,
              "#ed7953"
             ],
             [
              0.7777777777777778,
              "#fb9f3a"
             ],
             [
              0.8888888888888888,
              "#fdca26"
             ],
             [
              1,
              "#f0f921"
             ]
            ],
            "type": "surface"
           }
          ],
          "table": [
           {
            "cells": {
             "fill": {
              "color": "#EBF0F8"
             },
             "line": {
              "color": "white"
             }
            },
            "header": {
             "fill": {
              "color": "#C8D4E3"
             },
             "line": {
              "color": "white"
             }
            },
            "type": "table"
           }
          ]
         },
         "layout": {
          "annotationdefaults": {
           "arrowcolor": "#2a3f5f",
           "arrowhead": 0,
           "arrowwidth": 1
          },
          "autotypenumbers": "strict",
          "coloraxis": {
           "colorbar": {
            "outlinewidth": 0,
            "ticks": ""
           }
          },
          "colorscale": {
           "diverging": [
            [
             0,
             "#8e0152"
            ],
            [
             0.1,
             "#c51b7d"
            ],
            [
             0.2,
             "#de77ae"
            ],
            [
             0.3,
             "#f1b6da"
            ],
            [
             0.4,
             "#fde0ef"
            ],
            [
             0.5,
             "#f7f7f7"
            ],
            [
             0.6,
             "#e6f5d0"
            ],
            [
             0.7,
             "#b8e186"
            ],
            [
             0.8,
             "#7fbc41"
            ],
            [
             0.9,
             "#4d9221"
            ],
            [
             1,
             "#276419"
            ]
           ],
           "sequential": [
            [
             0,
             "#0d0887"
            ],
            [
             0.1111111111111111,
             "#46039f"
            ],
            [
             0.2222222222222222,
             "#7201a8"
            ],
            [
             0.3333333333333333,
             "#9c179e"
            ],
            [
             0.4444444444444444,
             "#bd3786"
            ],
            [
             0.5555555555555556,
             "#d8576b"
            ],
            [
             0.6666666666666666,
             "#ed7953"
            ],
            [
             0.7777777777777778,
             "#fb9f3a"
            ],
            [
             0.8888888888888888,
             "#fdca26"
            ],
            [
             1,
             "#f0f921"
            ]
           ],
           "sequentialminus": [
            [
             0,
             "#0d0887"
            ],
            [
             0.1111111111111111,
             "#46039f"
            ],
            [
             0.2222222222222222,
             "#7201a8"
            ],
            [
             0.3333333333333333,
             "#9c179e"
            ],
            [
             0.4444444444444444,
             "#bd3786"
            ],
            [
             0.5555555555555556,
             "#d8576b"
            ],
            [
             0.6666666666666666,
             "#ed7953"
            ],
            [
             0.7777777777777778,
             "#fb9f3a"
            ],
            [
             0.8888888888888888,
             "#fdca26"
            ],
            [
             1,
             "#f0f921"
            ]
           ]
          },
          "colorway": [
           "#636efa",
           "#EF553B",
           "#00cc96",
           "#ab63fa",
           "#FFA15A",
           "#19d3f3",
           "#FF6692",
           "#B6E880",
           "#FF97FF",
           "#FECB52"
          ],
          "font": {
           "color": "#2a3f5f"
          },
          "geo": {
           "bgcolor": "white",
           "lakecolor": "white",
           "landcolor": "#E5ECF6",
           "showlakes": true,
           "showland": true,
           "subunitcolor": "white"
          },
          "hoverlabel": {
           "align": "left"
          },
          "hovermode": "closest",
          "mapbox": {
           "style": "light"
          },
          "paper_bgcolor": "white",
          "plot_bgcolor": "#E5ECF6",
          "polar": {
           "angularaxis": {
            "gridcolor": "white",
            "linecolor": "white",
            "ticks": ""
           },
           "bgcolor": "#E5ECF6",
           "radialaxis": {
            "gridcolor": "white",
            "linecolor": "white",
            "ticks": ""
           }
          },
          "scene": {
           "xaxis": {
            "backgroundcolor": "#E5ECF6",
            "gridcolor": "white",
            "gridwidth": 2,
            "linecolor": "white",
            "showbackground": true,
            "ticks": "",
            "zerolinecolor": "white"
           },
           "yaxis": {
            "backgroundcolor": "#E5ECF6",
            "gridcolor": "white",
            "gridwidth": 2,
            "linecolor": "white",
            "showbackground": true,
            "ticks": "",
            "zerolinecolor": "white"
           },
           "zaxis": {
            "backgroundcolor": "#E5ECF6",
            "gridcolor": "white",
            "gridwidth": 2,
            "linecolor": "white",
            "showbackground": true,
            "ticks": "",
            "zerolinecolor": "white"
           }
          },
          "shapedefaults": {
           "line": {
            "color": "#2a3f5f"
           }
          },
          "ternary": {
           "aaxis": {
            "gridcolor": "white",
            "linecolor": "white",
            "ticks": ""
           },
           "baxis": {
            "gridcolor": "white",
            "linecolor": "white",
            "ticks": ""
           },
           "bgcolor": "#E5ECF6",
           "caxis": {
            "gridcolor": "white",
            "linecolor": "white",
            "ticks": ""
           }
          },
          "title": {
           "x": 0.05
          },
          "xaxis": {
           "automargin": true,
           "gridcolor": "white",
           "linecolor": "white",
           "ticks": "",
           "title": {
            "standoff": 15
           },
           "zerolinecolor": "white",
           "zerolinewidth": 2
          },
          "yaxis": {
           "automargin": true,
           "gridcolor": "white",
           "linecolor": "white",
           "ticks": "",
           "title": {
            "standoff": 15
           },
           "zerolinecolor": "white",
           "zerolinewidth": 2
          }
         }
        },
        "title": {
         "text": "Top 20 départements avec les plus grandes valeurs foncières"
        },
        "xaxis": {
         "anchor": "y",
         "domain": [
          0,
          1
         ],
         "title": {
          "text": "Rang du département"
         }
        },
        "yaxis": {
         "anchor": "x",
         "domain": [
          0,
          1
         ],
         "title": {
          "text": "Somme des valeurs foncières"
         }
        }
       }
      }
     },
     "metadata": {},
     "output_type": "display_data"
    }
   ],
   "source": [
    "grouped_df = df_2022.groupby('code_departement')['valeur_fonciere'].mean().reset_index()\n",
    "top20_df = grouped_df.sort_values('valeur_fonciere', ascending=False).head(20)\n",
    "top20_df = top20_df.sort_values('valeur_fonciere', ascending=True)\n",
    "top20_df['x_axis_order'] = range(1, len(top20_df) + 1)\n",
    "fig = px.bar(top20_df, x='x_axis_order', y='valeur_fonciere', \n",
    "             color='valeur_fonciere', \n",
    "             labels={'valeur_fonciere':'Somme des valeurs foncières', \n",
    "                     'x_axis_order':'Rang du département'},\n",
    "             hover_data=['code_departement'],\n",
    "             title=\"Top 20 départements avec les plus grandes valeurs foncières\")\n",
    "fig.update_traces(text=top20_df['code_departement'], textposition='inside')\n",
    "fig.show()"
   ]
  },
  {
   "attachments": {},
   "cell_type": "markdown",
   "metadata": {},
   "source": [
    "#### Prix moyen au mètre carré en fonction du département (top 20)"
   ]
  },
  {
   "cell_type": "code",
   "execution_count": 192,
   "metadata": {},
   "outputs": [
    {
     "data": {
      "application/vnd.plotly.v1+json": {
       "config": {
        "plotlyServerURL": "https://plot.ly"
       },
       "data": [
        {
         "alignmentgroup": "True",
         "hovertemplate": "Rang du département=%{x}<br>Moyenne du prix au m2=%{marker.color}<extra></extra>",
         "legendgroup": "",
         "marker": {
          "color": [
           3223.101892734569,
           3249.538651438223,
           3318.780661602185,
           3490.1832193011805,
           3506.049176235045,
           3854.0608407633727,
           3873.415217029526,
           3887.910091017156,
           3888.083153464641,
           4098.447211584043,
           4108.302281667982,
           4269.881133221262,
           4371.794216812203,
           4493.033603697747,
           4649.224873353746,
           4674.789329924438,
           5137.149583276084,
           5497.110065691018,
           7236.523878792777,
           9940.445357991763
          ],
          "coloraxis": "coloraxis",
          "pattern": {
           "shape": ""
          }
         },
         "name": "",
         "offsetgroup": "",
         "orientation": "v",
         "showlegend": false,
         "text": [
          "2B",
          973,
          77,
          44,
          91,
          "2A",
          73,
          13,
          95,
          69,
          64,
          33,
          93,
          83,
          74,
          78,
          6,
          94,
          92,
          75
         ],
         "textposition": "inside",
         "type": "bar",
         "x": [
          1,
          2,
          3,
          4,
          5,
          6,
          7,
          8,
          9,
          10,
          11,
          12,
          13,
          14,
          15,
          16,
          17,
          18,
          19,
          20
         ],
         "xaxis": "x",
         "y": [
          3223.101892734569,
          3249.538651438223,
          3318.780661602185,
          3490.1832193011805,
          3506.049176235045,
          3854.0608407633727,
          3873.415217029526,
          3887.910091017156,
          3888.083153464641,
          4098.447211584043,
          4108.302281667982,
          4269.881133221262,
          4371.794216812203,
          4493.033603697747,
          4649.224873353746,
          4674.789329924438,
          5137.149583276084,
          5497.110065691018,
          7236.523878792777,
          9940.445357991763
         ],
         "yaxis": "y"
        }
       ],
       "layout": {
        "barmode": "relative",
        "coloraxis": {
         "colorbar": {
          "title": {
           "text": "Moyenne du prix au m2"
          }
         },
         "colorscale": [
          [
           0,
           "#0d0887"
          ],
          [
           0.1111111111111111,
           "#46039f"
          ],
          [
           0.2222222222222222,
           "#7201a8"
          ],
          [
           0.3333333333333333,
           "#9c179e"
          ],
          [
           0.4444444444444444,
           "#bd3786"
          ],
          [
           0.5555555555555556,
           "#d8576b"
          ],
          [
           0.6666666666666666,
           "#ed7953"
          ],
          [
           0.7777777777777778,
           "#fb9f3a"
          ],
          [
           0.8888888888888888,
           "#fdca26"
          ],
          [
           1,
           "#f0f921"
          ]
         ]
        },
        "legend": {
         "tracegroupgap": 0
        },
        "template": {
         "data": {
          "bar": [
           {
            "error_x": {
             "color": "#2a3f5f"
            },
            "error_y": {
             "color": "#2a3f5f"
            },
            "marker": {
             "line": {
              "color": "#E5ECF6",
              "width": 0.5
             },
             "pattern": {
              "fillmode": "overlay",
              "size": 10,
              "solidity": 0.2
             }
            },
            "type": "bar"
           }
          ],
          "barpolar": [
           {
            "marker": {
             "line": {
              "color": "#E5ECF6",
              "width": 0.5
             },
             "pattern": {
              "fillmode": "overlay",
              "size": 10,
              "solidity": 0.2
             }
            },
            "type": "barpolar"
           }
          ],
          "carpet": [
           {
            "aaxis": {
             "endlinecolor": "#2a3f5f",
             "gridcolor": "white",
             "linecolor": "white",
             "minorgridcolor": "white",
             "startlinecolor": "#2a3f5f"
            },
            "baxis": {
             "endlinecolor": "#2a3f5f",
             "gridcolor": "white",
             "linecolor": "white",
             "minorgridcolor": "white",
             "startlinecolor": "#2a3f5f"
            },
            "type": "carpet"
           }
          ],
          "choropleth": [
           {
            "colorbar": {
             "outlinewidth": 0,
             "ticks": ""
            },
            "type": "choropleth"
           }
          ],
          "contour": [
           {
            "colorbar": {
             "outlinewidth": 0,
             "ticks": ""
            },
            "colorscale": [
             [
              0,
              "#0d0887"
             ],
             [
              0.1111111111111111,
              "#46039f"
             ],
             [
              0.2222222222222222,
              "#7201a8"
             ],
             [
              0.3333333333333333,
              "#9c179e"
             ],
             [
              0.4444444444444444,
              "#bd3786"
             ],
             [
              0.5555555555555556,
              "#d8576b"
             ],
             [
              0.6666666666666666,
              "#ed7953"
             ],
             [
              0.7777777777777778,
              "#fb9f3a"
             ],
             [
              0.8888888888888888,
              "#fdca26"
             ],
             [
              1,
              "#f0f921"
             ]
            ],
            "type": "contour"
           }
          ],
          "contourcarpet": [
           {
            "colorbar": {
             "outlinewidth": 0,
             "ticks": ""
            },
            "type": "contourcarpet"
           }
          ],
          "heatmap": [
           {
            "colorbar": {
             "outlinewidth": 0,
             "ticks": ""
            },
            "colorscale": [
             [
              0,
              "#0d0887"
             ],
             [
              0.1111111111111111,
              "#46039f"
             ],
             [
              0.2222222222222222,
              "#7201a8"
             ],
             [
              0.3333333333333333,
              "#9c179e"
             ],
             [
              0.4444444444444444,
              "#bd3786"
             ],
             [
              0.5555555555555556,
              "#d8576b"
             ],
             [
              0.6666666666666666,
              "#ed7953"
             ],
             [
              0.7777777777777778,
              "#fb9f3a"
             ],
             [
              0.8888888888888888,
              "#fdca26"
             ],
             [
              1,
              "#f0f921"
             ]
            ],
            "type": "heatmap"
           }
          ],
          "heatmapgl": [
           {
            "colorbar": {
             "outlinewidth": 0,
             "ticks": ""
            },
            "colorscale": [
             [
              0,
              "#0d0887"
             ],
             [
              0.1111111111111111,
              "#46039f"
             ],
             [
              0.2222222222222222,
              "#7201a8"
             ],
             [
              0.3333333333333333,
              "#9c179e"
             ],
             [
              0.4444444444444444,
              "#bd3786"
             ],
             [
              0.5555555555555556,
              "#d8576b"
             ],
             [
              0.6666666666666666,
              "#ed7953"
             ],
             [
              0.7777777777777778,
              "#fb9f3a"
             ],
             [
              0.8888888888888888,
              "#fdca26"
             ],
             [
              1,
              "#f0f921"
             ]
            ],
            "type": "heatmapgl"
           }
          ],
          "histogram": [
           {
            "marker": {
             "pattern": {
              "fillmode": "overlay",
              "size": 10,
              "solidity": 0.2
             }
            },
            "type": "histogram"
           }
          ],
          "histogram2d": [
           {
            "colorbar": {
             "outlinewidth": 0,
             "ticks": ""
            },
            "colorscale": [
             [
              0,
              "#0d0887"
             ],
             [
              0.1111111111111111,
              "#46039f"
             ],
             [
              0.2222222222222222,
              "#7201a8"
             ],
             [
              0.3333333333333333,
              "#9c179e"
             ],
             [
              0.4444444444444444,
              "#bd3786"
             ],
             [
              0.5555555555555556,
              "#d8576b"
             ],
             [
              0.6666666666666666,
              "#ed7953"
             ],
             [
              0.7777777777777778,
              "#fb9f3a"
             ],
             [
              0.8888888888888888,
              "#fdca26"
             ],
             [
              1,
              "#f0f921"
             ]
            ],
            "type": "histogram2d"
           }
          ],
          "histogram2dcontour": [
           {
            "colorbar": {
             "outlinewidth": 0,
             "ticks": ""
            },
            "colorscale": [
             [
              0,
              "#0d0887"
             ],
             [
              0.1111111111111111,
              "#46039f"
             ],
             [
              0.2222222222222222,
              "#7201a8"
             ],
             [
              0.3333333333333333,
              "#9c179e"
             ],
             [
              0.4444444444444444,
              "#bd3786"
             ],
             [
              0.5555555555555556,
              "#d8576b"
             ],
             [
              0.6666666666666666,
              "#ed7953"
             ],
             [
              0.7777777777777778,
              "#fb9f3a"
             ],
             [
              0.8888888888888888,
              "#fdca26"
             ],
             [
              1,
              "#f0f921"
             ]
            ],
            "type": "histogram2dcontour"
           }
          ],
          "mesh3d": [
           {
            "colorbar": {
             "outlinewidth": 0,
             "ticks": ""
            },
            "type": "mesh3d"
           }
          ],
          "parcoords": [
           {
            "line": {
             "colorbar": {
              "outlinewidth": 0,
              "ticks": ""
             }
            },
            "type": "parcoords"
           }
          ],
          "pie": [
           {
            "automargin": true,
            "type": "pie"
           }
          ],
          "scatter": [
           {
            "fillpattern": {
             "fillmode": "overlay",
             "size": 10,
             "solidity": 0.2
            },
            "type": "scatter"
           }
          ],
          "scatter3d": [
           {
            "line": {
             "colorbar": {
              "outlinewidth": 0,
              "ticks": ""
             }
            },
            "marker": {
             "colorbar": {
              "outlinewidth": 0,
              "ticks": ""
             }
            },
            "type": "scatter3d"
           }
          ],
          "scattercarpet": [
           {
            "marker": {
             "colorbar": {
              "outlinewidth": 0,
              "ticks": ""
             }
            },
            "type": "scattercarpet"
           }
          ],
          "scattergeo": [
           {
            "marker": {
             "colorbar": {
              "outlinewidth": 0,
              "ticks": ""
             }
            },
            "type": "scattergeo"
           }
          ],
          "scattergl": [
           {
            "marker": {
             "colorbar": {
              "outlinewidth": 0,
              "ticks": ""
             }
            },
            "type": "scattergl"
           }
          ],
          "scattermapbox": [
           {
            "marker": {
             "colorbar": {
              "outlinewidth": 0,
              "ticks": ""
             }
            },
            "type": "scattermapbox"
           }
          ],
          "scatterpolar": [
           {
            "marker": {
             "colorbar": {
              "outlinewidth": 0,
              "ticks": ""
             }
            },
            "type": "scatterpolar"
           }
          ],
          "scatterpolargl": [
           {
            "marker": {
             "colorbar": {
              "outlinewidth": 0,
              "ticks": ""
             }
            },
            "type": "scatterpolargl"
           }
          ],
          "scatterternary": [
           {
            "marker": {
             "colorbar": {
              "outlinewidth": 0,
              "ticks": ""
             }
            },
            "type": "scatterternary"
           }
          ],
          "surface": [
           {
            "colorbar": {
             "outlinewidth": 0,
             "ticks": ""
            },
            "colorscale": [
             [
              0,
              "#0d0887"
             ],
             [
              0.1111111111111111,
              "#46039f"
             ],
             [
              0.2222222222222222,
              "#7201a8"
             ],
             [
              0.3333333333333333,
              "#9c179e"
             ],
             [
              0.4444444444444444,
              "#bd3786"
             ],
             [
              0.5555555555555556,
              "#d8576b"
             ],
             [
              0.6666666666666666,
              "#ed7953"
             ],
             [
              0.7777777777777778,
              "#fb9f3a"
             ],
             [
              0.8888888888888888,
              "#fdca26"
             ],
             [
              1,
              "#f0f921"
             ]
            ],
            "type": "surface"
           }
          ],
          "table": [
           {
            "cells": {
             "fill": {
              "color": "#EBF0F8"
             },
             "line": {
              "color": "white"
             }
            },
            "header": {
             "fill": {
              "color": "#C8D4E3"
             },
             "line": {
              "color": "white"
             }
            },
            "type": "table"
           }
          ]
         },
         "layout": {
          "annotationdefaults": {
           "arrowcolor": "#2a3f5f",
           "arrowhead": 0,
           "arrowwidth": 1
          },
          "autotypenumbers": "strict",
          "coloraxis": {
           "colorbar": {
            "outlinewidth": 0,
            "ticks": ""
           }
          },
          "colorscale": {
           "diverging": [
            [
             0,
             "#8e0152"
            ],
            [
             0.1,
             "#c51b7d"
            ],
            [
             0.2,
             "#de77ae"
            ],
            [
             0.3,
             "#f1b6da"
            ],
            [
             0.4,
             "#fde0ef"
            ],
            [
             0.5,
             "#f7f7f7"
            ],
            [
             0.6,
             "#e6f5d0"
            ],
            [
             0.7,
             "#b8e186"
            ],
            [
             0.8,
             "#7fbc41"
            ],
            [
             0.9,
             "#4d9221"
            ],
            [
             1,
             "#276419"
            ]
           ],
           "sequential": [
            [
             0,
             "#0d0887"
            ],
            [
             0.1111111111111111,
             "#46039f"
            ],
            [
             0.2222222222222222,
             "#7201a8"
            ],
            [
             0.3333333333333333,
             "#9c179e"
            ],
            [
             0.4444444444444444,
             "#bd3786"
            ],
            [
             0.5555555555555556,
             "#d8576b"
            ],
            [
             0.6666666666666666,
             "#ed7953"
            ],
            [
             0.7777777777777778,
             "#fb9f3a"
            ],
            [
             0.8888888888888888,
             "#fdca26"
            ],
            [
             1,
             "#f0f921"
            ]
           ],
           "sequentialminus": [
            [
             0,
             "#0d0887"
            ],
            [
             0.1111111111111111,
             "#46039f"
            ],
            [
             0.2222222222222222,
             "#7201a8"
            ],
            [
             0.3333333333333333,
             "#9c179e"
            ],
            [
             0.4444444444444444,
             "#bd3786"
            ],
            [
             0.5555555555555556,
             "#d8576b"
            ],
            [
             0.6666666666666666,
             "#ed7953"
            ],
            [
             0.7777777777777778,
             "#fb9f3a"
            ],
            [
             0.8888888888888888,
             "#fdca26"
            ],
            [
             1,
             "#f0f921"
            ]
           ]
          },
          "colorway": [
           "#636efa",
           "#EF553B",
           "#00cc96",
           "#ab63fa",
           "#FFA15A",
           "#19d3f3",
           "#FF6692",
           "#B6E880",
           "#FF97FF",
           "#FECB52"
          ],
          "font": {
           "color": "#2a3f5f"
          },
          "geo": {
           "bgcolor": "white",
           "lakecolor": "white",
           "landcolor": "#E5ECF6",
           "showlakes": true,
           "showland": true,
           "subunitcolor": "white"
          },
          "hoverlabel": {
           "align": "left"
          },
          "hovermode": "closest",
          "mapbox": {
           "style": "light"
          },
          "paper_bgcolor": "white",
          "plot_bgcolor": "#E5ECF6",
          "polar": {
           "angularaxis": {
            "gridcolor": "white",
            "linecolor": "white",
            "ticks": ""
           },
           "bgcolor": "#E5ECF6",
           "radialaxis": {
            "gridcolor": "white",
            "linecolor": "white",
            "ticks": ""
           }
          },
          "scene": {
           "xaxis": {
            "backgroundcolor": "#E5ECF6",
            "gridcolor": "white",
            "gridwidth": 2,
            "linecolor": "white",
            "showbackground": true,
            "ticks": "",
            "zerolinecolor": "white"
           },
           "yaxis": {
            "backgroundcolor": "#E5ECF6",
            "gridcolor": "white",
            "gridwidth": 2,
            "linecolor": "white",
            "showbackground": true,
            "ticks": "",
            "zerolinecolor": "white"
           },
           "zaxis": {
            "backgroundcolor": "#E5ECF6",
            "gridcolor": "white",
            "gridwidth": 2,
            "linecolor": "white",
            "showbackground": true,
            "ticks": "",
            "zerolinecolor": "white"
           }
          },
          "shapedefaults": {
           "line": {
            "color": "#2a3f5f"
           }
          },
          "ternary": {
           "aaxis": {
            "gridcolor": "white",
            "linecolor": "white",
            "ticks": ""
           },
           "baxis": {
            "gridcolor": "white",
            "linecolor": "white",
            "ticks": ""
           },
           "bgcolor": "#E5ECF6",
           "caxis": {
            "gridcolor": "white",
            "linecolor": "white",
            "ticks": ""
           }
          },
          "title": {
           "x": 0.05
          },
          "xaxis": {
           "automargin": true,
           "gridcolor": "white",
           "linecolor": "white",
           "ticks": "",
           "title": {
            "standoff": 15
           },
           "zerolinecolor": "white",
           "zerolinewidth": 2
          },
          "yaxis": {
           "automargin": true,
           "gridcolor": "white",
           "linecolor": "white",
           "ticks": "",
           "title": {
            "standoff": 15
           },
           "zerolinecolor": "white",
           "zerolinewidth": 2
          }
         }
        },
        "title": {
         "text": "Top 20 départements avec les plus grandes moyennes du prix au m2"
        },
        "xaxis": {
         "anchor": "y",
         "domain": [
          0,
          1
         ],
         "title": {
          "text": "Rang du département"
         }
        },
        "yaxis": {
         "anchor": "x",
         "domain": [
          0,
          1
         ],
         "title": {
          "text": "Moyenne du prix au m2"
         }
        }
       }
      }
     },
     "metadata": {},
     "output_type": "display_data"
    }
   ],
   "source": [
    "grouped_df = df_2022.groupby('code_departement')['prix_au_m2'].mean().reset_index()\n",
    "top20_df = grouped_df.sort_values('prix_au_m2', ascending=False).head(20)\n",
    "top20_df = top20_df.sort_values('prix_au_m2', ascending=True)\n",
    "top20_df['x_axis_order'] = range(1, len(top20_df) + 1)\n",
    "fig = px.bar(top20_df, x='x_axis_order', y='prix_au_m2', \n",
    "             color='prix_au_m2', \n",
    "             labels={'prix_au_m2':'Moyenne du prix au m2', \n",
    "                     'x_axis_order':'Rang du département'},\n",
    "             title=\"Top 20 départements avec les plus grandes moyennes du prix au m2\")\n",
    "fig.update_traces(text=top20_df['code_departement'], textposition='inside')\n",
    "fig.show()"
   ]
  },
  {
   "attachments": {},
   "cell_type": "markdown",
   "metadata": {},
   "source": [
    "#### DataViz n°434 : fdsjf"
   ]
  },
  {
   "cell_type": "code",
   "execution_count": 193,
   "metadata": {},
   "outputs": [
    {
     "data": {
      "application/vnd.plotly.v1+json": {
       "config": {
        "plotlyServerURL": "https://plot.ly"
       },
       "data": [
        {
         "domain": {
          "x": [
           0,
           1
          ],
          "y": [
           0,
           1
          ]
         },
         "hovertemplate": "nature_mutation=%{label}<br>sum=%{value}<extra></extra>",
         "labels": [
          "Vente",
          "Vente en l'état futur d'achèvement",
          "Adjudication",
          "Vente terrain à bâtir",
          "Echange",
          "Expropriation"
         ],
         "legendgroup": "",
         "name": "",
         "showlegend": true,
         "type": "pie",
         "values": [
          265345787678.32,
          2070215188.75,
          316994819.75,
          282749744.66,
          212597705.37,
          4485071.3
         ]
        }
       ],
       "layout": {
        "legend": {
         "tracegroupgap": 0
        },
        "margin": {
         "t": 60
        },
        "template": {
         "data": {
          "bar": [
           {
            "error_x": {
             "color": "#2a3f5f"
            },
            "error_y": {
             "color": "#2a3f5f"
            },
            "marker": {
             "line": {
              "color": "#E5ECF6",
              "width": 0.5
             },
             "pattern": {
              "fillmode": "overlay",
              "size": 10,
              "solidity": 0.2
             }
            },
            "type": "bar"
           }
          ],
          "barpolar": [
           {
            "marker": {
             "line": {
              "color": "#E5ECF6",
              "width": 0.5
             },
             "pattern": {
              "fillmode": "overlay",
              "size": 10,
              "solidity": 0.2
             }
            },
            "type": "barpolar"
           }
          ],
          "carpet": [
           {
            "aaxis": {
             "endlinecolor": "#2a3f5f",
             "gridcolor": "white",
             "linecolor": "white",
             "minorgridcolor": "white",
             "startlinecolor": "#2a3f5f"
            },
            "baxis": {
             "endlinecolor": "#2a3f5f",
             "gridcolor": "white",
             "linecolor": "white",
             "minorgridcolor": "white",
             "startlinecolor": "#2a3f5f"
            },
            "type": "carpet"
           }
          ],
          "choropleth": [
           {
            "colorbar": {
             "outlinewidth": 0,
             "ticks": ""
            },
            "type": "choropleth"
           }
          ],
          "contour": [
           {
            "colorbar": {
             "outlinewidth": 0,
             "ticks": ""
            },
            "colorscale": [
             [
              0,
              "#0d0887"
             ],
             [
              0.1111111111111111,
              "#46039f"
             ],
             [
              0.2222222222222222,
              "#7201a8"
             ],
             [
              0.3333333333333333,
              "#9c179e"
             ],
             [
              0.4444444444444444,
              "#bd3786"
             ],
             [
              0.5555555555555556,
              "#d8576b"
             ],
             [
              0.6666666666666666,
              "#ed7953"
             ],
             [
              0.7777777777777778,
              "#fb9f3a"
             ],
             [
              0.8888888888888888,
              "#fdca26"
             ],
             [
              1,
              "#f0f921"
             ]
            ],
            "type": "contour"
           }
          ],
          "contourcarpet": [
           {
            "colorbar": {
             "outlinewidth": 0,
             "ticks": ""
            },
            "type": "contourcarpet"
           }
          ],
          "heatmap": [
           {
            "colorbar": {
             "outlinewidth": 0,
             "ticks": ""
            },
            "colorscale": [
             [
              0,
              "#0d0887"
             ],
             [
              0.1111111111111111,
              "#46039f"
             ],
             [
              0.2222222222222222,
              "#7201a8"
             ],
             [
              0.3333333333333333,
              "#9c179e"
             ],
             [
              0.4444444444444444,
              "#bd3786"
             ],
             [
              0.5555555555555556,
              "#d8576b"
             ],
             [
              0.6666666666666666,
              "#ed7953"
             ],
             [
              0.7777777777777778,
              "#fb9f3a"
             ],
             [
              0.8888888888888888,
              "#fdca26"
             ],
             [
              1,
              "#f0f921"
             ]
            ],
            "type": "heatmap"
           }
          ],
          "heatmapgl": [
           {
            "colorbar": {
             "outlinewidth": 0,
             "ticks": ""
            },
            "colorscale": [
             [
              0,
              "#0d0887"
             ],
             [
              0.1111111111111111,
              "#46039f"
             ],
             [
              0.2222222222222222,
              "#7201a8"
             ],
             [
              0.3333333333333333,
              "#9c179e"
             ],
             [
              0.4444444444444444,
              "#bd3786"
             ],
             [
              0.5555555555555556,
              "#d8576b"
             ],
             [
              0.6666666666666666,
              "#ed7953"
             ],
             [
              0.7777777777777778,
              "#fb9f3a"
             ],
             [
              0.8888888888888888,
              "#fdca26"
             ],
             [
              1,
              "#f0f921"
             ]
            ],
            "type": "heatmapgl"
           }
          ],
          "histogram": [
           {
            "marker": {
             "pattern": {
              "fillmode": "overlay",
              "size": 10,
              "solidity": 0.2
             }
            },
            "type": "histogram"
           }
          ],
          "histogram2d": [
           {
            "colorbar": {
             "outlinewidth": 0,
             "ticks": ""
            },
            "colorscale": [
             [
              0,
              "#0d0887"
             ],
             [
              0.1111111111111111,
              "#46039f"
             ],
             [
              0.2222222222222222,
              "#7201a8"
             ],
             [
              0.3333333333333333,
              "#9c179e"
             ],
             [
              0.4444444444444444,
              "#bd3786"
             ],
             [
              0.5555555555555556,
              "#d8576b"
             ],
             [
              0.6666666666666666,
              "#ed7953"
             ],
             [
              0.7777777777777778,
              "#fb9f3a"
             ],
             [
              0.8888888888888888,
              "#fdca26"
             ],
             [
              1,
              "#f0f921"
             ]
            ],
            "type": "histogram2d"
           }
          ],
          "histogram2dcontour": [
           {
            "colorbar": {
             "outlinewidth": 0,
             "ticks": ""
            },
            "colorscale": [
             [
              0,
              "#0d0887"
             ],
             [
              0.1111111111111111,
              "#46039f"
             ],
             [
              0.2222222222222222,
              "#7201a8"
             ],
             [
              0.3333333333333333,
              "#9c179e"
             ],
             [
              0.4444444444444444,
              "#bd3786"
             ],
             [
              0.5555555555555556,
              "#d8576b"
             ],
             [
              0.6666666666666666,
              "#ed7953"
             ],
             [
              0.7777777777777778,
              "#fb9f3a"
             ],
             [
              0.8888888888888888,
              "#fdca26"
             ],
             [
              1,
              "#f0f921"
             ]
            ],
            "type": "histogram2dcontour"
           }
          ],
          "mesh3d": [
           {
            "colorbar": {
             "outlinewidth": 0,
             "ticks": ""
            },
            "type": "mesh3d"
           }
          ],
          "parcoords": [
           {
            "line": {
             "colorbar": {
              "outlinewidth": 0,
              "ticks": ""
             }
            },
            "type": "parcoords"
           }
          ],
          "pie": [
           {
            "automargin": true,
            "type": "pie"
           }
          ],
          "scatter": [
           {
            "fillpattern": {
             "fillmode": "overlay",
             "size": 10,
             "solidity": 0.2
            },
            "type": "scatter"
           }
          ],
          "scatter3d": [
           {
            "line": {
             "colorbar": {
              "outlinewidth": 0,
              "ticks": ""
             }
            },
            "marker": {
             "colorbar": {
              "outlinewidth": 0,
              "ticks": ""
             }
            },
            "type": "scatter3d"
           }
          ],
          "scattercarpet": [
           {
            "marker": {
             "colorbar": {
              "outlinewidth": 0,
              "ticks": ""
             }
            },
            "type": "scattercarpet"
           }
          ],
          "scattergeo": [
           {
            "marker": {
             "colorbar": {
              "outlinewidth": 0,
              "ticks": ""
             }
            },
            "type": "scattergeo"
           }
          ],
          "scattergl": [
           {
            "marker": {
             "colorbar": {
              "outlinewidth": 0,
              "ticks": ""
             }
            },
            "type": "scattergl"
           }
          ],
          "scattermapbox": [
           {
            "marker": {
             "colorbar": {
              "outlinewidth": 0,
              "ticks": ""
             }
            },
            "type": "scattermapbox"
           }
          ],
          "scatterpolar": [
           {
            "marker": {
             "colorbar": {
              "outlinewidth": 0,
              "ticks": ""
             }
            },
            "type": "scatterpolar"
           }
          ],
          "scatterpolargl": [
           {
            "marker": {
             "colorbar": {
              "outlinewidth": 0,
              "ticks": ""
             }
            },
            "type": "scatterpolargl"
           }
          ],
          "scatterternary": [
           {
            "marker": {
             "colorbar": {
              "outlinewidth": 0,
              "ticks": ""
             }
            },
            "type": "scatterternary"
           }
          ],
          "surface": [
           {
            "colorbar": {
             "outlinewidth": 0,
             "ticks": ""
            },
            "colorscale": [
             [
              0,
              "#0d0887"
             ],
             [
              0.1111111111111111,
              "#46039f"
             ],
             [
              0.2222222222222222,
              "#7201a8"
             ],
             [
              0.3333333333333333,
              "#9c179e"
             ],
             [
              0.4444444444444444,
              "#bd3786"
             ],
             [
              0.5555555555555556,
              "#d8576b"
             ],
             [
              0.6666666666666666,
              "#ed7953"
             ],
             [
              0.7777777777777778,
              "#fb9f3a"
             ],
             [
              0.8888888888888888,
              "#fdca26"
             ],
             [
              1,
              "#f0f921"
             ]
            ],
            "type": "surface"
           }
          ],
          "table": [
           {
            "cells": {
             "fill": {
              "color": "#EBF0F8"
             },
             "line": {
              "color": "white"
             }
            },
            "header": {
             "fill": {
              "color": "#C8D4E3"
             },
             "line": {
              "color": "white"
             }
            },
            "type": "table"
           }
          ]
         },
         "layout": {
          "annotationdefaults": {
           "arrowcolor": "#2a3f5f",
           "arrowhead": 0,
           "arrowwidth": 1
          },
          "autotypenumbers": "strict",
          "coloraxis": {
           "colorbar": {
            "outlinewidth": 0,
            "ticks": ""
           }
          },
          "colorscale": {
           "diverging": [
            [
             0,
             "#8e0152"
            ],
            [
             0.1,
             "#c51b7d"
            ],
            [
             0.2,
             "#de77ae"
            ],
            [
             0.3,
             "#f1b6da"
            ],
            [
             0.4,
             "#fde0ef"
            ],
            [
             0.5,
             "#f7f7f7"
            ],
            [
             0.6,
             "#e6f5d0"
            ],
            [
             0.7,
             "#b8e186"
            ],
            [
             0.8,
             "#7fbc41"
            ],
            [
             0.9,
             "#4d9221"
            ],
            [
             1,
             "#276419"
            ]
           ],
           "sequential": [
            [
             0,
             "#0d0887"
            ],
            [
             0.1111111111111111,
             "#46039f"
            ],
            [
             0.2222222222222222,
             "#7201a8"
            ],
            [
             0.3333333333333333,
             "#9c179e"
            ],
            [
             0.4444444444444444,
             "#bd3786"
            ],
            [
             0.5555555555555556,
             "#d8576b"
            ],
            [
             0.6666666666666666,
             "#ed7953"
            ],
            [
             0.7777777777777778,
             "#fb9f3a"
            ],
            [
             0.8888888888888888,
             "#fdca26"
            ],
            [
             1,
             "#f0f921"
            ]
           ],
           "sequentialminus": [
            [
             0,
             "#0d0887"
            ],
            [
             0.1111111111111111,
             "#46039f"
            ],
            [
             0.2222222222222222,
             "#7201a8"
            ],
            [
             0.3333333333333333,
             "#9c179e"
            ],
            [
             0.4444444444444444,
             "#bd3786"
            ],
            [
             0.5555555555555556,
             "#d8576b"
            ],
            [
             0.6666666666666666,
             "#ed7953"
            ],
            [
             0.7777777777777778,
             "#fb9f3a"
            ],
            [
             0.8888888888888888,
             "#fdca26"
            ],
            [
             1,
             "#f0f921"
            ]
           ]
          },
          "colorway": [
           "#636efa",
           "#EF553B",
           "#00cc96",
           "#ab63fa",
           "#FFA15A",
           "#19d3f3",
           "#FF6692",
           "#B6E880",
           "#FF97FF",
           "#FECB52"
          ],
          "font": {
           "color": "#2a3f5f"
          },
          "geo": {
           "bgcolor": "white",
           "lakecolor": "white",
           "landcolor": "#E5ECF6",
           "showlakes": true,
           "showland": true,
           "subunitcolor": "white"
          },
          "hoverlabel": {
           "align": "left"
          },
          "hovermode": "closest",
          "mapbox": {
           "style": "light"
          },
          "paper_bgcolor": "white",
          "plot_bgcolor": "#E5ECF6",
          "polar": {
           "angularaxis": {
            "gridcolor": "white",
            "linecolor": "white",
            "ticks": ""
           },
           "bgcolor": "#E5ECF6",
           "radialaxis": {
            "gridcolor": "white",
            "linecolor": "white",
            "ticks": ""
           }
          },
          "scene": {
           "xaxis": {
            "backgroundcolor": "#E5ECF6",
            "gridcolor": "white",
            "gridwidth": 2,
            "linecolor": "white",
            "showbackground": true,
            "ticks": "",
            "zerolinecolor": "white"
           },
           "yaxis": {
            "backgroundcolor": "#E5ECF6",
            "gridcolor": "white",
            "gridwidth": 2,
            "linecolor": "white",
            "showbackground": true,
            "ticks": "",
            "zerolinecolor": "white"
           },
           "zaxis": {
            "backgroundcolor": "#E5ECF6",
            "gridcolor": "white",
            "gridwidth": 2,
            "linecolor": "white",
            "showbackground": true,
            "ticks": "",
            "zerolinecolor": "white"
           }
          },
          "shapedefaults": {
           "line": {
            "color": "#2a3f5f"
           }
          },
          "ternary": {
           "aaxis": {
            "gridcolor": "white",
            "linecolor": "white",
            "ticks": ""
           },
           "baxis": {
            "gridcolor": "white",
            "linecolor": "white",
            "ticks": ""
           },
           "bgcolor": "#E5ECF6",
           "caxis": {
            "gridcolor": "white",
            "linecolor": "white",
            "ticks": ""
           }
          },
          "title": {
           "x": 0.05
          },
          "xaxis": {
           "automargin": true,
           "gridcolor": "white",
           "linecolor": "white",
           "ticks": "",
           "title": {
            "standoff": 15
           },
           "zerolinecolor": "white",
           "zerolinewidth": 2
          },
          "yaxis": {
           "automargin": true,
           "gridcolor": "white",
           "linecolor": "white",
           "ticks": "",
           "title": {
            "standoff": 15
           },
           "zerolinecolor": "white",
           "zerolinewidth": 2
          }
         }
        }
       }
      }
     },
     "metadata": {},
     "output_type": "display_data"
    }
   ],
   "source": [
    "nature = df_2022.groupby('nature_mutation')['valeur_fonciere'].sum().reset_index().sort_values('valeur_fonciere',ascending = False).head(6)\n",
    "nature = nature.rename(columns = {'valeur_fonciere':'sum'})\n",
    "fig = px.pie(nature, values='sum', names='nature_mutation')\n",
    "fig.show()"
   ]
  },
  {
   "attachments": {},
   "cell_type": "markdown",
   "metadata": {},
   "source": [
    "#### Matrice de corrélation"
   ]
  },
  {
   "cell_type": "code",
   "execution_count": 194,
   "metadata": {},
   "outputs": [
    {
     "data": {
      "text/plain": [
       "<Axes: >"
      ]
     },
     "execution_count": 194,
     "metadata": {},
     "output_type": "execute_result"
    },
    {
     "data": {
      "image/png": "[encoded data removed]",
      "text/plain": [
       "<Figure size 640x480 with 2 Axes>"
      ]
     },
     "metadata": {},
     "output_type": "display_data"
    }
   ],
   "source": [
    "numerical_columns = df_combined.select_dtypes(include=['int', 'float']).columns\n",
    "columns_to_exclude = ['code_postal']\n",
    "numeric_df = df_combined[numerical_columns].drop(columns=columns_to_exclude)\n",
    "correlation_matrix = numeric_df.corr()\n",
    "sns.heatmap(correlation_matrix, annot=True, cmap='coolwarm')"
   ]
  },
  {
   "attachments": {},
   "cell_type": "markdown",
   "metadata": {},
   "source": [
    "# Modèle Machine Learning"
   ]
  },
  {
   "attachments": {},
   "cell_type": "markdown",
   "metadata": {},
   "source": [
    "## Modèle non-supervisé : K-means"
   ]
  },
  {
   "attachments": {},
   "cell_type": "markdown",
   "metadata": {},
   "source": [
    "#### Sélection des variables pertinentes pour le modèle"
   ]
  },
  {
   "cell_type": "code",
   "execution_count": 195,
   "metadata": {},
   "outputs": [],
   "source": [
    "selected_features = ['nature_mutation','valeur_fonciere', 'nombre_de_lots', 'surface_reelle_bati', 'nombre_pieces_principales', 'surface_terrain', 'prix_au_m2', 'code_departement', 'type_local', 'month']"
   ]
  },
  {
   "attachments": {},
   "cell_type": "markdown",
   "metadata": {},
   "source": [
    "#### Encodage des variables catégorielles "
   ]
  },
  {
   "cell_type": "code",
   "execution_count": 196,
   "metadata": {},
   "outputs": [],
   "source": [
    "categorical_features = ['nature_mutation','code_departement', 'type_local', 'month']\n",
    "df_combined[categorical_features] = df_combined[categorical_features].astype(str)\n",
    "numerical_features = list(set(selected_features) - set(categorical_features))\n",
    "preprocessor = ColumnTransformer(\n",
    "    transformers=[\n",
    "        ('num', StandardScaler(), numerical_features),  \n",
    "        ('cat', OneHotEncoder(), categorical_features)  \n",
    "    ])\n",
    "\n",
    "X = preprocessor.fit_transform(df_combined[selected_features])"
   ]
  },
  {
   "attachments": {},
   "cell_type": "markdown",
   "metadata": {},
   "source": [
    "#### Utilisation de la Elbow Method pour déterminer le nombre optimisé de cluster"
   ]
  },
  {
   "cell_type": "code",
   "execution_count": 197,
   "metadata": {},
   "outputs": [
    {
     "name": "stderr",
     "output_type": "stream",
     "text": [
      "/Library/Frameworks/Python.framework/Versions/3.11/lib/python3.11/site-packages/sklearn/cluster/_kmeans.py:870: FutureWarning:\n",
      "\n",
      "The default value of `n_init` will change from 10 to 'auto' in 1.4. Set the value of `n_init` explicitly to suppress the warning\n",
      "\n"
     ]
    }
   ],
   "source": [
    "inertia = []\n",
    "max_clusters = 10\n",
    "for n_clusters in range(1, max_clusters + 1):\n",
    "    kmeans = KMeans(n_clusters=n_clusters)\n",
    "    kmeans.fit(X)\n",
    "    inertia.append(kmeans.inertia_)\n",
    "plt.plot(range(1, max_clusters + 1), inertia, marker='o')\n",
    "plt.xlabel('Nombre de clusters')\n",
    "plt.ylabel('Inertie')\n",
    "plt.title('Méthode du coude : Inertie en fonction du nombre de clusters')\n",
    "plt.show()\n"
   ]
  },
  {
   "attachments": {},
   "cell_type": "markdown",
   "metadata": {},
   "source": [
    "#### Instanciation du modèle K-means avec le nombre de clusters souhaité"
   ]
  },
  {
   "cell_type": "code",
   "execution_count": null,
   "metadata": {},
   "outputs": [],
   "source": [
    "n_clusters = 3\n",
    "kmeans = KMeans(n_clusters=n_clusters)"
   ]
  },
  {
   "cell_type": "code",
   "execution_count": null,
   "metadata": {},
   "outputs": [
    {
     "name": "stderr",
     "output_type": "stream",
     "text": [
      "/Library/Frameworks/Python.framework/Versions/3.11/lib/python3.11/site-packages/sklearn/cluster/_kmeans.py:870: FutureWarning:\n",
      "\n",
      "The default value of `n_init` will change from 10 to 'auto' in 1.4. Set the value of `n_init` explicitly to suppress the warning\n",
      "\n"
     ]
    },
    {
     "name": "stdout",
     "output_type": "stream",
     "text": [
      "Centres des clusters :\n",
      "[[ 1.15192265e-01  8.76839325e-01 -3.01647001e-01 -8.35849217e-02\n",
      "  -9.14619406e-02 -1.33705878e-01  4.39168938e-03  1.99398107e-03\n",
      "   5.70149148e-05  9.26005427e-01  6.73808427e-02  1.71044744e-04\n",
      "   7.43197119e-03  2.70589704e-03  5.36094293e-03  2.46088700e-03\n",
      "   4.20924166e-02  1.03258634e-02  1.36065324e-03  1.44078231e-03\n",
      "   7.71550482e-03  1.62107271e-03  1.48546967e-03  1.85991898e-03\n",
      "   7.05444000e-03  2.91084254e-03  3.77531193e-03  2.22049979e-03\n",
      "   2.68124194e-04  1.70890650e-03  7.90658183e-03  7.38882477e-03\n",
      "   2.52406569e-03  3.15277069e-03  7.82953465e-03  3.15277069e-03\n",
      "   1.20054919e-02  3.16170817e-02  1.05554640e-03  2.79758318e-02\n",
      "   3.28868192e-02  1.76700008e-02  5.94804246e-04  7.21315719e-03\n",
      "   1.90167855e-02  2.82454970e-03  1.98011258e-03  6.67999069e-03\n",
      "   1.86762370e-03  1.09807644e-02  1.71507027e-03  2.24993181e-02\n",
      "   7.48744516e-03  8.69092215e-04  1.87841030e-03  3.80613080e-04\n",
      "   5.96191096e-03  2.93087481e-03  2.38229887e-03  4.90328267e-03\n",
      "   6.44114443e-04  1.37760362e-03  1.04784168e-02  6.17918401e-04\n",
      "   8.01907072e-03  1.20964076e-03  2.42220931e-02  5.12409990e-02\n",
      "   6.32711460e-03  9.81581101e-04  7.48436327e-03  6.22078949e-03\n",
      "   1.57191661e-02  4.21448086e-03  8.13772338e-03  5.21332053e-02\n",
      "   2.12187940e-03  1.18190377e-03  3.69826474e-03  3.28837373e-03\n",
      "   1.44448057e-02  2.46797534e-02  7.36370739e-02  1.45372623e-02\n",
      "   2.25933157e-02  3.10068680e-02  1.20039510e-03  1.42383193e-03\n",
      "   3.29453751e-03  2.01555429e-03  1.64264592e-03  3.10962427e-02\n",
      "   7.87114013e-03  6.60910729e-03  2.83841819e-03  3.56728453e-03\n",
      "   3.73832928e-03  1.82910010e-03  1.05092356e-03  2.22049979e-03\n",
      "   2.30186161e-02  5.64493885e-02  3.04737015e-02  3.73586377e-02\n",
      "   2.18305486e-02  1.42845476e-03  1.78441274e-03  7.51980498e-04\n",
      "   5.15753837e-03  9.09546608e-01  5.99534943e-02  8.21168867e-03\n",
      "   2.22882089e-02  8.77120531e-02  7.48759926e-02  6.02092910e-02\n",
      "   7.37187439e-02  8.66950303e-02  9.90533983e-02  8.49537640e-02\n",
      "   8.56718437e-02  9.97591505e-02  9.81658148e-02  6.40693548e-02\n",
      "   8.51155631e-02]\n",
      " [-9.79543373e-02 -5.19306736e-01  1.69755710e-01 -2.18705936e-02\n",
      "   1.63976949e-02  6.82300201e-02  3.24478386e-03  1.46709541e-03\n",
      "   5.66375562e-05  9.92997954e-01  1.66258633e-03  5.70943107e-04\n",
      "   9.97095041e-03  5.58428034e-03  9.28490518e-03  2.56056564e-03\n",
      "   1.74927833e-02  1.15796397e-02  1.81240180e-03  9.94993971e-03\n",
      "   2.10527277e-02  8.09094895e-03  4.00939087e-03  1.31801074e-02\n",
      "   7.30259071e-03  1.97317938e-04  1.02358680e-02  3.60836043e-04\n",
      "   1.51277086e-03  8.80896700e-03  7.08152154e-03  9.17254357e-03\n",
      "   1.45156575e-02  1.07382980e-02  1.45174846e-02  8.41707166e-03\n",
      "   1.55981657e-02  1.96130376e-02  3.85044031e-03  3.23062447e-02\n",
      "   2.10518142e-02  1.42817992e-02  4.27887602e-03  1.15220886e-02\n",
      "   1.14882888e-02  5.86381408e-03  1.33463661e-03  1.18299412e-02\n",
      "   9.51876347e-03  1.22474148e-02  3.44118829e-03  2.60094274e-02\n",
      "   1.52565133e-02  2.57609530e-03  7.49625461e-03  7.45423320e-04\n",
      "   1.47604779e-02  8.79709139e-04  8.49106588e-03  6.94449519e-03\n",
      "   4.40950780e-03  6.70058830e-03  1.37556181e-02  4.28070304e-03\n",
      "   1.35080571e-02  5.60620455e-03  5.58711222e-02  1.23122739e-02\n",
      "   1.74270106e-02  4.17747652e-03  3.13982168e-02  6.92074396e-03\n",
      "   9.43472065e-03  4.36017832e-03  7.78675047e-03  1.69455914e-02\n",
      "   3.75269485e-03  5.10925567e-03  1.00513392e-02  1.27388826e-02\n",
      "   5.02155881e-03  8.31019111e-03  2.05630869e-03  2.50876969e-02\n",
      "   2.75432090e-02  1.96431834e-02  1.05181423e-02  5.50023751e-03\n",
      "   1.14773267e-02  7.83973399e-03  5.62812877e-03  1.63582051e-02\n",
      "   1.07081522e-02  2.07028538e-02  1.02523112e-02  7.50995725e-03\n",
      "   8.92955019e-03  8.69569189e-03  3.00727153e-03  2.02798991e-03\n",
      "   1.80491102e-02  6.15705046e-03  9.97186392e-03  9.05744144e-03\n",
      "   1.59836665e-02  1.14645376e-03  1.20583184e-03  1.04962181e-03\n",
      "   5.19877955e-03  3.50696094e-02  3.56935360e-02  8.85251398e-01\n",
      "   4.39854569e-02  7.87106734e-02  7.98589542e-02  6.41283297e-02\n",
      "   7.63191070e-02  7.77999050e-02  8.81006321e-02  8.00836774e-02\n",
      "   8.02718603e-02  9.79738371e-02  1.10265100e-01  7.97054847e-02\n",
      "   8.67824387e-02]\n",
      " [ 4.82601988e+00 -8.21537644e-02  1.47518882e+00  1.16189608e+01\n",
      "   6.15310925e+00  1.79503529e+00  2.82359935e-03  1.04027344e-03\n",
      "   2.97220984e-04  9.63590429e-01  2.64526676e-02  5.79580918e-03\n",
      "   4.30970427e-03  1.63471541e-03  1.33749443e-03  1.18888394e-03\n",
      "   3.62609600e-02  4.60692525e-03  5.94441968e-04  2.67498885e-03\n",
      "   7.72774558e-03  1.48610492e-03  1.48610492e-04  3.65581810e-02\n",
      "   6.83608263e-03  8.91662951e-04  3.56665181e-03  4.45831476e-04\n",
      "   4.45831476e-04  1.63471541e-03  1.63471541e-03  4.01248328e-03\n",
      "   7.87635607e-03  5.94441968e-03  3.12082033e-03  1.04027344e-03\n",
      "   7.28191410e-03  1.45638282e-02  2.97220984e-04  4.32456531e-02\n",
      "   8.76801902e-03  7.72774558e-03  2.97220984e-04  3.56665181e-03\n",
      "   6.09303017e-03  1.63471541e-03  2.97220984e-04  3.26943082e-03\n",
      "   3.41804131e-03  9.06524001e-03  1.48610492e-04  2.46693417e-02\n",
      "   1.01055134e-02  3.41804131e-03  2.52637836e-03  2.97220984e-04\n",
      "   6.09303017e-03  5.94441968e-04  2.08054689e-03  3.12082033e-03\n",
      "   5.94441968e-04  8.91662951e-04  5.94441968e-03  4.45831476e-04\n",
      "   5.64719869e-03  5.94441968e-04  3.26943082e-02  6.01872492e-02\n",
      "   6.24164066e-03  1.48610492e-04  1.61985436e-02  6.68747214e-03\n",
      "   1.12943974e-02  3.71526230e-03  2.22915738e-03  4.29484322e-02\n",
      "   1.04027344e-03  7.43052460e-04  8.17357705e-03  4.60692525e-03\n",
      "   1.21860603e-02  1.51582702e-02  1.33452222e-01  1.53068807e-02\n",
      "   2.71957200e-02  4.50289790e-02  1.48610492e-03  1.04027344e-03\n",
      "   6.24164066e-03  1.18888394e-03  4.01248328e-03  3.34373607e-02\n",
      "   9.36246099e-03  5.05275672e-03  2.37776787e-03  1.78332590e-03\n",
      "   3.12082033e-03  1.33749443e-03  1.48610492e-04  1.63471541e-03\n",
      "   2.16971318e-02  5.00817358e-02  1.96165849e-02  1.85763115e-02\n",
      "   3.64095705e-02  4.16109377e-03  1.48610492e-03  8.02496656e-03\n",
      "   9.80829247e-03  1.56189627e-01  4.54302274e-01  2.37628177e-01\n",
      "   1.51879923e-01  5.18650617e-02  8.41135384e-02  7.75746768e-02\n",
      "   1.79521474e-01  6.41997325e-02  8.26274335e-02  1.06405112e-01\n",
      "   5.72150394e-02  9.05037896e-02  1.04919007e-01  3.06137613e-02\n",
      "   7.04413732e-02]]\n"
     ]
    }
   ],
   "source": [
    "kmeans.fit(X)\n",
    "labels = kmeans.labels_\n",
    "df_combined['cluster_label'] = labels\n",
    "cluster_centers = kmeans.cluster_centers_\n",
    "print(\"Centres des clusters :\")\n",
    "print(cluster_centers)"
   ]
  },
  {
   "cell_type": "code",
   "execution_count": null,
   "metadata": {},
   "outputs": [
    {
     "data": {
      "image/png": "[encoded data removed]",
      "text/plain": [
       "<Figure size 640x480 with 1 Axes>"
      ]
     },
     "metadata": {},
     "output_type": "display_data"
    }
   ],
   "source": [
    "plt.scatter(df_combined['valeur_fonciere'], df_combined['prix_au_m2'], c=df_combined['cluster_label'], cmap='viridis')\n",
    "plt.xlabel('Valeur foncière')\n",
    "plt.ylabel('Prix au mètre carré')\n",
    "plt.title('Clusters K-means')\n",
    "plt.show()"
   ]
  },
  {
   "cell_type": "code",
   "execution_count": null,
   "metadata": {},
   "outputs": [],
   "source": [
    "for cluster_label, cluster_data in df_combined.groupby('cluster_label'):\n",
    "    print(f\"\\nCluster {cluster_label}:\")\n",
    "    print(cluster_data[selected_features].describe())"
   ]
  },
  {
   "attachments": {},
   "cell_type": "markdown",
   "metadata": {},
   "source": [
    "Cluster 0 : Ce cluster a une valeur foncière moyenne de 241 379 €, avec une grande variation allant jusqu'à 7 950 152 €.\n",
    "La plupart des propriétés dans ce cluster ont une surface réelle bâtie relativement petite, avec une moyenne de 80 m².\n",
    "Le nombre moyen de pièces principales est d'environ 3, avec un maximum de 46.\n",
    "La surface du terrain est principalement nulle (0 m² en moyenne), indiquant que ces propriétés sont généralement des appartements ou des terrains sans terrain attenant.\n",
    "Le prix moyen au mètre carré dans ce cluster est d'environ 3 643 €, avec une variation allant jusqu'à 138 000 €.\n",
    "\n",
    "Cluster 1 : La valeur foncière moyenne dans ce cluster est de 273 463 €, avec une variabilité allant jusqu'à 4 403 860 €.\n",
    "Les propriétés de ce cluster ont en moyenne une surface réelle bâtie de 145 m², avec une certaine variabilité.\n",
    "Le nombre moyen de pièces principales est d'environ 4, avec un maximum de 158.\n",
    "La plupart des propriétés n'ont pas de surface de terrain ou ont une surface relativement petite (environ 685 m² en moyenne).\n",
    "Le prix moyen au mètre carré dans ce cluster est d'environ 2 387 €.\n",
    "\n",
    "Cluster 2 : Ce cluster présente des caractéristiques distinctes par rapport aux autres clusters, avec une valeur foncière moyenne élevée de 6 324 128 €.\n",
    "Les propriétés dans ce cluster ont une surface réelle bâtie élevée, avec une moyenne de 3 824 m² et une grande variabilité.\n",
    "Le nombre moyen de pièces principales est relativement élevé, avec une moyenne de 8,7 pièces.\n",
    "La surface du terrain est généralement plus grande dans ce cluster, avec une moyenne de 5 908 m².\n",
    "Le prix moyen au mètre carré est élevé dans ce cluster, atteignant environ 31 419 €.\n",
    "\n",
    "\n",
    "Voici des titres suggérés pour chaque cluster en fonction de leurs caractéristiques distinctives :\n",
    "\n",
    "- Cluster 0 : \"Petites propriétés urbaines abordables\"\n",
    "- Cluster 1 : \"Propriétés familiales de taille moyenne\"\n",
    "- Cluster 2 : \"Propriétés haut de gamme avec de grandes surfaces\""
   ]
  },
  {
   "attachments": {},
   "cell_type": "markdown",
   "metadata": {},
   "source": [
    "## Modèle supervisé : Random Forest"
   ]
  },
  {
   "attachments": {},
   "cell_type": "markdown",
   "metadata": {},
   "source": [
    "#### Sélection des données pour réaliser une prédiction du prix au mètre carré en Ile-de-France"
   ]
  },
  {
   "cell_type": "code",
   "execution_count": null,
   "metadata": {},
   "outputs": [],
   "source": [
    "df_idf = pd.concat([df_2018, df_2022])\n",
    "departements_idf = [75, 78, 77, 91, 92, 93, 94, 95]\n",
    "df_idf = df_idf[df_idf['code_departement'].isin(departements_idf)]\n",
    "df_idf = df_idf.drop(['month', 'day', 'nombre_de_lots', 'type_de_voie'], axis=1)"
   ]
  },
  {
   "attachments": {},
   "cell_type": "markdown",
   "metadata": {},
   "source": [
    "#### Division des données en fonctionnalités et cible"
   ]
  },
  {
   "cell_type": "code",
   "execution_count": null,
   "metadata": {},
   "outputs": [],
   "source": [
    "X = df_idf.drop('valeur_fonciere', axis=1)\n",
    "y = df_idf['valeur_fonciere']"
   ]
  },
  {
   "cell_type": "code",
   "execution_count": null,
   "metadata": {},
   "outputs": [],
   "source": [
    "num_cols = ['surface_reelle_bati', 'nombre_pieces_principales', 'surface_terrain','prix_au_m2']\n",
    "cat_cols = ['nature_mutation', 'code_postal', 'code_departement', 'type_local', 'year']"
   ]
  },
  {
   "cell_type": "code",
   "execution_count": null,
   "metadata": {},
   "outputs": [],
   "source": [
    "for feature in cat_cols:\n",
    "    encoder = LabelEncoder()\n",
    "    X[feature] = encoder.fit_transform(X[feature])"
   ]
  },
  {
   "cell_type": "code",
   "execution_count": null,
   "metadata": {},
   "outputs": [],
   "source": [
    "scaler = MinMaxScaler()\n",
    "X[num_cols] = scaler.fit_transform(X[num_cols])"
   ]
  },
  {
   "cell_type": "code",
   "execution_count": null,
   "metadata": {},
   "outputs": [],
   "source": [
    "X_train, X_test, y_train, y_test = train_test_split(X, y, test_size=0.2, random_state=42) \n"
   ]
  },
  {
   "cell_type": "code",
   "execution_count": null,
   "metadata": {},
   "outputs": [
    {
     "data": {
      "text/html": [
       "<style>#sk-container-id-1 {color: black;background-color: white;}#sk-container-id-1 pre{padding: 0;}#sk-container-id-1 div.sk-toggleable {background-color: white;}#sk-container-id-1 label.sk-toggleable__label {cursor: pointer;display: block;width: 100%;margin-bottom: 0;padding: 0.3em;box-sizing: border-box;text-align: center;}#sk-container-id-1 label.sk-toggleable__label-arrow:before {content: \"▸\";float: left;margin-right: 0.25em;color: #696969;}#sk-container-id-1 label.sk-toggleable__label-arrow:hover:before {color: black;}#sk-container-id-1 div.sk-estimator:hover label.sk-toggleable__label-arrow:before {color: black;}#sk-container-id-1 div.sk-toggleable__content {max-height: 0;max-width: 0;overflow: hidden;text-align: left;background-color: #f0f8ff;}#sk-container-id-1 div.sk-toggleable__content pre {margin: 0.2em;color: black;border-radius: 0.25em;background-color: #f0f8ff;}#sk-container-id-1 input.sk-toggleable__control:checked~div.sk-toggleable__content {max-height: 200px;max-width: 100%;overflow: auto;}#sk-container-id-1 input.sk-toggleable__control:checked~label.sk-toggleable__label-arrow:before {content: \"▾\";}#sk-container-id-1 div.sk-estimator input.sk-toggleable__control:checked~label.sk-toggleable__label {background-color: #d4ebff;}#sk-container-id-1 div.sk-label input.sk-toggleable__control:checked~label.sk-toggleable__label {background-color: #d4ebff;}#sk-container-id-1 input.sk-hidden--visually {border: 0;clip: rect(1px 1px 1px 1px);clip: rect(1px, 1px, 1px, 1px);height: 1px;margin: -1px;overflow: hidden;padding: 0;position: absolute;width: 1px;}#sk-container-id-1 div.sk-estimator {font-family: monospace;background-color: #f0f8ff;border: 1px dotted black;border-radius: 0.25em;box-sizing: border-box;margin-bottom: 0.5em;}#sk-container-id-1 div.sk-estimator:hover {background-color: #d4ebff;}#sk-container-id-1 div.sk-parallel-item::after {content: \"\";width: 100%;border-bottom: 1px solid gray;flex-grow: 1;}#sk-container-id-1 div.sk-label:hover label.sk-toggleable__label {background-color: #d4ebff;}#sk-container-id-1 div.sk-serial::before {content: \"\";position: absolute;border-left: 1px solid gray;box-sizing: border-box;top: 0;bottom: 0;left: 50%;z-index: 0;}#sk-container-id-1 div.sk-serial {display: flex;flex-direction: column;align-items: center;background-color: white;padding-right: 0.2em;padding-left: 0.2em;position: relative;}#sk-container-id-1 div.sk-item {position: relative;z-index: 1;}#sk-container-id-1 div.sk-parallel {display: flex;align-items: stretch;justify-content: center;background-color: white;position: relative;}#sk-container-id-1 div.sk-item::before, #sk-container-id-1 div.sk-parallel-item::before {content: \"\";position: absolute;border-left: 1px solid gray;box-sizing: border-box;top: 0;bottom: 0;left: 50%;z-index: -1;}#sk-container-id-1 div.sk-parallel-item {display: flex;flex-direction: column;z-index: 1;position: relative;background-color: white;}#sk-container-id-1 div.sk-parallel-item:first-child::after {align-self: flex-end;width: 50%;}#sk-container-id-1 div.sk-parallel-item:last-child::after {align-self: flex-start;width: 50%;}#sk-container-id-1 div.sk-parallel-item:only-child::after {width: 0;}#sk-container-id-1 div.sk-dashed-wrapped {border: 1px dashed gray;margin: 0 0.4em 0.5em 0.4em;box-sizing: border-box;padding-bottom: 0.4em;background-color: white;}#sk-container-id-1 div.sk-label label {font-family: monospace;font-weight: bold;display: inline-block;line-height: 1.2em;}#sk-container-id-1 div.sk-label-container {text-align: center;}#sk-container-id-1 div.sk-container {/* jupyter's `normalize.less` sets `[hidden] { display: none; }` but bootstrap.min.css set `[hidden] { display: none !important; }` so we also need the `!important` here to be able to override the default hidden behavior on the sphinx rendered scikit-learn.org. See: https://github.com/scikit-learn/scikit-learn/issues/21755 */display: inline-block !important;position: relative;}#sk-container-id-1 div.sk-text-repr-fallback {display: none;}</style><div id=\"sk-container-id-1\" class=\"sk-top-container\"><div class=\"sk-text-repr-fallback\"><pre>RandomForestRegressor()</pre><b>In a Jupyter environment, please rerun this cell to show the HTML representation or trust the notebook. <br />On GitHub, the HTML representation is unable to render, please try loading this page with nbviewer.org.</b></div><div class=\"sk-container\" hidden><div class=\"sk-item\"><div class=\"sk-estimator sk-toggleable\"><input class=\"sk-toggleable__control sk-hidden--visually\" id=\"sk-estimator-id-1\" type=\"checkbox\" checked><label for=\"sk-estimator-id-1\" class=\"sk-toggleable__label sk-toggleable__label-arrow\">RandomForestRegressor</label><div class=\"sk-toggleable__content\"><pre>RandomForestRegressor()</pre></div></div></div></div></div>"
      ],
      "text/plain": [
       "RandomForestRegressor()"
      ]
     },
     "execution_count": 28,
     "metadata": {},
     "output_type": "execute_result"
    }
   ],
   "source": [
    "model = RandomForestRegressor()\n",
    "model.fit(X_train, y_train)"
   ]
  },
  {
   "cell_type": "code",
   "execution_count": null,
   "metadata": {},
   "outputs": [],
   "source": [
    "y_pred = model.predict(X_test)"
   ]
  },
  {
   "cell_type": "code",
   "execution_count": null,
   "metadata": {},
   "outputs": [],
   "source": [
    "mse = mean_squared_error(y_test, y_pred)\n",
    "mae = mean_absolute_error(y_test, y_pred)\n",
    "r2 = r2_score(y_test, y_pred)"
   ]
  },
  {
   "cell_type": "code",
   "execution_count": null,
   "metadata": {},
   "outputs": [],
   "source": [
    "threshold = 0.01  # Marge d'erreur de 1%\n",
    "correct_predictions = sum(abs(y_pred - y_test) / y_test <= threshold)  \n",
    "percentage_correct = correct_predictions / len(y_test) * 100\n"
   ]
  },
  {
   "cell_type": "code",
   "execution_count": null,
   "metadata": {},
   "outputs": [
    {
     "name": "stdout",
     "output_type": "stream",
     "text": [
      "Mean Squared Error: 2838790103.8187337\n",
      "Mean Absolute Error: 3020.343738658771\n",
      "R-squared: 0.9953387696672349\n",
      "Percentage of Correct Predictions (within 1% error): 96.58994032395567\n"
     ]
    }
   ],
   "source": [
    "print(\"Mean Squared Error:\", mse)\n",
    "print(\"Mean Absolute Error:\", mae)\n",
    "print(\"R-squared:\", r2)\n",
    "print(\"Percentage of Correct Predictions (within 1% error):\", percentage_correct)\n"
   ]
  },
  {
   "cell_type": "code",
   "execution_count": null,
   "metadata": {},
   "outputs": [
    {
     "data": {
      "image/png": "[encoded data removed]",
      "text/plain": [
       "<Figure size 640x480 with 1 Axes>"
      ]
     },
     "metadata": {},
     "output_type": "display_data"
    }
   ],
   "source": [
    "plt.scatter(y_test, y_pred)\n",
    "plt.plot([min(y_test), max(y_test)], [min(y_test), max(y_test)], 'r--')  # Ligne de référence pour une prédiction parfaite\n",
    "plt.xlabel('Valeurs Réelles')\n",
    "plt.ylabel('Prédictions')\n",
    "plt.title('Évaluation du modèle Random Forest')\n",
    "plt.show()"
   ]
  }
 ],
 "metadata": {
  "kernelspec": {
   "display_name": "Python 3",
   "language": "python",
   "name": "python3"
  },
  "language_info": {
   "codemirror_mode": {
    "name": "ipython",
    "version": 3
   },
   "file_extension": ".py",
   "mimetype": "text/x-python",
   "name": "python",
   "nbconvert_exporter": "python",
   "pygments_lexer": "ipython3",
   "version": "3.11.3"
  },
  "orig_nbformat": 4
 },
 "nbformat": 4,
 "nbformat_minor": 2
}
