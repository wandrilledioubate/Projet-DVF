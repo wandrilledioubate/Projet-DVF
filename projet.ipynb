{
 "cells": [
  {
   "attachments": {},
   "cell_type": "markdown",
   "metadata": {},
   "source": [
    "# Projet - Atelier Data Science"
   ]
  },
  {
   "attachments": {},
   "cell_type": "markdown",
   "metadata": {},
   "source": [
    "## Introduction"
   ]
  },
  {
   "attachments": {},
   "cell_type": "markdown",
   "metadata": {},
   "source": [
    "Lorem Ipsum is simply dummy text of the printing and typesetting industry. Lorem Ipsum has been the industry's standard dummy text ever since the 1500s, when an unknown printer took a galley of type and scrambled it to make a type specimen book. It has survived not only five centuries, but also the leap into electronic typesetting, remaining essentially unchanged. It was popularised in the 1960s with the release of Letraset sheets containing Lorem Ipsum passages, and more recently with desktop publishing software like Aldus PageMaker including versions of Lorem Ipsum."
   ]
  },
  {
   "attachments": {},
   "cell_type": "markdown",
   "metadata": {},
   "source": [
    "### Importation des librairies "
   ]
  },
  {
   "cell_type": "code",
   "execution_count": 1,
   "metadata": {},
   "outputs": [],
   "source": [
    "import pandas as pd\n",
    "import matplotlib.pyplot as plt\n",
    "import seaborn as sns\n",
    "import numpy as np"
   ]
  },
  {
   "attachments": {},
   "cell_type": "markdown",
   "metadata": {},
   "source": [
    "# Préparation des données"
   ]
  },
  {
   "attachments": {},
   "cell_type": "markdown",
   "metadata": {},
   "source": [
    "Nous faisons le choix d'appliquer la préparation des données sur les années 2018 et 2022. En effet, nous pourrons donc voir l'impact du COVID sur les DVF."
   ]
  },
  {
   "attachments": {},
   "cell_type": "markdown",
   "metadata": {},
   "source": [
    "### Importation des données"
   ]
  },
  {
   "cell_type": "code",
   "execution_count": 3,
   "metadata": {},
   "outputs": [
    {
     "name": "stderr",
     "output_type": "stream",
     "text": [
      "/var/folders/bk/7b_bwg6x6gjc8hq_4skf_9c00000gn/T/ipykernel_43870/3164777433.py:1: DtypeWarning: Columns (18,23,24,26,28,41) have mixed types. Specify dtype option on import or set low_memory=False.\n",
      "  df_2022 = pd.read_csv(\"./valeursfoncieres-2022.txt\", sep=\"|\", decimal=\",\")\n"
     ]
    }
   ],
   "source": [
    "df_2022 = pd.read_csv(\"./valeursfoncieres-2022.txt\", sep=\"|\", decimal=\",\")\n",
    "# df_2018 = pd.read_csv(\"./valeursfoncieres-2018.txt\", sep=\"|\", decimal=\",\")"
   ]
  },
  {
   "cell_type": "code",
   "execution_count": 4,
   "metadata": {},
   "outputs": [
    {
     "name": "stdout",
     "output_type": "stream",
     "text": [
      "<class 'pandas.core.frame.DataFrame'>\n",
      "RangeIndex: 3803885 entries, 0 to 3803884\n",
      "Data columns (total 43 columns):\n",
      " #   Column                      Dtype  \n",
      "---  ------                      -----  \n",
      " 0   Identifiant de document     float64\n",
      " 1   Reference document          float64\n",
      " 2   1 Articles CGI              float64\n",
      " 3   2 Articles CGI              float64\n",
      " 4   3 Articles CGI              float64\n",
      " 5   4 Articles CGI              float64\n",
      " 6   5 Articles CGI              float64\n",
      " 7   No disposition              int64  \n",
      " 8   Date mutation               object \n",
      " 9   Nature mutation             object \n",
      " 10  Valeur fonciere             float64\n",
      " 11  No voie                     float64\n",
      " 12  B/T/Q                       object \n",
      " 13  Type de voie                object \n",
      " 14  Code voie                   object \n",
      " 15  Voie                        object \n",
      " 16  Code postal                 float64\n",
      " 17  Commune                     object \n",
      " 18  Code departement            object \n",
      " 19  Code commune                int64  \n",
      " 20  Prefixe de section          float64\n",
      " 21  Section                     object \n",
      " 22  No plan                     int64  \n",
      " 23  No Volume                   object \n",
      " 24  1er lot                     object \n",
      " 25  Surface Carrez du 1er lot   float64\n",
      " 26  2eme lot                    object \n",
      " 27  Surface Carrez du 2eme lot  float64\n",
      " 28  3eme lot                    object \n",
      " 29  Surface Carrez du 3eme lot  float64\n",
      " 30  4eme lot                    float64\n",
      " 31  Surface Carrez du 4eme lot  float64\n",
      " 32  5eme lot                    float64\n",
      " 33  Surface Carrez du 5eme lot  float64\n",
      " 34  Nombre de lots              int64  \n",
      " 35  Code type local             float64\n",
      " 36  Type local                  object \n",
      " 37  Identifiant local           float64\n",
      " 38  Surface reelle bati         float64\n",
      " 39  Nombre pieces principales   float64\n",
      " 40  Nature culture              object \n",
      " 41  Nature culture speciale     object \n",
      " 42  Surface terrain             float64\n",
      "dtypes: float64(23), int64(4), object(16)\n",
      "memory usage: 1.2+ GB\n",
      "None\n"
     ]
    }
   ],
   "source": [
    "print(df_2022.info())"
   ]
  },
  {
   "attachments": {},
   "cell_type": "markdown",
   "metadata": {},
   "source": [
    "Nous allons chercher le pourcentage de données manquantes par colonnes pour savoir quelles données nous devons garder."
   ]
  },
  {
   "cell_type": "code",
   "execution_count": 5,
   "metadata": {},
   "outputs": [
    {
     "data": {
      "text/plain": [
       "Identifiant de document       100.000000\n",
       "Reference document            100.000000\n",
       "1 Articles CGI                100.000000\n",
       "2 Articles CGI                100.000000\n",
       "3 Articles CGI                100.000000\n",
       "4 Articles CGI                100.000000\n",
       "5 Articles CGI                100.000000\n",
       "No disposition                  0.000000\n",
       "Date mutation                   0.000000\n",
       "Nature mutation                 0.000000\n",
       "Valeur fonciere                 0.649888\n",
       "No voie                        34.733621\n",
       "B/T/Q                          95.374019\n",
       "Type de voie                   36.984294\n",
       "Code voie                       1.026398\n",
       "Voie                            1.029290\n",
       "Code postal                     1.029816\n",
       "Commune                         0.000000\n",
       "Code departement                0.000000\n",
       "Code commune                    0.000000\n",
       "Prefixe de section             95.824295\n",
       "Section                         0.004075\n",
       "No plan                         0.000000\n",
       "No Volume                      99.765792\n",
       "1er lot                        66.631142\n",
       "Surface Carrez du 1er lot      90.332568\n",
       "2eme lot                       89.535278\n",
       "Surface Carrez du 2eme lot     96.741752\n",
       "3eme lot                       98.134670\n",
       "Surface Carrez du 3eme lot     99.635662\n",
       "4eme lot                       99.402611\n",
       "Surface Carrez du 4eme lot     99.911880\n",
       "5eme lot                       99.744130\n",
       "Surface Carrez du 5eme lot     99.967481\n",
       "Nombre de lots                  0.000000\n",
       "Code type local                39.918478\n",
       "Type local                     39.918478\n",
       "Identifiant local             100.000000\n",
       "Surface reelle bati            39.973396\n",
       "Nombre pieces principales      39.973396\n",
       "Nature culture                 33.830912\n",
       "Nature culture speciale        95.934262\n",
       "Surface terrain                33.830912\n",
       "dtype: float64"
      ]
     },
     "execution_count": 5,
     "metadata": {},
     "output_type": "execute_result"
    }
   ],
   "source": [
    "(df_2022.isnull().sum()/len(df_2022))*100"
   ]
  },
  {
   "cell_type": "code",
   "execution_count": 7,
   "metadata": {},
   "outputs": [
    {
     "name": "stdout",
     "output_type": "stream",
     "text": [
      "En 2022, 1% correspond à  38038  valeurs du dataset\n"
     ]
    }
   ],
   "source": [
    "print(\"En 2022, 1% correspond à \", int(len(df_2022)*0.01), \" valeurs du dataset\")\n",
    "# print(\"En 2018, 1% correspond à \", int(len(df_2018)*0.01), \" valeurs du dataset\")\n"
   ]
  },
  {
   "attachments": {},
   "cell_type": "markdown",
   "metadata": {},
   "source": [
    "On supprime les colonnes avec trop de données manquantes et celles qui ne serviront à rien dans le modèle de marchine learning et la data viz."
   ]
  },
  {
   "cell_type": "code",
   "execution_count": 8,
   "metadata": {},
   "outputs": [],
   "source": [
    "df_2022.drop(['Code type local', 'Identifiant de document', 'Reference document', '1 Articles CGI', '2 Articles CGI','3 Articles CGI','4 Articles CGI','5 Articles CGI', 'Prefixe de section', 'Identifiant local', 'Nature culture speciale', 'No voie', 'B/T/Q', 'No Volume', '1er lot', 'Surface Carrez du 1er lot', '2eme lot', 'Surface Carrez du 2eme lot', '3eme lot', 'Surface Carrez du 3eme lot', '4eme lot', 'Surface Carrez du 4eme lot', '5eme lot', 'Surface Carrez du 5eme lot'], axis=1, inplace=True)"
   ]
  },
  {
   "attachments": {},
   "cell_type": "markdown",
   "metadata": {},
   "source": [
    "On se rend compte que différentes colonnes ont un pourcentage élevée de données manquantes. On fait donc le choix de supprimer les lignes dont une des valeurs parmis ces colonnes est manquante. "
   ]
  },
  {
   "cell_type": "code",
   "execution_count": 9,
   "metadata": {},
   "outputs": [],
   "source": [
    "df_2022.dropna(subset=['Type de voie'], inplace=True)\n",
    "df_2022.dropna(subset=['Type local'], inplace=True)\n",
    "df_2022.dropna(subset=['Surface reelle bati'], inplace=True)\n",
    "df_2022.dropna(subset=['Valeur fonciere'], inplace=True)\n",
    "df_2022.dropna(subset=['Code postal'], inplace=True)"
   ]
  },
  {
   "attachments": {},
   "cell_type": "markdown",
   "metadata": {},
   "source": [
    "On vérifie ensuite le pourcentage de données manquantes par colonne. On remarque qu'il est maintenant de 0% sauf pour deux colonnes."
   ]
  },
  {
   "cell_type": "code",
   "execution_count": 10,
   "metadata": {},
   "outputs": [
    {
     "data": {
      "text/plain": [
       "No disposition                0.000000\n",
       "Date mutation                 0.000000\n",
       "Nature mutation               0.000000\n",
       "Valeur fonciere               0.000000\n",
       "Type de voie                  0.000000\n",
       "Code voie                     0.000000\n",
       "Voie                          0.000000\n",
       "Code postal                   0.000000\n",
       "Commune                       0.000000\n",
       "Code departement              0.000000\n",
       "Code commune                  0.000000\n",
       "Section                       0.005290\n",
       "No plan                       0.000000\n",
       "Nombre de lots                0.000000\n",
       "Type local                    0.000000\n",
       "Surface reelle bati           0.000000\n",
       "Nombre pieces principales     0.000000\n",
       "Nature culture               50.317449\n",
       "Surface terrain              50.317449\n",
       "dtype: float64"
      ]
     },
     "execution_count": 10,
     "metadata": {},
     "output_type": "execute_result"
    }
   ],
   "source": [
    "(df_2022.isnull().sum()/len(df_2022))*100"
   ]
  },
  {
   "attachments": {},
   "cell_type": "markdown",
   "metadata": {},
   "source": [
    "On remarque que la colonne 'Surface terrain' a environ 50% de valeurs manquantes. Cependant, il ne s'agit pas de réelle valeur manquante. Dans les faits, il s'agit des biens immobiliers qui n'ont pas de terrain. On remplace donc toutes les valeurs manquantes par 0. En effet, les biens sans terrain ont donc un terrain de 0 mètre carré."
   ]
  },
  {
   "cell_type": "code",
   "execution_count": 11,
   "metadata": {},
   "outputs": [],
   "source": [
    "df_2022['Surface terrain'] = df_2022['Surface terrain'].fillna(0)"
   ]
  },
  {
   "attachments": {},
   "cell_type": "markdown",
   "metadata": {},
   "source": [
    "On remarque que certains bien immobiliers composés de plusieurs types de bien (exemple : dépendance et appartement) sont affichés plusieurs fois. Pour éviter que cela fausse les résultats des algorithmes de prédictions, nous allons donc grouper ces lignes. "
   ]
  },
  {
   "cell_type": "code",
   "execution_count": null,
   "metadata": {},
   "outputs": [],
   "source": [
    "df_2022 = df_2022.groupby(['No disposition', 'Date mutation', 'Nature mutation', 'Valeur fonciere', 'Type de voie', 'Code voie', 'Voie', 'Commune', 'Code departement', 'Code commune', 'Section', 'Nature culture', 'Nombre de lots', 'Surface terrain'], as_index=False).agg({\n",
    "    'No disposition': 'first',\n",
    "    'Date mutation': 'first',\n",
    "    'Nature mutation': 'first',\n",
    "    'Valeur fonciere': 'first',\n",
    "    'Type de voie': 'first',\n",
    "    'Code postal': 'first',\n",
    "    'Code departement': 'first',\n",
    "    'Code commune': 'first',\n",
    "    'Section': 'first',\n",
    "    'No plan': 'first',\n",
    "    'Nombre de lots': 'first',\n",
    "    'Type local': lambda x: 'Multiple' if len(set(x)) > 1 else x.unique()[0],\n",
    "    'Surface reelle bati': 'sum',\n",
    "    'Nombre pieces principales': 'sum',\n",
    "    'Nature culture': 'first',\n",
    "    'Surface terrain': 'first'\n",
    "})"
   ]
  },
  {
   "attachments": {},
   "cell_type": "markdown",
   "metadata": {},
   "source": [
    "On remarque dans la documentation que les biens ayant plusieurs nature de culture s'affiche en plusieurs ligne, on va donc aussi les grouper."
   ]
  },
  {
   "cell_type": "code",
   "execution_count": 13,
   "metadata": {},
   "outputs": [],
   "source": [
    "df_2022 = df_2022.groupby(['No disposition', 'Date mutation', 'Nature mutation', 'Valeur fonciere', 'Type de voie', 'Voie', 'Commune', 'Code departement', 'Code commune', 'Section', 'Nombre de lots', 'Surface terrain'], as_index=False).agg({\n",
    "    'No disposition': 'first',\n",
    "    'Date mutation': 'first',\n",
    "    'Nature mutation': 'first',\n",
    "    'Valeur fonciere': 'first',\n",
    "    'Type de voie': 'first',\n",
    "    'Code postal': 'first',\n",
    "    'Code departement': 'first',\n",
    "    'Code commune': 'first',\n",
    "    'Section': 'first',\n",
    "    'No plan': 'first',\n",
    "    'Nombre de lots': 'first',\n",
    "    'Type local': 'first',\n",
    "    'Surface reelle bati': 'first',\n",
    "    'Nombre pieces principales': 'first',\n",
    "    'Nature culture': lambda x: 'Multiple' if len(set(x)) > 1 else x.unique()[0],\n",
    "    'Surface terrain': 'first'\n",
    "})"
   ]
  },
  {
   "attachments": {},
   "cell_type": "markdown",
   "metadata": {},
   "source": [
    "On vérifie donc le taux de valeurs manquantes, il n'y en a plus. "
   ]
  },
  {
   "cell_type": "code",
   "execution_count": 14,
   "metadata": {},
   "outputs": [
    {
     "data": {
      "text/plain": [
       "Voie                         0.0\n",
       "Commune                      0.0\n",
       "No disposition               0.0\n",
       "Date mutation                0.0\n",
       "Nature mutation              0.0\n",
       "Valeur fonciere              0.0\n",
       "Type de voie                 0.0\n",
       "Code postal                  0.0\n",
       "Code departement             0.0\n",
       "Code commune                 0.0\n",
       "Section                      0.0\n",
       "No plan                      0.0\n",
       "Nombre de lots               0.0\n",
       "Type local                   0.0\n",
       "Surface reelle bati          0.0\n",
       "Nombre pieces principales    0.0\n",
       "Nature culture               0.0\n",
       "Surface terrain              0.0\n",
       "dtype: float64"
      ]
     },
     "execution_count": 14,
     "metadata": {},
     "output_type": "execute_result"
    }
   ],
   "source": [
    "(df_2022.isnull().sum()/len(df_2022))*100"
   ]
  },
  {
   "attachments": {},
   "cell_type": "markdown",
   "metadata": {},
   "source": [
    "# Analyse Exploratoire des Données"
   ]
  }
 ],
 "metadata": {
  "kernelspec": {
   "display_name": "Python 3",
   "language": "python",
   "name": "python3"
  },
  "language_info": {
   "codemirror_mode": {
    "name": "ipython",
    "version": 3
   },
   "file_extension": ".py",
   "mimetype": "text/x-python",
   "name": "python",
   "nbconvert_exporter": "python",
   "pygments_lexer": "ipython3",
   "version": "3.11.3"
  },
  "orig_nbformat": 4
 },
 "nbformat": 4,
 "nbformat_minor": 2
}
