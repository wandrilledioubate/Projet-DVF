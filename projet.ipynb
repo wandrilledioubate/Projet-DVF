{
 "cells": [
  {
   "attachments": {},
   "cell_type": "markdown",
   "metadata": {},
   "source": [
    "# Projet - Atelier Data Science"
   ]
  },
  {
   "attachments": {},
   "cell_type": "markdown",
   "metadata": {},
   "source": [
    "## Introduction"
   ]
  },
  {
   "attachments": {},
   "cell_type": "markdown",
   "metadata": {},
   "source": [
    "Lorem Ipsum is simply dummy text of the printing and typesetting industry. Lorem Ipsum has been the industry's standard dummy text ever since the 1500s, when an unknown printer took a galley of type and scrambled it to make a type specimen book. It has survived not only five centuries, but also the leap into electronic typesetting, remaining essentially unchanged. It was popularised in the 1960s with the release of Letraset sheets containing Lorem Ipsum passages, and more recently with desktop publishing software like Aldus PageMaker including versions of Lorem Ipsum."
   ]
  },
  {
   "attachments": {},
   "cell_type": "markdown",
   "metadata": {},
   "source": [
    "### Importation des librairies "
   ]
  },
  {
   "cell_type": "code",
   "execution_count": 23,
   "metadata": {},
   "outputs": [],
   "source": [
    "import pandas as pd\n",
    "import matplotlib.pyplot as plt\n",
    "import seaborn as sns\n",
    "import numpy as np\n",
    "from sklearn.model_selection import train_test_split\n",
    "from sklearn.preprocessing import LabelEncoder, OneHotEncoder\n",
    "from sklearn.compose import ColumnTransformer\n",
    "from sklearn.pipeline import Pipeline\n",
    "from sklearn.linear_model import LinearRegression\n",
    "from sklearn.tree import DecisionTreeRegressor\n",
    "from sklearn.ensemble import RandomForestRegressor\n",
    "from sklearn.metrics import mean_squared_error, mean_absolute_error, r2_score\n",
    "\n"
   ]
  },
  {
   "attachments": {},
   "cell_type": "markdown",
   "metadata": {},
   "source": [
    "# Préparation des données"
   ]
  },
  {
   "attachments": {},
   "cell_type": "markdown",
   "metadata": {},
   "source": [
    "Nous faisons le choix d'appliquer la préparation des données sur les années 2018 et 2022. En effet, nous pourrons donc voir l'impact du COVID sur les DVF."
   ]
  },
  {
   "attachments": {},
   "cell_type": "markdown",
   "metadata": {},
   "source": [
    "### Importation des données"
   ]
  },
  {
   "cell_type": "code",
   "execution_count": 3,
   "metadata": {},
   "outputs": [
    {
     "name": "stderr",
     "output_type": "stream",
     "text": [
      "/var/folders/bk/7b_bwg6x6gjc8hq_4skf_9c00000gn/T/ipykernel_43870/3164777433.py:1: DtypeWarning: Columns (18,23,24,26,28,41) have mixed types. Specify dtype option on import or set low_memory=False.\n",
      "  df_2022 = pd.read_csv(\"./valeursfoncieres-2022.txt\", sep=\"|\", decimal=\",\")\n"
     ]
    }
   ],
   "source": [
    "df_2022 = pd.read_csv(\"./valeursfoncieres-2022.txt\", sep=\"|\", decimal=\",\")\n",
    "# df_2018 = pd.read_csv(\"./valeursfoncieres-2018.txt\", sep=\"|\", decimal=\",\")"
   ]
  },
  {
   "cell_type": "code",
   "execution_count": 4,
   "metadata": {},
   "outputs": [
    {
     "name": "stdout",
     "output_type": "stream",
     "text": [
      "<class 'pandas.core.frame.DataFrame'>\n",
      "RangeIndex: 3803885 entries, 0 to 3803884\n",
      "Data columns (total 43 columns):\n",
      " #   Column                      Dtype  \n",
      "---  ------                      -----  \n",
      " 0   Identifiant de document     float64\n",
      " 1   Reference document          float64\n",
      " 2   1 Articles CGI              float64\n",
      " 3   2 Articles CGI              float64\n",
      " 4   3 Articles CGI              float64\n",
      " 5   4 Articles CGI              float64\n",
      " 6   5 Articles CGI              float64\n",
      " 7   No disposition              int64  \n",
      " 8   Date mutation               object \n",
      " 9   Nature mutation             object \n",
      " 10  Valeur fonciere             float64\n",
      " 11  No voie                     float64\n",
      " 12  B/T/Q                       object \n",
      " 13  Type de voie                object \n",
      " 14  Code voie                   object \n",
      " 15  Voie                        object \n",
      " 16  Code postal                 float64\n",
      " 17  Commune                     object \n",
      " 18  Code departement            object \n",
      " 19  Code commune                int64  \n",
      " 20  Prefixe de section          float64\n",
      " 21  Section                     object \n",
      " 22  No plan                     int64  \n",
      " 23  No Volume                   object \n",
      " 24  1er lot                     object \n",
      " 25  Surface Carrez du 1er lot   float64\n",
      " 26  2eme lot                    object \n",
      " 27  Surface Carrez du 2eme lot  float64\n",
      " 28  3eme lot                    object \n",
      " 29  Surface Carrez du 3eme lot  float64\n",
      " 30  4eme lot                    float64\n",
      " 31  Surface Carrez du 4eme lot  float64\n",
      " 32  5eme lot                    float64\n",
      " 33  Surface Carrez du 5eme lot  float64\n",
      " 34  Nombre de lots              int64  \n",
      " 35  Code type local             float64\n",
      " 36  Type local                  object \n",
      " 37  Identifiant local           float64\n",
      " 38  Surface reelle bati         float64\n",
      " 39  Nombre pieces principales   float64\n",
      " 40  Nature culture              object \n",
      " 41  Nature culture speciale     object \n",
      " 42  Surface terrain             float64\n",
      "dtypes: float64(23), int64(4), object(16)\n",
      "memory usage: 1.2+ GB\n",
      "None\n"
     ]
    }
   ],
   "source": [
    "print(df_2022.info())"
   ]
  },
  {
   "attachments": {},
   "cell_type": "markdown",
   "metadata": {},
   "source": [
    "Nous allons chercher le pourcentage de données manquantes par colonnes pour savoir quelles données nous devons garder."
   ]
  },
  {
   "cell_type": "code",
   "execution_count": 5,
   "metadata": {},
   "outputs": [
    {
     "data": {
      "text/plain": [
       "Identifiant de document       100.000000\n",
       "Reference document            100.000000\n",
       "1 Articles CGI                100.000000\n",
       "2 Articles CGI                100.000000\n",
       "3 Articles CGI                100.000000\n",
       "4 Articles CGI                100.000000\n",
       "5 Articles CGI                100.000000\n",
       "No disposition                  0.000000\n",
       "Date mutation                   0.000000\n",
       "Nature mutation                 0.000000\n",
       "Valeur fonciere                 0.649888\n",
       "No voie                        34.733621\n",
       "B/T/Q                          95.374019\n",
       "Type de voie                   36.984294\n",
       "Code voie                       1.026398\n",
       "Voie                            1.029290\n",
       "Code postal                     1.029816\n",
       "Commune                         0.000000\n",
       "Code departement                0.000000\n",
       "Code commune                    0.000000\n",
       "Prefixe de section             95.824295\n",
       "Section                         0.004075\n",
       "No plan                         0.000000\n",
       "No Volume                      99.765792\n",
       "1er lot                        66.631142\n",
       "Surface Carrez du 1er lot      90.332568\n",
       "2eme lot                       89.535278\n",
       "Surface Carrez du 2eme lot     96.741752\n",
       "3eme lot                       98.134670\n",
       "Surface Carrez du 3eme lot     99.635662\n",
       "4eme lot                       99.402611\n",
       "Surface Carrez du 4eme lot     99.911880\n",
       "5eme lot                       99.744130\n",
       "Surface Carrez du 5eme lot     99.967481\n",
       "Nombre de lots                  0.000000\n",
       "Code type local                39.918478\n",
       "Type local                     39.918478\n",
       "Identifiant local             100.000000\n",
       "Surface reelle bati            39.973396\n",
       "Nombre pieces principales      39.973396\n",
       "Nature culture                 33.830912\n",
       "Nature culture speciale        95.934262\n",
       "Surface terrain                33.830912\n",
       "dtype: float64"
      ]
     },
     "execution_count": 5,
     "metadata": {},
     "output_type": "execute_result"
    }
   ],
   "source": [
    "(df_2022.isnull().sum()/len(df_2022))*100"
   ]
  },
  {
   "cell_type": "code",
   "execution_count": 7,
   "metadata": {},
   "outputs": [
    {
     "name": "stdout",
     "output_type": "stream",
     "text": [
      "En 2022, 1% correspond à  38038  valeurs du dataset\n"
     ]
    }
   ],
   "source": [
    "print(\"En 2022, 1% correspond à \", int(len(df_2022)*0.01), \" valeurs du dataset\")\n",
    "# print(\"En 2018, 1% correspond à \", int(len(df_2018)*0.01), \" valeurs du dataset\")\n"
   ]
  },
  {
   "attachments": {},
   "cell_type": "markdown",
   "metadata": {},
   "source": [
    "On supprime les colonnes avec trop de données manquantes et celles qui ne serviront à rien dans le modèle de marchine learning et la data viz."
   ]
  },
  {
   "cell_type": "code",
   "execution_count": 8,
   "metadata": {},
   "outputs": [],
   "source": [
    "df_2022.drop(['Code type local', 'Identifiant de document', 'Reference document', '1 Articles CGI', '2 Articles CGI','3 Articles CGI','4 Articles CGI','5 Articles CGI', 'Prefixe de section', 'Identifiant local', 'Nature culture speciale', 'No voie', 'B/T/Q', 'No Volume', '1er lot', 'Surface Carrez du 1er lot', '2eme lot', 'Surface Carrez du 2eme lot', '3eme lot', 'Surface Carrez du 3eme lot', '4eme lot', 'Surface Carrez du 4eme lot', '5eme lot', 'Surface Carrez du 5eme lot'], axis=1, inplace=True)"
   ]
  },
  {
   "attachments": {},
   "cell_type": "markdown",
   "metadata": {},
   "source": [
    "On se rend compte que différentes colonnes ont un pourcentage élevée de données manquantes. On fait donc le choix de supprimer les lignes dont une des valeurs parmis ces colonnes est manquante. "
   ]
  },
  {
   "cell_type": "code",
   "execution_count": 9,
   "metadata": {},
   "outputs": [],
   "source": [
    "df_2022.dropna(subset=['Type de voie'], inplace=True)\n",
    "df_2022.dropna(subset=['Type local'], inplace=True)\n",
    "df_2022.dropna(subset=['Surface reelle bati'], inplace=True)\n",
    "df_2022.dropna(subset=['Valeur fonciere'], inplace=True)\n",
    "df_2022.dropna(subset=['Code postal'], inplace=True)"
   ]
  },
  {
   "attachments": {},
   "cell_type": "markdown",
   "metadata": {},
   "source": [
    "On vérifie ensuite le pourcentage de données manquantes par colonne. On remarque qu'il est maintenant de 0% sauf pour deux colonnes."
   ]
  },
  {
   "cell_type": "code",
   "execution_count": 10,
   "metadata": {},
   "outputs": [
    {
     "data": {
      "text/plain": [
       "No disposition                0.000000\n",
       "Date mutation                 0.000000\n",
       "Nature mutation               0.000000\n",
       "Valeur fonciere               0.000000\n",
       "Type de voie                  0.000000\n",
       "Code voie                     0.000000\n",
       "Voie                          0.000000\n",
       "Code postal                   0.000000\n",
       "Commune                       0.000000\n",
       "Code departement              0.000000\n",
       "Code commune                  0.000000\n",
       "Section                       0.005290\n",
       "No plan                       0.000000\n",
       "Nombre de lots                0.000000\n",
       "Type local                    0.000000\n",
       "Surface reelle bati           0.000000\n",
       "Nombre pieces principales     0.000000\n",
       "Nature culture               50.317449\n",
       "Surface terrain              50.317449\n",
       "dtype: float64"
      ]
     },
     "execution_count": 10,
     "metadata": {},
     "output_type": "execute_result"
    }
   ],
   "source": [
    "(df_2022.isnull().sum()/len(df_2022))*100"
   ]
  },
  {
   "attachments": {},
   "cell_type": "markdown",
   "metadata": {},
   "source": [
    "On remarque que la colonne 'Surface terrain' a environ 50% de valeurs manquantes. Cependant, il ne s'agit pas de réelle valeur manquante. Dans les faits, il s'agit des biens immobiliers qui n'ont pas de terrain. On remplace donc toutes les valeurs manquantes par 0. En effet, les biens sans terrain ont donc un terrain de 0 mètre carré."
   ]
  },
  {
   "cell_type": "code",
   "execution_count": 11,
   "metadata": {},
   "outputs": [],
   "source": [
    "df_2022['Surface terrain'] = df_2022['Surface terrain'].fillna(0)"
   ]
  },
  {
   "attachments": {},
   "cell_type": "markdown",
   "metadata": {},
   "source": [
    "On remarque que certains bien immobiliers composés de plusieurs types de bien (exemple : dépendance et appartement) sont affichés plusieurs fois. Pour éviter que cela fausse les résultats des algorithmes de prédictions, nous allons donc grouper ces lignes. "
   ]
  },
  {
   "cell_type": "code",
   "execution_count": null,
   "metadata": {},
   "outputs": [],
   "source": [
    "df_2022 = df_2022.groupby(['No disposition', 'Date mutation', 'Nature mutation', 'Valeur fonciere', 'Type de voie', 'Code voie', 'Voie', 'Commune', 'Code departement', 'Code commune', 'Section', 'Nature culture', 'Nombre de lots', 'Surface terrain'], as_index=False).agg({\n",
    "    'No disposition': 'first',\n",
    "    'Date mutation': 'first',\n",
    "    'Nature mutation': 'first',\n",
    "    'Valeur fonciere': 'first',\n",
    "    'Type de voie': 'first',\n",
    "    'Code postal': 'first',\n",
    "    'Code departement': 'first',\n",
    "    'Code commune': 'first',\n",
    "    'Section': 'first',\n",
    "    'No plan': 'first',\n",
    "    'Nombre de lots': 'first',\n",
    "    'Type local': lambda x: 'Multiple' if len(set(x)) > 1 else x.unique()[0],\n",
    "    'Surface reelle bati': 'sum',\n",
    "    'Nombre pieces principales': 'sum',\n",
    "    'Nature culture': 'first',\n",
    "    'Surface terrain': 'first'\n",
    "})"
   ]
  },
  {
   "attachments": {},
   "cell_type": "markdown",
   "metadata": {},
   "source": [
    "On remarque dans la documentation que les biens ayant plusieurs nature de culture s'affiche en plusieurs ligne, on va donc aussi les grouper."
   ]
  },
  {
   "cell_type": "code",
   "execution_count": 13,
   "metadata": {},
   "outputs": [],
   "source": [
    "df_2022 = df_2022.groupby(['No disposition', 'Date mutation', 'Nature mutation', 'Valeur fonciere', 'Type de voie', 'Voie', 'Commune', 'Code departement', 'Code commune', 'Section', 'Nombre de lots', 'Surface terrain'], as_index=False).agg({\n",
    "    'No disposition': 'first',\n",
    "    'Date mutation': 'first',\n",
    "    'Nature mutation': 'first',\n",
    "    'Valeur fonciere': 'first',\n",
    "    'Type de voie': 'first',\n",
    "    'Code postal': 'first',\n",
    "    'Code departement': 'first',\n",
    "    'Code commune': 'first',\n",
    "    'Section': 'first',\n",
    "    'No plan': 'first',\n",
    "    'Nombre de lots': 'first',\n",
    "    'Type local': 'first',\n",
    "    'Surface reelle bati': 'first',\n",
    "    'Nombre pieces principales': 'first',\n",
    "    'Nature culture': lambda x: 'Multiple' if len(set(x)) > 1 else x.unique()[0],\n",
    "    'Surface terrain': 'first'\n",
    "})"
   ]
  },
  {
   "attachments": {},
   "cell_type": "markdown",
   "metadata": {},
   "source": [
    "On vérifie donc le taux de valeurs manquantes, il n'y en a plus. "
   ]
  },
  {
   "cell_type": "code",
   "execution_count": 14,
   "metadata": {},
   "outputs": [
    {
     "data": {
      "text/plain": [
       "Voie                         0.0\n",
       "Commune                      0.0\n",
       "No disposition               0.0\n",
       "Date mutation                0.0\n",
       "Nature mutation              0.0\n",
       "Valeur fonciere              0.0\n",
       "Type de voie                 0.0\n",
       "Code postal                  0.0\n",
       "Code departement             0.0\n",
       "Code commune                 0.0\n",
       "Section                      0.0\n",
       "No plan                      0.0\n",
       "Nombre de lots               0.0\n",
       "Type local                   0.0\n",
       "Surface reelle bati          0.0\n",
       "Nombre pieces principales    0.0\n",
       "Nature culture               0.0\n",
       "Surface terrain              0.0\n",
       "dtype: float64"
      ]
     },
     "execution_count": 14,
     "metadata": {},
     "output_type": "execute_result"
    }
   ],
   "source": [
    "(df_2022.isnull().sum()/len(df_2022))*100"
   ]
  },
  {
   "cell_type": "code",
   "execution_count": 19,
   "metadata": {},
   "outputs": [
    {
     "name": "stdout",
     "output_type": "stream",
     "text": [
      "Taille de l'ensemble d'apprentissage : 446253\n",
      "Taille de l'ensemble de test : 111564\n"
     ]
    }
   ],
   "source": [
    "train_data, test_data = train_test_split(df_2022, test_size=0.2, random_state=42)\n",
    "\n",
    "print(\"Taille de l'ensemble d'apprentissage :\", len(train_data))\n",
    "print(\"Taille de l'ensemble de test :\", len(test_data))\n"
   ]
  },
  {
   "attachments": {},
   "cell_type": "markdown",
   "metadata": {},
   "source": [
    "# Analyse Exploratoire des Données"
   ]
  },
  {
   "attachments": {},
   "cell_type": "markdown",
   "metadata": {},
   "source": [
    "ijdqjodiaz"
   ]
  },
  {
   "attachments": {},
   "cell_type": "markdown",
   "metadata": {},
   "source": [
    "# Modèle Machine Learning"
   ]
  },
  {
   "attachments": {},
   "cell_type": "markdown",
   "metadata": {},
   "source": [
    "### A - Apprentissage supervisé du prix des appartements"
   ]
  },
  {
   "attachments": {},
   "cell_type": "markdown",
   "metadata": {},
   "source": [
    "On commencer par affiner notre dataset aux seuls appartement de la région parisienne. "
   ]
  },
  {
   "cell_type": "code",
   "execution_count": 71,
   "metadata": {},
   "outputs": [],
   "source": [
    "colonnes_a_supprimer = ['No disposition', 'Code postal', 'Code commune', 'No plan', 'Voie', 'Commune', 'Nature mutation', 'Type de voie', 'Code departement', 'Section', 'Type local', 'Nature culture', 'Date mutation']\n",
    "\n",
    "data_paris_2022 = df_2022.drop(colonnes_a_supprimer, axis=1)\n"
   ]
  },
  {
   "cell_type": "code",
   "execution_count": 73,
   "metadata": {},
   "outputs": [],
   "source": [
    "train_data, test_data = train_test_split(data_paris_2022, test_size=0.2, random_state=42)"
   ]
  },
  {
   "cell_type": "code",
   "execution_count": 74,
   "metadata": {},
   "outputs": [],
   "source": [
    "X_train = train_data.drop('Valeur fonciere', axis=1)\n",
    "y_train = train_data['Valeur fonciere']\n",
    "\n",
    "X_test = test_data.drop('Valeur fonciere', axis=1)\n",
    "y_test = test_data['Valeur fonciere']"
   ]
  },
  {
   "cell_type": "code",
   "execution_count": 75,
   "metadata": {},
   "outputs": [],
   "source": [
    "linear_reg = LinearRegression()\n",
    "decision_tree_reg = DecisionTreeRegressor()\n",
    "random_forest_reg = RandomForestRegressor()"
   ]
  },
  {
   "cell_type": "code",
   "execution_count": 76,
   "metadata": {},
   "outputs": [
    {
     "data": {
      "text/html": [
       "<style>#sk-container-id-1 {color: black;background-color: white;}#sk-container-id-1 pre{padding: 0;}#sk-container-id-1 div.sk-toggleable {background-color: white;}#sk-container-id-1 label.sk-toggleable__label {cursor: pointer;display: block;width: 100%;margin-bottom: 0;padding: 0.3em;box-sizing: border-box;text-align: center;}#sk-container-id-1 label.sk-toggleable__label-arrow:before {content: \"▸\";float: left;margin-right: 0.25em;color: #696969;}#sk-container-id-1 label.sk-toggleable__label-arrow:hover:before {color: black;}#sk-container-id-1 div.sk-estimator:hover label.sk-toggleable__label-arrow:before {color: black;}#sk-container-id-1 div.sk-toggleable__content {max-height: 0;max-width: 0;overflow: hidden;text-align: left;background-color: #f0f8ff;}#sk-container-id-1 div.sk-toggleable__content pre {margin: 0.2em;color: black;border-radius: 0.25em;background-color: #f0f8ff;}#sk-container-id-1 input.sk-toggleable__control:checked~div.sk-toggleable__content {max-height: 200px;max-width: 100%;overflow: auto;}#sk-container-id-1 input.sk-toggleable__control:checked~label.sk-toggleable__label-arrow:before {content: \"▾\";}#sk-container-id-1 div.sk-estimator input.sk-toggleable__control:checked~label.sk-toggleable__label {background-color: #d4ebff;}#sk-container-id-1 div.sk-label input.sk-toggleable__control:checked~label.sk-toggleable__label {background-color: #d4ebff;}#sk-container-id-1 input.sk-hidden--visually {border: 0;clip: rect(1px 1px 1px 1px);clip: rect(1px, 1px, 1px, 1px);height: 1px;margin: -1px;overflow: hidden;padding: 0;position: absolute;width: 1px;}#sk-container-id-1 div.sk-estimator {font-family: monospace;background-color: #f0f8ff;border: 1px dotted black;border-radius: 0.25em;box-sizing: border-box;margin-bottom: 0.5em;}#sk-container-id-1 div.sk-estimator:hover {background-color: #d4ebff;}#sk-container-id-1 div.sk-parallel-item::after {content: \"\";width: 100%;border-bottom: 1px solid gray;flex-grow: 1;}#sk-container-id-1 div.sk-label:hover label.sk-toggleable__label {background-color: #d4ebff;}#sk-container-id-1 div.sk-serial::before {content: \"\";position: absolute;border-left: 1px solid gray;box-sizing: border-box;top: 0;bottom: 0;left: 50%;z-index: 0;}#sk-container-id-1 div.sk-serial {display: flex;flex-direction: column;align-items: center;background-color: white;padding-right: 0.2em;padding-left: 0.2em;position: relative;}#sk-container-id-1 div.sk-item {position: relative;z-index: 1;}#sk-container-id-1 div.sk-parallel {display: flex;align-items: stretch;justify-content: center;background-color: white;position: relative;}#sk-container-id-1 div.sk-item::before, #sk-container-id-1 div.sk-parallel-item::before {content: \"\";position: absolute;border-left: 1px solid gray;box-sizing: border-box;top: 0;bottom: 0;left: 50%;z-index: -1;}#sk-container-id-1 div.sk-parallel-item {display: flex;flex-direction: column;z-index: 1;position: relative;background-color: white;}#sk-container-id-1 div.sk-parallel-item:first-child::after {align-self: flex-end;width: 50%;}#sk-container-id-1 div.sk-parallel-item:last-child::after {align-self: flex-start;width: 50%;}#sk-container-id-1 div.sk-parallel-item:only-child::after {width: 0;}#sk-container-id-1 div.sk-dashed-wrapped {border: 1px dashed gray;margin: 0 0.4em 0.5em 0.4em;box-sizing: border-box;padding-bottom: 0.4em;background-color: white;}#sk-container-id-1 div.sk-label label {font-family: monospace;font-weight: bold;display: inline-block;line-height: 1.2em;}#sk-container-id-1 div.sk-label-container {text-align: center;}#sk-container-id-1 div.sk-container {/* jupyter's `normalize.less` sets `[hidden] { display: none; }` but bootstrap.min.css set `[hidden] { display: none !important; }` so we also need the `!important` here to be able to override the default hidden behavior on the sphinx rendered scikit-learn.org. See: https://github.com/scikit-learn/scikit-learn/issues/21755 */display: inline-block !important;position: relative;}#sk-container-id-1 div.sk-text-repr-fallback {display: none;}</style><div id=\"sk-container-id-1\" class=\"sk-top-container\"><div class=\"sk-text-repr-fallback\"><pre>RandomForestRegressor()</pre><b>In a Jupyter environment, please rerun this cell to show the HTML representation or trust the notebook. <br />On GitHub, the HTML representation is unable to render, please try loading this page with nbviewer.org.</b></div><div class=\"sk-container\" hidden><div class=\"sk-item\"><div class=\"sk-estimator sk-toggleable\"><input class=\"sk-toggleable__control sk-hidden--visually\" id=\"sk-estimator-id-1\" type=\"checkbox\" checked><label for=\"sk-estimator-id-1\" class=\"sk-toggleable__label sk-toggleable__label-arrow\">RandomForestRegressor</label><div class=\"sk-toggleable__content\"><pre>RandomForestRegressor()</pre></div></div></div></div></div>"
      ],
      "text/plain": [
       "RandomForestRegressor()"
      ]
     },
     "execution_count": 76,
     "metadata": {},
     "output_type": "execute_result"
    }
   ],
   "source": [
    "linear_reg.fit(X_train, y_train)\n",
    "decision_tree_reg.fit(X_train, y_train)\n",
    "random_forest_reg.fit(X_train, y_train)"
   ]
  },
  {
   "cell_type": "code",
   "execution_count": 77,
   "metadata": {},
   "outputs": [],
   "source": [
    "linear_reg_preds = linear_reg.predict(X_test)\n",
    "decision_tree_preds = decision_tree_reg.predict(X_test)\n",
    "random_forest_preds = random_forest_reg.predict(X_test)"
   ]
  },
  {
   "cell_type": "code",
   "execution_count": 78,
   "metadata": {},
   "outputs": [
    {
     "name": "stdout",
     "output_type": "stream",
     "text": [
      "Linear Regression RMSE: 4090657.4892193987\n",
      "Decision Tree RMSE: 4530272.867866043\n",
      "Random Forest RMSE: 4139455.135899413\n",
      "Linear Regression MAE: 336370.7107420583\n",
      "Decision Tree MAE: 403813.26807866496\n",
      "Random Forest MAE: 361029.55077989906\n",
      "Linear Regression R^2: 0.033262035900212705\n",
      "Decision Tree R^2: -0.18569028444123026\n",
      "Random Forest R^2: 0.010059941188250265\n"
     ]
    }
   ],
   "source": [
    "linear_reg_rmse = mean_squared_error(y_test, linear_reg_preds, squared=False)\n",
    "decision_tree_rmse = mean_squared_error(y_test, decision_tree_preds, squared=False)\n",
    "random_forest_rmse = mean_squared_error(y_test, random_forest_preds, squared=False)\n",
    "\n",
    "linear_reg_mae = mean_absolute_error(y_test, linear_reg_preds)\n",
    "decision_tree_mae = mean_absolute_error(y_test, decision_tree_preds)\n",
    "random_forest_mae = mean_absolute_error(y_test, random_forest_preds)\n",
    "\n",
    "linear_reg_r2 = r2_score(y_test, linear_reg_preds)\n",
    "decision_tree_r2 = r2_score(y_test, decision_tree_preds)\n",
    "random_forest_r2 = r2_score(y_test, random_forest_preds)\n",
    "\n",
    "print(\"Linear Regression RMSE:\", linear_reg_rmse)\n",
    "print(\"Decision Tree RMSE:\", decision_tree_rmse)\n",
    "print(\"Random Forest RMSE:\", random_forest_rmse)\n",
    "\n",
    "print(\"Linear Regression MAE:\", linear_reg_mae)\n",
    "print(\"Decision Tree MAE:\", decision_tree_mae)\n",
    "print(\"Random Forest MAE:\", random_forest_mae)\n",
    "\n",
    "print(\"Linear Regression R^2:\", linear_reg_r2)\n",
    "print(\"Decision Tree R^2:\", decision_tree_r2)\n",
    "print(\"Random Forest R^2:\", random_forest_r2)\n"
   ]
  }
 ],
 "metadata": {
  "kernelspec": {
   "display_name": "Python 3",
   "language": "python",
   "name": "python3"
  },
  "language_info": {
   "codemirror_mode": {
    "name": "ipython",
    "version": 3
   },
   "file_extension": ".py",
   "mimetype": "text/x-python",
   "name": "python",
   "nbconvert_exporter": "python",
   "pygments_lexer": "ipython3",
   "version": "3.11.3"
  },
  "orig_nbformat": 4
 },
 "nbformat": 4,
 "nbformat_minor": 2
}
